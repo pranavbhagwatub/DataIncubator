{
 "cells": [
  {
   "cell_type": "code",
   "execution_count": 45,
   "metadata": {},
   "outputs": [
    {
     "name": "stdout",
     "output_type": "stream",
     "text": [
      "[nltk_data] Downloading package punkt to\n",
      "[nltk_data]     C:\\Users\\anike\\AppData\\Roaming\\nltk_data...\n",
      "[nltk_data]   Package punkt is already up-to-date!\n",
      "[nltk_data] Downloading package averaged_perceptron_tagger to\n",
      "[nltk_data]     C:\\Users\\anike\\AppData\\Roaming\\nltk_data...\n",
      "[nltk_data]   Package averaged_perceptron_tagger is already up-to-\n",
      "[nltk_data]       date!\n",
      "[nltk_data] Downloading package maxent_ne_chunker to\n",
      "[nltk_data]     C:\\Users\\anike\\AppData\\Roaming\\nltk_data...\n",
      "[nltk_data]   Package maxent_ne_chunker is already up-to-date!\n",
      "[nltk_data] Downloading package words to\n",
      "[nltk_data]     C:\\Users\\anike\\AppData\\Roaming\\nltk_data...\n",
      "[nltk_data]   Package words is already up-to-date!\n",
      "[nltk_data] Downloading package treebank to\n",
      "[nltk_data]     C:\\Users\\anike\\AppData\\Roaming\\nltk_data...\n",
      "[nltk_data]   Package treebank is already up-to-date!\n",
      "[nltk_data] Downloading package maxent_treebank_pos_tagger to\n",
      "[nltk_data]     C:\\Users\\anike\\AppData\\Roaming\\nltk_data...\n",
      "[nltk_data]   Package maxent_treebank_pos_tagger is already up-to-\n",
      "[nltk_data]       date!\n"
     ]
    }
   ],
   "source": [
    "import feedparser as fp\n",
    "import json\n",
    "import newspaper\n",
    "from newspaper import Article\n",
    "from time import mktime\n",
    "from datetime import datetime\n",
    "import spacy\n",
    "from spacy import displacy\n",
    "nlp = spacy.load('en_core_web_sm')\n",
    "import pandas as pd\n",
    "from pandas.io.json import json_normalize\n",
    "import nltk\n",
    "import re\n",
    "from rouge import Rouge \n",
    "from collections import Counter\n",
    "from geotext import GeoText\n",
    "nltk.download('punkt')\n",
    "nltk.download('averaged_perceptron_tagger')\n",
    "nltk.downloader.download('maxent_ne_chunker')\n",
    "nltk.downloader.download('words')\n",
    "nltk.downloader.download('treebank')\n",
    "nltk.downloader.download('maxent_treebank_pos_tagger')\n",
    "import string\n",
    "from gensim.summarization.summarizer import summarize\n",
    "\n",
    "from sumy.parsers.plaintext import PlaintextParser #We're choosing a plaintext parser\n",
    "from sumy.nlp.tokenizers import Tokenizer \n",
    "from sumy.summarizers.lex_rank import LexRankSummarizer #We're choosing Lexrank, other algorithms are also built in\n",
    "from sumy.summarizers.lsa import LsaSummarizer\n",
    "from sumy.summarizers.luhn import LuhnSummarizer\n",
    "\n",
    "import articleDateExtractor\n",
    "\n",
    "\n",
    "global str"
   ]
  },
  {
   "cell_type": "code",
   "execution_count": 2,
   "metadata": {},
   "outputs": [],
   "source": [
    "from nltk.tag import StanfordNERTagger\n",
    "from nltk.tokenize import word_tokenize\n",
    "# nltk.internals.config_java(\"C:/Program Files/Java/jdk1.8.0_181/bin\")\n",
    "\n",
    "import os\n",
    "java_path = \"C:/Program Files/Java/jdk1.8.0_181/bin/java.exe\"\n",
    "os.environ['JAVAHOME'] = java_path\n",
    "\n",
    "st = StanfordNERTagger('C:/Users/anike/Downloads/stanford-ner-2018-10-16/classifiers/english.all.3class.distsim.crf.ser.gz','C:/Users/anike/Downloads/stanford-ner-2018-10-16/stanford-ner-3.9.2.jar', encoding='utf-8')\n"
   ]
  },
  {
   "cell_type": "markdown",
   "metadata": {},
   "source": [
    "# Classifier "
   ]
  },
  {
   "cell_type": "code",
   "execution_count": 3,
   "metadata": {},
   "outputs": [
    {
     "name": "stderr",
     "output_type": "stream",
     "text": [
      "C:\\Users\\anike\\Anaconda3\\lib\\site-packages\\sklearn\\ensemble\\weight_boosting.py:29: DeprecationWarning: numpy.core.umath_tests is an internal NumPy module and should not be imported. It will be removed in a future NumPy release.\n",
      "  from numpy.core.umath_tests import inner1d\n",
      "C:\\Users\\anike\\Anaconda3\\lib\\site-packages\\h5py\\__init__.py:36: FutureWarning: Conversion of the second argument of issubdtype from `float` to `np.floating` is deprecated. In future, it will be treated as `np.float64 == np.dtype(float).type`.\n",
      "  from ._conv import register_converters as _register_converters\n",
      "Using TensorFlow backend.\n"
     ]
    },
    {
     "name": "stdout",
     "output_type": "stream",
     "text": [
      "[nltk_data] Downloading package wordnet to\n",
      "[nltk_data]     C:\\Users\\anike\\AppData\\Roaming\\nltk_data...\n",
      "[nltk_data]   Package wordnet is already up-to-date!\n"
     ]
    }
   ],
   "source": [
    "from sklearn import model_selection, preprocessing, linear_model, naive_bayes, metrics, svm\n",
    "from sklearn.feature_extraction.text import TfidfVectorizer, CountVectorizer\n",
    "from sklearn import decomposition, ensemble\n",
    "\n",
    "import pandas as pd, numpy, textblob, string\n",
    "from keras.preprocessing import text, sequence\n",
    "from keras import layers, models, optimizers\n",
    "import nltk\n",
    "from nltk.corpus import stopwords\n",
    "from nltk.tokenize import word_tokenize\n",
    "nltk.download('wordnet')\n",
    "import spacy\n",
    "import re\n",
    "import csv\n",
    "from sklearn.naive_bayes import MultinomialNB\n",
    "from  sklearn.metrics  import accuracy_score"
   ]
  },
  {
   "cell_type": "code",
   "execution_count": 4,
   "metadata": {},
   "outputs": [],
   "source": [
    "lemma = nltk.WordNetLemmatizer()\n",
    "stop_words = set(stopwords.words('english'))\n",
    "def preprocess(rawText):\n",
    "    cleanText = re.sub(r'[^\\w\\s]','',rawText.lower())\n",
    "    tokens = word_tokenize(cleanText)\n",
    "    tokens = [token for token in tokens if not token in stop_words]\n",
    "    tokens = [lemma.lemmatize(token) for token in tokens ]\n",
    "    processedText = (\" \".join(tokens))\n",
    "    return processedText"
   ]
  },
  {
   "cell_type": "markdown",
   "metadata": {},
   "source": [
    "# Importing dataset"
   ]
  },
  {
   "cell_type": "code",
   "execution_count": 41,
   "metadata": {},
   "outputs": [],
   "source": [
    "data = open(r'C:\\Users\\anike\\indiaCorpus_01_04.csv')\n",
    "# data = open(r'C:\\Users\\anike\\indiaCorpus_2010_2019.csv')\n",
    "\n",
    "target, notes = [], []\n",
    "reader = csv.reader(data, delimiter=\",\")\n",
    "next(reader, None)\n",
    "for i, line in enumerate(reader):\n",
    "    target.append(line[1])\n",
    "    rawText = line[0]\n",
    "    notes.append(preprocess(rawText))\n",
    "\n",
    "dataSet = pd.DataFrame()\n",
    "dataSet['notes'] = notes\n",
    "dataSet['target'] = target\n",
    "dataSet = dataSet.sample(frac=1).reset_index(drop=True)\n",
    "\n",
    "train_x, valid_x, train_y, valid_y = model_selection.train_test_split(dataSet['notes'], dataSet['target'])\n",
    "\n",
    "encoder = preprocessing.LabelEncoder()\n",
    "train_y = encoder.fit_transform(train_y)\n",
    "valid_y = encoder.fit_transform(valid_y)\n",
    "\n",
    "vector = TfidfVectorizer(analyzer='word', token_pattern=r'\\w{1,}', max_features=5000)\n",
    "vector.fit(dataSet['notes'])\n",
    "train_x =  vector.transform(train_x)\n",
    "valid_x =  vector.transform(valid_x)"
   ]
  },
  {
   "cell_type": "markdown",
   "metadata": {},
   "source": [
    "# Naieve Bayes Event Classifier"
   ]
  },
  {
   "cell_type": "code",
   "execution_count": 42,
   "metadata": {},
   "outputs": [
    {
     "name": "stdout",
     "output_type": "stream",
     "text": [
      "0.8591639871382637\n"
     ]
    }
   ],
   "source": [
    "\n",
    "clf = MultinomialNB().fit(train_x, train_y)\n",
    "predicted = clf.predict(valid_x)\n",
    "print(accuracy_score(valid_y,predicted))"
   ]
  },
  {
   "cell_type": "markdown",
   "metadata": {},
   "source": [
    "# SVM Event Classifier"
   ]
  },
  {
   "cell_type": "code",
   "execution_count": 43,
   "metadata": {},
   "outputs": [
    {
     "data": {
      "text/plain": [
       "0.9421221864951769"
      ]
     },
     "execution_count": 43,
     "metadata": {},
     "output_type": "execute_result"
    }
   ],
   "source": [
    "from sklearn import svm\n",
    "SVM = svm.LinearSVC()\n",
    "SVM.fit(train_x, train_y)\n",
    "predict = SVM.predict(valid_x)\n",
    "accuracy_score(valid_y,predict)"
   ]
  },
  {
   "cell_type": "markdown",
   "metadata": {},
   "source": [
    "# Random Forest Event Classifier"
   ]
  },
  {
   "cell_type": "code",
   "execution_count": 44,
   "metadata": {},
   "outputs": [
    {
     "data": {
      "text/plain": [
       "0.9131832797427653"
      ]
     },
     "execution_count": 44,
     "metadata": {},
     "output_type": "execute_result"
    }
   ],
   "source": [
    "from sklearn.ensemble import RandomForestClassifier\n",
    "rf = RandomForestClassifier(n_estimators=10)\n",
    "rf.fit(train_x, train_y)\n",
    "predict = rf.predict(valid_x)\n",
    "accuracy_score(valid_y,predict)"
   ]
  },
  {
   "cell_type": "markdown",
   "metadata": {},
   "source": [
    "# Actor Classifier"
   ]
  },
  {
   "cell_type": "code",
   "execution_count": 13,
   "metadata": {},
   "outputs": [],
   "source": [
    "data = open(r'C:\\Users\\anike\\indiaActorsCorpus2_2010_2019.csv')\n",
    "\n",
    "target, notes = [], []\n",
    "reader = csv.reader(data, delimiter=\",\")\n",
    "next(reader, None)\n",
    "for i, line in enumerate(reader):\n",
    "    target.append(line[1])\n",
    "    rawText = line[0]\n",
    "    notes.append(preprocess(rawText))\n",
    "\n",
    "df = pd.DataFrame()\n",
    "df['notes'] = notes\n",
    "df['target'] = target\n",
    "df['target'] = df['target'].replace({'CPI (Maoist): Communist Party of India (Maoist)':'CPI'})\n",
    "df['target'] = df['target'].replace({'BJP: Bharatiya Janata Party':'BJP'})\n",
    "df['target'] = df['target'].replace({'INC: Indian National Congress':'INC'})\n",
    "df['target'] = df['target'].replace({'Protesters':'Protesters'})\n",
    "df['target'] = df['target'].replace({'Rioters':'Rioters'})\n",
    "\n",
    "df = df.sample(frac=1).reset_index(drop=True)\n",
    "\n",
    "actrain_x, acvalid_x, actrain_y, acvalid_y = model_selection.train_test_split(df['notes'], df['target'])\n",
    "\n",
    "acencoder = preprocessing.LabelEncoder()\n",
    "actrain_y = acencoder.fit_transform(actrain_y)\n",
    "acvalid_y = acencoder.fit_transform(acvalid_y)\n",
    "\n",
    "acvector = TfidfVectorizer(analyzer='word', token_pattern=r'\\w{1,}', max_features=3000)\n",
    "acvector.fit(df['notes'])\n",
    "actrain_x =  acvector.transform(actrain_x)\n",
    "acvalid_x =  acvector.transform(acvalid_x)\n",
    "\n"
   ]
  },
  {
   "cell_type": "markdown",
   "metadata": {},
   "source": [
    "# Random Forest Actor Classifier"
   ]
  },
  {
   "cell_type": "code",
   "execution_count": 14,
   "metadata": {},
   "outputs": [
    {
     "data": {
      "text/plain": [
       "0.9460240587408217"
      ]
     },
     "execution_count": 14,
     "metadata": {},
     "output_type": "execute_result"
    }
   ],
   "source": [
    "\n",
    "from sklearn.ensemble import RandomForestClassifier\n",
    "actorRf = RandomForestClassifier(n_estimators=50)\n",
    "actorRf.fit(actrain_x, actrain_y)\n",
    "acpredict = actorRf.predict(acvalid_x)\n",
    "accuracy_score(acvalid_y,acpredict)"
   ]
  },
  {
   "cell_type": "markdown",
   "metadata": {},
   "source": [
    "# SVM Actor Classifier"
   ]
  },
  {
   "cell_type": "code",
   "execution_count": 15,
   "metadata": {},
   "outputs": [
    {
     "data": {
      "text/plain": [
       "0.9524293079206374"
      ]
     },
     "execution_count": 15,
     "metadata": {},
     "output_type": "execute_result"
    }
   ],
   "source": [
    "from sklearn import svm\n",
    "acSVM = svm.LinearSVC()\n",
    "acSVM.fit(actrain_x, actrain_y)\n",
    "predict = acSVM.predict(acvalid_x)\n",
    "accuracy_score(acvalid_y,predict)"
   ]
  },
  {
   "cell_type": "code",
   "execution_count": 404,
   "metadata": {},
   "outputs": [],
   "source": []
  },
  {
   "cell_type": "code",
   "execution_count": 19,
   "metadata": {},
   "outputs": [],
   "source": [
    "LIMIT = 4\n",
    "data = {}\n",
    "data['newspapers'] = {}\n",
    "articlesData ={}\n",
    "collections = {\n",
    "    'total' : []\n",
    "}\n"
   ]
  },
  {
   "cell_type": "code",
   "execution_count": 87,
   "metadata": {},
   "outputs": [
    {
     "data": {
      "text/plain": [
       "{'TOI': {'rss': 'https://timesofindia.indiatimes.com/rssfeeds/-2128936835.cms',\n",
       "  'link': 'https://timesofindia.indiatimes.com/elections/news'},\n",
       " 'Hindustan Times': {'rss': 'https://www.hindustantimes.com/rss/india/rssfeed.xml',\n",
       "  'link': 'https://www.hindustantimes.com/'},\n",
       " 'India Today': {'rss': 'https://www.indiatoday.in/rss/1206578',\n",
       "  'link': 'https://indianexpress.com/?s=politics'},\n",
       " 'FPJ': {'rss': 'https://www.freepressjournal.in/feed',\n",
       "  'link': 'https://www.news18.com/politics/?ref=topnav'},\n",
       " 'Business Standard': {'rss': 'https://www.business-standard.com/rss/latest.rss',\n",
       "  'link': 'https://www.business-standard.com/lok-sabha-elections-2019'}}"
      ]
     },
     "execution_count": 87,
     "metadata": {},
     "output_type": "execute_result"
    }
   ],
   "source": [
    "# with open('newspaperLinks.json') as file:\n",
    "with open('newspaperLinks.json') as file:\n",
    "    sources = json.load(file)\n",
    "sources"
   ]
  },
  {
   "cell_type": "code",
   "execution_count": 74,
   "metadata": {},
   "outputs": [],
   "source": [
    "def summarizeText(text):\n",
    "    string=text\n",
    "    parser = PlaintextParser.from_string(string, Tokenizer(\"english\"))\n",
    "\n",
    "    summarizer = LexRankSummarizer()\n",
    "    summary_lex = summarizer(parser.document, 1) #Summarize the document with 5 sentences\n",
    "    summary_1=''\n",
    "    for line in summary_lex:\n",
    "        #summary_1+=line\n",
    "        #print(line)\n",
    "        summary_1+=str(line)\n",
    "#     print(summary_1)\n",
    "\n",
    "#     lsa_summarizer = LsaSummarizer()\n",
    "#     summary_lsa =lsa_summarizer(parser.document,3)\n",
    "#     summary_2=''\n",
    "#     print(\"\\n\")\n",
    "#     for line in summary_lsa:\n",
    "#         summary_2+=str(line)\n",
    "#     print(summary_2)\n",
    "\n",
    "#     luhn_summarizer = LuhnSummarizer() \n",
    "#     luhn_summarizer.stop_words = (\"I\",  \"me\", \"is\", \"am\", \"the\",\"than\", \"that\", \"this\",\"an\",\"you\", \"are\")\n",
    "#     summary_3=''\n",
    "#     print(\"\\n\")\n",
    "#     for line in luhn_summarizer(parser.document, 3):\n",
    "#         summary_3+=str(line)\n",
    "#     print(summary_3)\n",
    "    return summary_1\n",
    "\n",
    "def getLocation(ents, text):\n",
    "    loc = \"\"\n",
    "#     locList = []\n",
    "    items = [x.text for x in ents if x.label_ in 'GPE' or x.label_ in 'LOC']\n",
    "    loc_ = [Counter(items).most_common(1)]\n",
    "    places = GeoText(text)\n",
    "    topPlace = [Counter(places.cities).most_common(1)]\n",
    "    \n",
    "    places = (places.cities)\n",
    "#     text = re.sub(r'[^\\w\\s]','',text)\n",
    "#     tokenized_text = word_tokenize(text)\n",
    "#     classified_text = st.tag(tokenized_text)\n",
    "#     stanfordLocations =[]\n",
    "#     for x in classified_text:\n",
    "#         if(x[1]==\"LOCATION\"):\n",
    "#             stanfordLocations.append(x[0])\n",
    "#     topPlace = [Counter(stanfordLocations).most_common(1)]\n",
    "#     locList = [i for i in stanfordLocations if i in items]\n",
    "    locList = [i for i in places if i in items]\n",
    "    total = items+locList \n",
    "    location_ = [Counter(total).most_common(1)]\n",
    "    if len(location_) == 0:\n",
    "        if(len(loc_))!=0:\n",
    "            loc = loc_[0][0][0]\n",
    "        elif (len(topPlace)!=0):\n",
    "            loc = topPlace[0]\n",
    "        else:\n",
    "            loc = \"\"\n",
    "    else:\n",
    "        if(len(location_))!=0:\n",
    "            if(len(location_[0]))!=0:\n",
    "                if(len(location_[0][0]))!=0:\n",
    "                    loc = location_[0][0][0]\n",
    "        else:\n",
    "            loc = \"unknown\"\n",
    "    return loc\n",
    "\n",
    "def getEventType(tokens):\n",
    "#     eventTypes ={\n",
    "#     'civilianViolence':['rebel','violence','militia','war','rape','torture','kill','shoot','fight','murder','molest','attack','terror','battle','assault','blood'],\n",
    "#     'riotsProtest':['protest','riot']\n",
    "#     }\n",
    "    eventType = \"other\"\n",
    "    for event, types in eventTypes.items():\n",
    "        tag = [token for token in tokens if any(typ in token for typ in types)]\n",
    "        if len(tag) != 0:\n",
    "            eventType = event\n",
    "            break\n",
    "    return eventType"
   ]
  },
  {
   "cell_type": "markdown",
   "metadata": {},
   "source": [
    "# News Scraper and Classifier"
   ]
  },
  {
   "cell_type": "code",
   "execution_count": 88,
   "metadata": {
    "scrolled": false
   },
   "outputs": [
    {
     "name": "stdout",
     "output_type": "stream",
     "text": [
      "TOI\n",
      "EC issues notice to Congress leader and Punjab minister Navjot Singh Sidhu for remarks against PM Narendra Modi\n"
     ]
    },
    {
     "name": "stderr",
     "output_type": "stream",
     "text": [
      "C:\\Users\\anike\\Anaconda3\\lib\\site-packages\\sklearn\\preprocessing\\label.py:151: DeprecationWarning: The truth value of an empty array is ambiguous. Returning False, but in future this will result in an error. Use `array.size > 0` to check that an array is not empty.\n",
      "  if diff:\n"
     ]
    },
    {
     "name": "stdout",
     "output_type": "stream",
     "text": [
      "['Protests']\n"
     ]
    },
    {
     "name": "stderr",
     "output_type": "stream",
     "text": [
      "C:\\Users\\anike\\Anaconda3\\lib\\site-packages\\sklearn\\preprocessing\\label.py:151: DeprecationWarning: The truth value of an empty array is ambiguous. Returning False, but in future this will result in an error. Use `array.size > 0` to check that an array is not empty.\n",
      "  if diff:\n"
     ]
    },
    {
     "name": "stdout",
     "output_type": "stream",
     "text": [
      "Extracting date from https://timesofindia.indiatimes.com/india/ec-issues-notice-to-congress-leader-and-punjab-minister-navjot-singh-sidhu-for-remarks-against-pm-narendra-modi/articleshow/69274346.cms\n",
      "Discoms check theft, raise billing under UDAY but still losses mount in poll season\n"
     ]
    },
    {
     "name": "stderr",
     "output_type": "stream",
     "text": [
      "C:\\Users\\anike\\Anaconda3\\lib\\site-packages\\sklearn\\preprocessing\\label.py:151: DeprecationWarning: The truth value of an empty array is ambiguous. Returning False, but in future this will result in an error. Use `array.size > 0` to check that an array is not empty.\n",
      "  if diff:\n"
     ]
    },
    {
     "name": "stdout",
     "output_type": "stream",
     "text": [
      "['Protests']\n"
     ]
    },
    {
     "name": "stderr",
     "output_type": "stream",
     "text": [
      "C:\\Users\\anike\\Anaconda3\\lib\\site-packages\\sklearn\\preprocessing\\label.py:151: DeprecationWarning: The truth value of an empty array is ambiguous. Returning False, but in future this will result in an error. Use `array.size > 0` to check that an array is not empty.\n",
      "  if diff:\n"
     ]
    },
    {
     "name": "stdout",
     "output_type": "stream",
     "text": [
      "Extracting date from https://timesofindia.indiatimes.com/india/discoms-check-theft-raise-billing-under-uday-but-still-losses-mount-in-poll-season/articleshow/69274252.cms\n",
      "Modi seeking to change 'soft & crony'state: Niti Aayog V-C\n"
     ]
    },
    {
     "name": "stderr",
     "output_type": "stream",
     "text": [
      "C:\\Users\\anike\\Anaconda3\\lib\\site-packages\\sklearn\\preprocessing\\label.py:151: DeprecationWarning: The truth value of an empty array is ambiguous. Returning False, but in future this will result in an error. Use `array.size > 0` to check that an array is not empty.\n",
      "  if diff:\n"
     ]
    },
    {
     "name": "stdout",
     "output_type": "stream",
     "text": [
      "['Protests']\n"
     ]
    },
    {
     "name": "stderr",
     "output_type": "stream",
     "text": [
      "C:\\Users\\anike\\Anaconda3\\lib\\site-packages\\sklearn\\preprocessing\\label.py:151: DeprecationWarning: The truth value of an empty array is ambiguous. Returning False, but in future this will result in an error. Use `array.size > 0` to check that an array is not empty.\n",
      "  if diff:\n"
     ]
    },
    {
     "name": "stdout",
     "output_type": "stream",
     "text": [
      "Extracting date from https://timesofindia.indiatimes.com/india/modi-seeking-to-change-soft-cronystate-niti-aayog-v-c/articleshow/69273294.cms\n",
      "Reservations for SCs and the STs is not against the principle of meritocracy: SC\n"
     ]
    },
    {
     "name": "stderr",
     "output_type": "stream",
     "text": [
      "C:\\Users\\anike\\Anaconda3\\lib\\site-packages\\sklearn\\preprocessing\\label.py:151: DeprecationWarning: The truth value of an empty array is ambiguous. Returning False, but in future this will result in an error. Use `array.size > 0` to check that an array is not empty.\n",
      "  if diff:\n"
     ]
    },
    {
     "name": "stdout",
     "output_type": "stream",
     "text": [
      "['Protests']\n"
     ]
    },
    {
     "name": "stderr",
     "output_type": "stream",
     "text": [
      "C:\\Users\\anike\\Anaconda3\\lib\\site-packages\\sklearn\\preprocessing\\label.py:151: DeprecationWarning: The truth value of an empty array is ambiguous. Returning False, but in future this will result in an error. Use `array.size > 0` to check that an array is not empty.\n",
      "  if diff:\n"
     ]
    },
    {
     "name": "stdout",
     "output_type": "stream",
     "text": [
      "Extracting date from https://timesofindia.indiatimes.com/india/reservations-for-scs-and-the-sts-is-not-against-the-principle-of-meritocracy-sc/articleshow/69273233.cms\n",
      "SC to hear on May 13 plea to advance poll timing in Lok Sabha election\n"
     ]
    },
    {
     "name": "stderr",
     "output_type": "stream",
     "text": [
      "C:\\Users\\anike\\Anaconda3\\lib\\site-packages\\sklearn\\preprocessing\\label.py:151: DeprecationWarning: The truth value of an empty array is ambiguous. Returning False, but in future this will result in an error. Use `array.size > 0` to check that an array is not empty.\n",
      "  if diff:\n"
     ]
    },
    {
     "name": "stdout",
     "output_type": "stream",
     "text": [
      "['Protests']\n"
     ]
    },
    {
     "name": "stderr",
     "output_type": "stream",
     "text": [
      "C:\\Users\\anike\\Anaconda3\\lib\\site-packages\\sklearn\\preprocessing\\label.py:151: DeprecationWarning: The truth value of an empty array is ambiguous. Returning False, but in future this will result in an error. Use `array.size > 0` to check that an array is not empty.\n",
      "  if diff:\n"
     ]
    },
    {
     "name": "stdout",
     "output_type": "stream",
     "text": [
      "Extracting date from https://timesofindia.indiatimes.com/india/sc-to-hear-on-may-13-plea-to-advance-poll-timing-in-lok-sabha-election/articleshow/69273038.cms\n",
      "Will urge Guv to release all seven convicts in Rajiv Gandhi assasination case: Panneerselvam\n"
     ]
    },
    {
     "name": "stderr",
     "output_type": "stream",
     "text": [
      "C:\\Users\\anike\\Anaconda3\\lib\\site-packages\\sklearn\\preprocessing\\label.py:151: DeprecationWarning: The truth value of an empty array is ambiguous. Returning False, but in future this will result in an error. Use `array.size > 0` to check that an array is not empty.\n",
      "  if diff:\n"
     ]
    },
    {
     "name": "stdout",
     "output_type": "stream",
     "text": [
      "['Protests']\n"
     ]
    },
    {
     "name": "stderr",
     "output_type": "stream",
     "text": [
      "C:\\Users\\anike\\Anaconda3\\lib\\site-packages\\sklearn\\preprocessing\\label.py:151: DeprecationWarning: The truth value of an empty array is ambiguous. Returning False, but in future this will result in an error. Use `array.size > 0` to check that an array is not empty.\n",
      "  if diff:\n"
     ]
    },
    {
     "name": "stdout",
     "output_type": "stream",
     "text": [
      "Extracting date from https://timesofindia.indiatimes.com/india/will-urge-guv-to-release-rajiv-gandhi-case-convicts-panneerselvam/articleshow/69272062.cms\n",
      "Hindustan Times\n",
      "Hyderabad’s Rajiv Gandhi international airport among top 10 airports in the world\n"
     ]
    },
    {
     "name": "stderr",
     "output_type": "stream",
     "text": [
      "C:\\Users\\anike\\Anaconda3\\lib\\site-packages\\sklearn\\preprocessing\\label.py:151: DeprecationWarning: The truth value of an empty array is ambiguous. Returning False, but in future this will result in an error. Use `array.size > 0` to check that an array is not empty.\n",
      "  if diff:\n"
     ]
    },
    {
     "name": "stdout",
     "output_type": "stream",
     "text": [
      "['Protests']\n"
     ]
    },
    {
     "name": "stderr",
     "output_type": "stream",
     "text": [
      "C:\\Users\\anike\\Anaconda3\\lib\\site-packages\\sklearn\\preprocessing\\label.py:151: DeprecationWarning: The truth value of an empty array is ambiguous. Returning False, but in future this will result in an error. Use `array.size > 0` to check that an array is not empty.\n",
      "  if diff:\n"
     ]
    },
    {
     "name": "stdout",
     "output_type": "stream",
     "text": [
      "Extracting date from https://www.hindustantimes.com/world-news/the-best-and-worst-airlines-and-airports-of-2019/story-x9Olq8kRLQGVjiKIwhCf2N.html\n",
      "Exception in extractArticlePublishedDate for https://www.hindustantimes.com/world-news/the-best-and-worst-airlines-and-airports-of-2019/story-x9Olq8kRLQGVjiKIwhCf2N.html\n",
      "()\n",
      "'NoneType' object has no attribute 'strftime'\n",
      "‘Why should I slap PM’: Mamata Banerjee explains ‘slap of democracy’ remark\n"
     ]
    },
    {
     "name": "stderr",
     "output_type": "stream",
     "text": [
      "C:\\Users\\anike\\Anaconda3\\lib\\site-packages\\sklearn\\preprocessing\\label.py:151: DeprecationWarning: The truth value of an empty array is ambiguous. Returning False, but in future this will result in an error. Use `array.size > 0` to check that an array is not empty.\n",
      "  if diff:\n"
     ]
    },
    {
     "name": "stdout",
     "output_type": "stream",
     "text": [
      "['Protests']\n"
     ]
    },
    {
     "name": "stderr",
     "output_type": "stream",
     "text": [
      "C:\\Users\\anike\\Anaconda3\\lib\\site-packages\\sklearn\\preprocessing\\label.py:151: DeprecationWarning: The truth value of an empty array is ambiguous. Returning False, but in future this will result in an error. Use `array.size > 0` to check that an array is not empty.\n",
      "  if diff:\n"
     ]
    },
    {
     "name": "stdout",
     "output_type": "stream",
     "text": [
      "Extracting date from https://www.hindustantimes.com/lok-sabha-elections/why-should-i-slap-pm-mamata-banerjee-explains-slap-of-democracy-remark/story-E8ot2zWWPht8DxO9jOADAK.html\n",
      "Exception in extractArticlePublishedDate for https://www.hindustantimes.com/lok-sabha-elections/why-should-i-slap-pm-mamata-banerjee-explains-slap-of-democracy-remark/story-E8ot2zWWPht8DxO9jOADAK.html\n",
      "()\n",
      "'NoneType' object has no attribute 'strftime'\n",
      "You must `download()` an article first!\n",
      "India Today\n",
      "Supreme Court reserves order in Rafale review, contempt case against Rahul Gandhi\n"
     ]
    },
    {
     "name": "stderr",
     "output_type": "stream",
     "text": [
      "C:\\Users\\anike\\Anaconda3\\lib\\site-packages\\sklearn\\preprocessing\\label.py:151: DeprecationWarning: The truth value of an empty array is ambiguous. Returning False, but in future this will result in an error. Use `array.size > 0` to check that an array is not empty.\n",
      "  if diff:\n"
     ]
    },
    {
     "name": "stdout",
     "output_type": "stream",
     "text": [
      "['Protests']\n"
     ]
    },
    {
     "name": "stderr",
     "output_type": "stream",
     "text": [
      "C:\\Users\\anike\\Anaconda3\\lib\\site-packages\\sklearn\\preprocessing\\label.py:151: DeprecationWarning: The truth value of an empty array is ambiguous. Returning False, but in future this will result in an error. Use `array.size > 0` to check that an array is not empty.\n",
      "  if diff:\n"
     ]
    },
    {
     "name": "stdout",
     "output_type": "stream",
     "text": [
      "Extracting date from https://www.indiatoday.in/india/story/supreme-court-rafale-order-review-rahul-gandhi-contempt-case-1522043-2019-05-10?utm_source=rss\n",
      "BJP demands CBI probe into Alwar gangrape case\n"
     ]
    },
    {
     "name": "stderr",
     "output_type": "stream",
     "text": [
      "C:\\Users\\anike\\Anaconda3\\lib\\site-packages\\sklearn\\preprocessing\\label.py:151: DeprecationWarning: The truth value of an empty array is ambiguous. Returning False, but in future this will result in an error. Use `array.size > 0` to check that an array is not empty.\n",
      "  if diff:\n"
     ]
    },
    {
     "name": "stdout",
     "output_type": "stream",
     "text": [
      "['Protests']\n"
     ]
    },
    {
     "name": "stderr",
     "output_type": "stream",
     "text": [
      "C:\\Users\\anike\\Anaconda3\\lib\\site-packages\\sklearn\\preprocessing\\label.py:151: DeprecationWarning: The truth value of an empty array is ambiguous. Returning False, but in future this will result in an error. Use `array.size > 0` to check that an array is not empty.\n",
      "  if diff:\n"
     ]
    },
    {
     "name": "stdout",
     "output_type": "stream",
     "text": [
      "Extracting date from https://www.indiatoday.in/india/story/bjp-demands-cbi-probe-into-alwar-gang-rape-case-1521404-2019-05-09?utm_source=rss\n",
      "Alwar gangrape case: All six accused arrested, BJP holds protests\n"
     ]
    },
    {
     "name": "stderr",
     "output_type": "stream",
     "text": [
      "C:\\Users\\anike\\Anaconda3\\lib\\site-packages\\sklearn\\preprocessing\\label.py:151: DeprecationWarning: The truth value of an empty array is ambiguous. Returning False, but in future this will result in an error. Use `array.size > 0` to check that an array is not empty.\n",
      "  if diff:\n"
     ]
    },
    {
     "name": "stdout",
     "output_type": "stream",
     "text": [
      "['Protests']\n"
     ]
    },
    {
     "name": "stderr",
     "output_type": "stream",
     "text": [
      "C:\\Users\\anike\\Anaconda3\\lib\\site-packages\\sklearn\\preprocessing\\label.py:151: DeprecationWarning: The truth value of an empty array is ambiguous. Returning False, but in future this will result in an error. Use `array.size > 0` to check that an array is not empty.\n",
      "  if diff:\n"
     ]
    },
    {
     "name": "stdout",
     "output_type": "stream",
     "text": [
      "Extracting date from https://www.indiatoday.in/india/story/alwar-gangrape-case-nsix-accused-arrested-bjp-protests-1521325-2019-05-09?utm_source=rss\n",
      "BJP respects Rajiv Gandhi, but has right to question his govt: Nirmala Sitharaman\n"
     ]
    },
    {
     "name": "stderr",
     "output_type": "stream",
     "text": [
      "C:\\Users\\anike\\Anaconda3\\lib\\site-packages\\sklearn\\preprocessing\\label.py:151: DeprecationWarning: The truth value of an empty array is ambiguous. Returning False, but in future this will result in an error. Use `array.size > 0` to check that an array is not empty.\n",
      "  if diff:\n"
     ]
    },
    {
     "name": "stdout",
     "output_type": "stream",
     "text": [
      "['Protests']\n"
     ]
    },
    {
     "name": "stderr",
     "output_type": "stream",
     "text": [
      "C:\\Users\\anike\\Anaconda3\\lib\\site-packages\\sklearn\\preprocessing\\label.py:151: DeprecationWarning: The truth value of an empty array is ambiguous. Returning False, but in future this will result in an error. Use `array.size > 0` to check that an array is not empty.\n",
      "  if diff:\n"
     ]
    },
    {
     "name": "stdout",
     "output_type": "stream",
     "text": [
      "Extracting date from https://www.indiatoday.in/india/story/bjp-respects-rajiv-gandhi-but-has-right-to-question-his-govt-nirmala-sitharaman-1521052-2019-05-09?utm_source=rss\n",
      "Rajiv Gandhi assassination case: SC dismisses pleas opposing Tamil Nadu govt's move to release convicts\n"
     ]
    },
    {
     "name": "stderr",
     "output_type": "stream",
     "text": [
      "C:\\Users\\anike\\Anaconda3\\lib\\site-packages\\sklearn\\preprocessing\\label.py:151: DeprecationWarning: The truth value of an empty array is ambiguous. Returning False, but in future this will result in an error. Use `array.size > 0` to check that an array is not empty.\n",
      "  if diff:\n"
     ]
    },
    {
     "name": "stdout",
     "output_type": "stream",
     "text": [
      "['Protests']\n"
     ]
    },
    {
     "name": "stderr",
     "output_type": "stream",
     "text": [
      "C:\\Users\\anike\\Anaconda3\\lib\\site-packages\\sklearn\\preprocessing\\label.py:151: DeprecationWarning: The truth value of an empty array is ambiguous. Returning False, but in future this will result in an error. Use `array.size > 0` to check that an array is not empty.\n",
      "  if diff:\n"
     ]
    },
    {
     "name": "stdout",
     "output_type": "stream",
     "text": [
      "Extracting date from https://www.indiatoday.in/india/story/rajiv-gandhi-assassination-case-sc-dismisses-pleas-opposing-tamil-nadu-govt-move-to-release-convicts-1520799-2019-05-09?utm_source=rss\n",
      "BJP's latest on Rajiv Gandhi: Instruction to kill came from his office in 1984 riots\n"
     ]
    },
    {
     "name": "stderr",
     "output_type": "stream",
     "text": [
      "C:\\Users\\anike\\Anaconda3\\lib\\site-packages\\sklearn\\preprocessing\\label.py:151: DeprecationWarning: The truth value of an empty array is ambiguous. Returning False, but in future this will result in an error. Use `array.size > 0` to check that an array is not empty.\n",
      "  if diff:\n"
     ]
    },
    {
     "name": "stdout",
     "output_type": "stream",
     "text": [
      "['Protests']\n"
     ]
    },
    {
     "name": "stderr",
     "output_type": "stream",
     "text": [
      "C:\\Users\\anike\\Anaconda3\\lib\\site-packages\\sklearn\\preprocessing\\label.py:151: DeprecationWarning: The truth value of an empty array is ambiguous. Returning False, but in future this will result in an error. Use `array.size > 0` to check that an array is not empty.\n",
      "  if diff:\n"
     ]
    },
    {
     "name": "stdout",
     "output_type": "stream",
     "text": [
      "Extracting date from https://www.indiatoday.in/india/story/rajiv-gandhi-bjp-1984-riots-modi-rahul-prime-minister-office-1520739-2019-05-09?utm_source=rss\n",
      "ED team in London to oppose Nirav Modi's bail application\n"
     ]
    },
    {
     "name": "stderr",
     "output_type": "stream",
     "text": [
      "C:\\Users\\anike\\Anaconda3\\lib\\site-packages\\sklearn\\preprocessing\\label.py:151: DeprecationWarning: The truth value of an empty array is ambiguous. Returning False, but in future this will result in an error. Use `array.size > 0` to check that an array is not empty.\n",
      "  if diff:\n"
     ]
    },
    {
     "name": "stdout",
     "output_type": "stream",
     "text": [
      "['Protests']\n"
     ]
    },
    {
     "name": "stderr",
     "output_type": "stream",
     "text": [
      "C:\\Users\\anike\\Anaconda3\\lib\\site-packages\\sklearn\\preprocessing\\label.py:151: DeprecationWarning: The truth value of an empty array is ambiguous. Returning False, but in future this will result in an error. Use `array.size > 0` to check that an array is not empty.\n",
      "  if diff:\n"
     ]
    },
    {
     "name": "stdout",
     "output_type": "stream",
     "text": [
      "Extracting date from https://www.indiatoday.in/india/story/ed-team-in-london-to-oppose-nirav-modi-bail-application-1520049-2019-05-08?utm_source=rss\n",
      "Alwar gangrape takes political turn, BJP alleges Gehlot govt suppressed case due to polls\n"
     ]
    },
    {
     "name": "stderr",
     "output_type": "stream",
     "text": [
      "C:\\Users\\anike\\Anaconda3\\lib\\site-packages\\sklearn\\preprocessing\\label.py:151: DeprecationWarning: The truth value of an empty array is ambiguous. Returning False, but in future this will result in an error. Use `array.size > 0` to check that an array is not empty.\n",
      "  if diff:\n"
     ]
    },
    {
     "name": "stdout",
     "output_type": "stream",
     "text": [
      "['Protests']\n"
     ]
    },
    {
     "name": "stderr",
     "output_type": "stream",
     "text": [
      "C:\\Users\\anike\\Anaconda3\\lib\\site-packages\\sklearn\\preprocessing\\label.py:151: DeprecationWarning: The truth value of an empty array is ambiguous. Returning False, but in future this will result in an error. Use `array.size > 0` to check that an array is not empty.\n",
      "  if diff:\n"
     ]
    },
    {
     "name": "stdout",
     "output_type": "stream",
     "text": [
      "Extracting date from https://www.indiatoday.in/india/story/alwar-gang-rape-takes-political-turn-bjp-alleges-gehlot-govt-suppressed-case-due-to-polls-1519626-2019-05-07?utm_source=rss\n",
      "Woman gangraped in Rajasthan: Alwar SP removed, BJP calls it worse than Nirbhaya case\n"
     ]
    },
    {
     "name": "stderr",
     "output_type": "stream",
     "text": [
      "C:\\Users\\anike\\Anaconda3\\lib\\site-packages\\sklearn\\preprocessing\\label.py:151: DeprecationWarning: The truth value of an empty array is ambiguous. Returning False, but in future this will result in an error. Use `array.size > 0` to check that an array is not empty.\n",
      "  if diff:\n"
     ]
    },
    {
     "name": "stdout",
     "output_type": "stream",
     "text": [
      "['Protests']\n"
     ]
    },
    {
     "name": "stderr",
     "output_type": "stream",
     "text": [
      "C:\\Users\\anike\\Anaconda3\\lib\\site-packages\\sklearn\\preprocessing\\label.py:151: DeprecationWarning: The truth value of an empty array is ambiguous. Returning False, but in future this will result in an error. Use `array.size > 0` to check that an array is not empty.\n",
      "  if diff:\n"
     ]
    },
    {
     "name": "stdout",
     "output_type": "stream",
     "text": [
      "Extracting date from https://www.indiatoday.in/india/story/alwar-dalit-woman-gangraped-sp-sho-ashok-gehlot-bjp-nirbhaya-1519611-2019-05-07?utm_source=rss\n",
      "Rajiv Gandhi assassination case: Nalini approaches high court against TN governor\n"
     ]
    },
    {
     "name": "stderr",
     "output_type": "stream",
     "text": [
      "C:\\Users\\anike\\Anaconda3\\lib\\site-packages\\sklearn\\preprocessing\\label.py:151: DeprecationWarning: The truth value of an empty array is ambiguous. Returning False, but in future this will result in an error. Use `array.size > 0` to check that an array is not empty.\n",
      "  if diff:\n"
     ]
    },
    {
     "name": "stdout",
     "output_type": "stream",
     "text": [
      "['Protests']\n"
     ]
    },
    {
     "name": "stderr",
     "output_type": "stream",
     "text": [
      "C:\\Users\\anike\\Anaconda3\\lib\\site-packages\\sklearn\\preprocessing\\label.py:151: DeprecationWarning: The truth value of an empty array is ambiguous. Returning False, but in future this will result in an error. Use `array.size > 0` to check that an array is not empty.\n",
      "  if diff:\n"
     ]
    },
    {
     "name": "stdout",
     "output_type": "stream",
     "text": [
      "Extracting date from https://www.indiatoday.in/india/story/rajiv-gandhi-assassination-case-convict-nalini-high-court-tn-governor-1519441-2019-05-07?utm_source=rss\n",
      "2 choke to death while cleaning septic tank in Delhi's Rohini, 3 hospitalised\n"
     ]
    },
    {
     "name": "stderr",
     "output_type": "stream",
     "text": [
      "C:\\Users\\anike\\Anaconda3\\lib\\site-packages\\sklearn\\preprocessing\\label.py:151: DeprecationWarning: The truth value of an empty array is ambiguous. Returning False, but in future this will result in an error. Use `array.size > 0` to check that an array is not empty.\n",
      "  if diff:\n"
     ]
    },
    {
     "name": "stdout",
     "output_type": "stream",
     "text": [
      "['Protests']\n"
     ]
    },
    {
     "name": "stderr",
     "output_type": "stream",
     "text": [
      "C:\\Users\\anike\\Anaconda3\\lib\\site-packages\\sklearn\\preprocessing\\label.py:151: DeprecationWarning: The truth value of an empty array is ambiguous. Returning False, but in future this will result in an error. Use `array.size > 0` to check that an array is not empty.\n",
      "  if diff:\n"
     ]
    },
    {
     "name": "stdout",
     "output_type": "stream",
     "text": [
      "Extracting date from https://www.indiatoday.in/india/story/delhi-rohini-two-labourers-choke-to-death-septic-tank-prem-nagar-1519440-2019-05-07?utm_source=rss\n",
      "In RTI reply, Centre says no records of surgical strikes during UPA regime\n"
     ]
    },
    {
     "name": "stderr",
     "output_type": "stream",
     "text": [
      "C:\\Users\\anike\\Anaconda3\\lib\\site-packages\\sklearn\\preprocessing\\label.py:151: DeprecationWarning: The truth value of an empty array is ambiguous. Returning False, but in future this will result in an error. Use `array.size > 0` to check that an array is not empty.\n",
      "  if diff:\n"
     ]
    },
    {
     "name": "stdout",
     "output_type": "stream",
     "text": [
      "['Protests']\n"
     ]
    },
    {
     "name": "stderr",
     "output_type": "stream",
     "text": [
      "C:\\Users\\anike\\Anaconda3\\lib\\site-packages\\sklearn\\preprocessing\\label.py:151: DeprecationWarning: The truth value of an empty array is ambiguous. Returning False, but in future this will result in an error. Use `array.size > 0` to check that an array is not empty.\n",
      "  if diff:\n"
     ]
    },
    {
     "name": "stdout",
     "output_type": "stream",
     "text": [
      "Extracting date from https://www.indiatoday.in/india/story/rti-reply-upa-surgical-strikes-1519181-2019-05-07?utm_source=rss\n",
      "Rafale and Rahul Gandhi: Curious case of missing dates in Supreme Court\n"
     ]
    },
    {
     "name": "stderr",
     "output_type": "stream",
     "text": [
      "C:\\Users\\anike\\Anaconda3\\lib\\site-packages\\sklearn\\preprocessing\\label.py:151: DeprecationWarning: The truth value of an empty array is ambiguous. Returning False, but in future this will result in an error. Use `array.size > 0` to check that an array is not empty.\n",
      "  if diff:\n"
     ]
    },
    {
     "name": "stdout",
     "output_type": "stream",
     "text": [
      "['Protests']\n"
     ]
    },
    {
     "name": "stderr",
     "output_type": "stream",
     "text": [
      "C:\\Users\\anike\\Anaconda3\\lib\\site-packages\\sklearn\\preprocessing\\label.py:151: DeprecationWarning: The truth value of an empty array is ambiguous. Returning False, but in future this will result in an error. Use `array.size > 0` to check that an array is not empty.\n",
      "  if diff:\n"
     ]
    },
    {
     "name": "stdout",
     "output_type": "stream",
     "text": [
      "Extracting date from https://www.indiatoday.in/india/story/rafale-and-rahul-gandhi-curious-case-of-missing-dates-in-supreme-court-1519035-2019-05-07?utm_source=rss\n",
      "BJP leaders should say I am Pagal, not I am Chowkidar: Siddaramaiah\n"
     ]
    },
    {
     "name": "stderr",
     "output_type": "stream",
     "text": [
      "C:\\Users\\anike\\Anaconda3\\lib\\site-packages\\sklearn\\preprocessing\\label.py:151: DeprecationWarning: The truth value of an empty array is ambiguous. Returning False, but in future this will result in an error. Use `array.size > 0` to check that an array is not empty.\n",
      "  if diff:\n"
     ]
    },
    {
     "name": "stdout",
     "output_type": "stream",
     "text": [
      "['Protests']\n"
     ]
    },
    {
     "name": "stderr",
     "output_type": "stream",
     "text": [
      "C:\\Users\\anike\\Anaconda3\\lib\\site-packages\\sklearn\\preprocessing\\label.py:151: DeprecationWarning: The truth value of an empty array is ambiguous. Returning False, but in future this will result in an error. Use `array.size > 0` to check that an array is not empty.\n",
      "  if diff:\n"
     ]
    },
    {
     "name": "stdout",
     "output_type": "stream",
     "text": [
      "Extracting date from https://www.indiatoday.in/india/story/bjp-leaders-should-say-i-am-pagal-not-i-am-chowkidar-siddaramaiah-1518479-2019-05-06?utm_source=rss\n",
      "Modi blames Mamata's arrogance for failed Cyclone Fani meet, Didi says don't need expiry PM\n"
     ]
    },
    {
     "name": "stderr",
     "output_type": "stream",
     "text": [
      "C:\\Users\\anike\\Anaconda3\\lib\\site-packages\\sklearn\\preprocessing\\label.py:151: DeprecationWarning: The truth value of an empty array is ambiguous. Returning False, but in future this will result in an error. Use `array.size > 0` to check that an array is not empty.\n",
      "  if diff:\n"
     ]
    },
    {
     "name": "stdout",
     "output_type": "stream",
     "text": [
      "['Protests']\n"
     ]
    },
    {
     "name": "stderr",
     "output_type": "stream",
     "text": [
      "C:\\Users\\anike\\Anaconda3\\lib\\site-packages\\sklearn\\preprocessing\\label.py:151: DeprecationWarning: The truth value of an empty array is ambiguous. Returning False, but in future this will result in an error. Use `array.size > 0` to check that an array is not empty.\n",
      "  if diff:\n"
     ]
    },
    {
     "name": "stdout",
     "output_type": "stream",
     "text": [
      "Extracting date from https://www.indiatoday.in/india/story/pm-modi-blames-mamatas-arrogance-for-failed-cyclone-fani-meet-didi-hits-back-1518298-2019-05-06?utm_source=rss\n",
      "PM conducts aerial survey of areas affected by Fani in Odisha\n"
     ]
    },
    {
     "name": "stderr",
     "output_type": "stream",
     "text": [
      "C:\\Users\\anike\\Anaconda3\\lib\\site-packages\\sklearn\\preprocessing\\label.py:151: DeprecationWarning: The truth value of an empty array is ambiguous. Returning False, but in future this will result in an error. Use `array.size > 0` to check that an array is not empty.\n",
      "  if diff:\n"
     ]
    },
    {
     "name": "stdout",
     "output_type": "stream",
     "text": [
      "['Protests']\n"
     ]
    },
    {
     "name": "stderr",
     "output_type": "stream",
     "text": [
      "C:\\Users\\anike\\Anaconda3\\lib\\site-packages\\sklearn\\preprocessing\\label.py:151: DeprecationWarning: The truth value of an empty array is ambiguous. Returning False, but in future this will result in an error. Use `array.size > 0` to check that an array is not empty.\n",
      "  if diff:\n"
     ]
    },
    {
     "name": "stdout",
     "output_type": "stream",
     "text": [
      "Extracting date from https://www.indiatoday.in/india/story/narendra-modi-fani-1518041-2019-05-06?utm_source=rss\n",
      "PM Modi praises Odisha CM Naveen Patnaik on tackling Cyclone Fani\n"
     ]
    },
    {
     "name": "stderr",
     "output_type": "stream",
     "text": [
      "C:\\Users\\anike\\Anaconda3\\lib\\site-packages\\sklearn\\preprocessing\\label.py:151: DeprecationWarning: The truth value of an empty array is ambiguous. Returning False, but in future this will result in an error. Use `array.size > 0` to check that an array is not empty.\n",
      "  if diff:\n"
     ]
    },
    {
     "name": "stdout",
     "output_type": "stream",
     "text": [
      "['Protests']\n"
     ]
    },
    {
     "name": "stderr",
     "output_type": "stream",
     "text": [
      "C:\\Users\\anike\\Anaconda3\\lib\\site-packages\\sklearn\\preprocessing\\label.py:151: DeprecationWarning: The truth value of an empty array is ambiguous. Returning False, but in future this will result in an error. Use `array.size > 0` to check that an array is not empty.\n",
      "  if diff:\n"
     ]
    },
    {
     "name": "stdout",
     "output_type": "stream",
     "text": [
      "Extracting date from https://www.indiatoday.in/india/story/odisha-naveen-patnaik-modi-1518187-2019-05-06?utm_source=rss\n",
      "Cyclone Fani at centre of storm: PM Modi called Mamata Banerjee but calls not returned, says Centre\n"
     ]
    },
    {
     "name": "stderr",
     "output_type": "stream",
     "text": [
      "C:\\Users\\anike\\Anaconda3\\lib\\site-packages\\sklearn\\preprocessing\\label.py:151: DeprecationWarning: The truth value of an empty array is ambiguous. Returning False, but in future this will result in an error. Use `array.size > 0` to check that an array is not empty.\n",
      "  if diff:\n"
     ]
    },
    {
     "name": "stdout",
     "output_type": "stream",
     "text": [
      "['Protests']\n"
     ]
    },
    {
     "name": "stderr",
     "output_type": "stream",
     "text": [
      "C:\\Users\\anike\\Anaconda3\\lib\\site-packages\\sklearn\\preprocessing\\label.py:151: DeprecationWarning: The truth value of an empty array is ambiguous. Returning False, but in future this will result in an error. Use `array.size > 0` to check that an array is not empty.\n",
      "  if diff:\n"
     ]
    },
    {
     "name": "stdout",
     "output_type": "stream",
     "text": [
      "Extracting date from https://www.indiatoday.in/india/story/cyclone-fani-west-bengal-pm-modi-mamata-banerjee-1517526-2019-05-05?utm_source=rss\n",
      "BJP leader shot dead by terrorists in J&K's Nowgam\n"
     ]
    },
    {
     "name": "stderr",
     "output_type": "stream",
     "text": [
      "C:\\Users\\anike\\Anaconda3\\lib\\site-packages\\sklearn\\preprocessing\\label.py:151: DeprecationWarning: The truth value of an empty array is ambiguous. Returning False, but in future this will result in an error. Use `array.size > 0` to check that an array is not empty.\n",
      "  if diff:\n"
     ]
    },
    {
     "name": "stdout",
     "output_type": "stream",
     "text": [
      "['Protests']\n"
     ]
    },
    {
     "name": "stderr",
     "output_type": "stream",
     "text": [
      "C:\\Users\\anike\\Anaconda3\\lib\\site-packages\\sklearn\\preprocessing\\label.py:151: DeprecationWarning: The truth value of an empty array is ambiguous. Returning False, but in future this will result in an error. Use `array.size > 0` to check that an array is not empty.\n",
      "  if diff:\n"
     ]
    },
    {
     "name": "stdout",
     "output_type": "stream",
     "text": [
      "Extracting date from https://www.indiatoday.in/india/story/bjp-worker-shot-dead-terrorists-jammu-and-kashmir-nowgam-1517285-2019-05-04?utm_source=rss\n",
      "BJP candidate from West Bengal injured in road accident\n"
     ]
    },
    {
     "name": "stderr",
     "output_type": "stream",
     "text": [
      "C:\\Users\\anike\\Anaconda3\\lib\\site-packages\\sklearn\\preprocessing\\label.py:151: DeprecationWarning: The truth value of an empty array is ambiguous. Returning False, but in future this will result in an error. Use `array.size > 0` to check that an array is not empty.\n",
      "  if diff:\n"
     ]
    },
    {
     "name": "stdout",
     "output_type": "stream",
     "text": [
      "['Protests']\n"
     ]
    },
    {
     "name": "stderr",
     "output_type": "stream",
     "text": [
      "C:\\Users\\anike\\Anaconda3\\lib\\site-packages\\sklearn\\preprocessing\\label.py:151: DeprecationWarning: The truth value of an empty array is ambiguous. Returning False, but in future this will result in an error. Use `array.size > 0` to check that an array is not empty.\n",
      "  if diff:\n"
     ]
    },
    {
     "name": "stdout",
     "output_type": "stream",
     "text": [
      "Extracting date from https://www.indiatoday.in/india/story/bjp-bangaon-candidate-west-bengal-shantanu-thakur-road-accident-1517011-2019-05-04?utm_source=rss\n",
      "Cyclone Fani: PM Modi to visit Odisha to assess situation, speaks to Naveen Patnaik\n"
     ]
    },
    {
     "name": "stderr",
     "output_type": "stream",
     "text": [
      "C:\\Users\\anike\\Anaconda3\\lib\\site-packages\\sklearn\\preprocessing\\label.py:151: DeprecationWarning: The truth value of an empty array is ambiguous. Returning False, but in future this will result in an error. Use `array.size > 0` to check that an array is not empty.\n",
      "  if diff:\n"
     ]
    },
    {
     "name": "stdout",
     "output_type": "stream",
     "text": [
      "['Protests']\n"
     ]
    },
    {
     "name": "stderr",
     "output_type": "stream",
     "text": [
      "C:\\Users\\anike\\Anaconda3\\lib\\site-packages\\sklearn\\preprocessing\\label.py:151: DeprecationWarning: The truth value of an empty array is ambiguous. Returning False, but in future this will result in an error. Use `array.size > 0` to check that an array is not empty.\n",
      "  if diff:\n"
     ]
    },
    {
     "name": "stdout",
     "output_type": "stream",
     "text": [
      "Extracting date from https://www.indiatoday.in/india/story/cyclone-fani-pm-modi-speaks-to-odisha-cm-governor-will-visit-storm-hit-state-to-assess-situation-1516795-2019-05-04?utm_source=rss\n",
      "PM's travel itinerary in last 125 days: 200 programmes across 27 states and Union Territories\n"
     ]
    },
    {
     "name": "stderr",
     "output_type": "stream",
     "text": [
      "C:\\Users\\anike\\Anaconda3\\lib\\site-packages\\sklearn\\preprocessing\\label.py:151: DeprecationWarning: The truth value of an empty array is ambiguous. Returning False, but in future this will result in an error. Use `array.size > 0` to check that an array is not empty.\n",
      "  if diff:\n"
     ]
    },
    {
     "name": "stdout",
     "output_type": "stream",
     "text": [
      "['Protests']\n"
     ]
    },
    {
     "name": "stderr",
     "output_type": "stream",
     "text": [
      "C:\\Users\\anike\\Anaconda3\\lib\\site-packages\\sklearn\\preprocessing\\label.py:151: DeprecationWarning: The truth value of an empty array is ambiguous. Returning False, but in future this will result in an error. Use `array.size > 0` to check that an array is not empty.\n",
      "  if diff:\n"
     ]
    },
    {
     "name": "stdout",
     "output_type": "stream",
     "text": [
      "Extracting date from https://www.indiatoday.in/india/story/pm-s-travel-itinerary-in-last-125-days-200-programmes-across-27-states-and-union-territories-1516665-2019-05-03?utm_source=rss\n",
      "Cyclone Fani likely to cause thunderstorm in Agra, city administration issues warning\n"
     ]
    },
    {
     "name": "stderr",
     "output_type": "stream",
     "text": [
      "C:\\Users\\anike\\Anaconda3\\lib\\site-packages\\sklearn\\preprocessing\\label.py:151: DeprecationWarning: The truth value of an empty array is ambiguous. Returning False, but in future this will result in an error. Use `array.size > 0` to check that an array is not empty.\n",
      "  if diff:\n"
     ]
    },
    {
     "name": "stdout",
     "output_type": "stream",
     "text": [
      "['Protests']\n"
     ]
    },
    {
     "name": "stderr",
     "output_type": "stream",
     "text": [
      "C:\\Users\\anike\\Anaconda3\\lib\\site-packages\\sklearn\\preprocessing\\label.py:151: DeprecationWarning: The truth value of an empty array is ambiguous. Returning False, but in future this will result in an error. Use `array.size > 0` to check that an array is not empty.\n",
      "  if diff:\n"
     ]
    },
    {
     "name": "stdout",
     "output_type": "stream",
     "text": [
      "Extracting date from https://www.indiatoday.in/india/story/cyclone-fani-thunderstorm-agra-uttar-pradesh-warning-1515907-2019-05-03?utm_source=rss\n",
      "FPJ\n",
      "Lok Sabha Elections 2019: Campaigning ends in 59 constituencies across 7 states before 6th phase\n"
     ]
    },
    {
     "name": "stderr",
     "output_type": "stream",
     "text": [
      "C:\\Users\\anike\\Anaconda3\\lib\\site-packages\\sklearn\\preprocessing\\label.py:151: DeprecationWarning: The truth value of an empty array is ambiguous. Returning False, but in future this will result in an error. Use `array.size > 0` to check that an array is not empty.\n",
      "  if diff:\n"
     ]
    },
    {
     "name": "stdout",
     "output_type": "stream",
     "text": [
      "['Protests']\n"
     ]
    },
    {
     "name": "stderr",
     "output_type": "stream",
     "text": [
      "C:\\Users\\anike\\Anaconda3\\lib\\site-packages\\sklearn\\preprocessing\\label.py:151: DeprecationWarning: The truth value of an empty array is ambiguous. Returning False, but in future this will result in an error. Use `array.size > 0` to check that an array is not empty.\n",
      "  if diff:\n"
     ]
    },
    {
     "name": "stdout",
     "output_type": "stream",
     "text": [
      "Extracting date from https://www.freepressjournal.in/headlines/lok-sabha-elections-2019-campaigning-ends-in-59-constituencies-across-7-states-before-6th-phase/1523407\n",
      "Exception in extractArticlePublishedDate for https://www.freepressjournal.in/headlines/lok-sabha-elections-2019-campaigning-ends-in-59-constituencies-across-7-states-before-6th-phase/1523407\n",
      "()\n",
      "'NoneType' object has no attribute 'strftime'\n",
      "Congress wants sedition law, special powers of soldiers to be scrapped: PM Modi\n"
     ]
    },
    {
     "name": "stderr",
     "output_type": "stream",
     "text": [
      "C:\\Users\\anike\\Anaconda3\\lib\\site-packages\\sklearn\\preprocessing\\label.py:151: DeprecationWarning: The truth value of an empty array is ambiguous. Returning False, but in future this will result in an error. Use `array.size > 0` to check that an array is not empty.\n",
      "  if diff:\n"
     ]
    },
    {
     "name": "stdout",
     "output_type": "stream",
     "text": [
      "['Protests']\n"
     ]
    },
    {
     "name": "stderr",
     "output_type": "stream",
     "text": [
      "C:\\Users\\anike\\Anaconda3\\lib\\site-packages\\sklearn\\preprocessing\\label.py:151: DeprecationWarning: The truth value of an empty array is ambiguous. Returning False, but in future this will result in an error. Use `array.size > 0` to check that an array is not empty.\n",
      "  if diff:\n"
     ]
    },
    {
     "name": "stdout",
     "output_type": "stream",
     "text": [
      "Extracting date from https://www.freepressjournal.in/headlines/congress-wants-sedition-law-special-powers-of-soldiers-to-be-scrapped-pm-modi/1523402\n",
      "Exception in extractArticlePublishedDate for https://www.freepressjournal.in/headlines/congress-wants-sedition-law-special-powers-of-soldiers-to-be-scrapped-pm-modi/1523402\n",
      "()\n",
      "'NoneType' object has no attribute 'strftime'\n",
      "BJP distributing money among voters through hawala route: Mamata Bannerjee\n"
     ]
    },
    {
     "name": "stderr",
     "output_type": "stream",
     "text": [
      "C:\\Users\\anike\\Anaconda3\\lib\\site-packages\\sklearn\\preprocessing\\label.py:151: DeprecationWarning: The truth value of an empty array is ambiguous. Returning False, but in future this will result in an error. Use `array.size > 0` to check that an array is not empty.\n",
      "  if diff:\n"
     ]
    },
    {
     "name": "stdout",
     "output_type": "stream",
     "text": [
      "['Protests']\n"
     ]
    },
    {
     "name": "stderr",
     "output_type": "stream",
     "text": [
      "C:\\Users\\anike\\Anaconda3\\lib\\site-packages\\sklearn\\preprocessing\\label.py:151: DeprecationWarning: The truth value of an empty array is ambiguous. Returning False, but in future this will result in an error. Use `array.size > 0` to check that an array is not empty.\n",
      "  if diff:\n"
     ]
    },
    {
     "name": "stdout",
     "output_type": "stream",
     "text": [
      "Extracting date from https://www.freepressjournal.in/headlines/bjp-distributing-money-among-voters-through-hawala-route-mamata-bannerjee/1523396\n",
      "Exception in extractArticlePublishedDate for https://www.freepressjournal.in/headlines/bjp-distributing-money-among-voters-through-hawala-route-mamata-bannerjee/1523396\n",
      "()\n",
      "'NoneType' object has no attribute 'strftime'\n",
      "PM Modi’s friends made profits of Rs 10 thousand crore in 5 years while farmers were suffering: Priyanka Gandhi\n"
     ]
    },
    {
     "name": "stderr",
     "output_type": "stream",
     "text": [
      "C:\\Users\\anike\\Anaconda3\\lib\\site-packages\\sklearn\\preprocessing\\label.py:151: DeprecationWarning: The truth value of an empty array is ambiguous. Returning False, but in future this will result in an error. Use `array.size > 0` to check that an array is not empty.\n",
      "  if diff:\n"
     ]
    },
    {
     "name": "stdout",
     "output_type": "stream",
     "text": [
      "['Protests']\n"
     ]
    },
    {
     "name": "stderr",
     "output_type": "stream",
     "text": [
      "C:\\Users\\anike\\Anaconda3\\lib\\site-packages\\sklearn\\preprocessing\\label.py:151: DeprecationWarning: The truth value of an empty array is ambiguous. Returning False, but in future this will result in an error. Use `array.size > 0` to check that an array is not empty.\n",
      "  if diff:\n"
     ]
    },
    {
     "name": "stdout",
     "output_type": "stream",
     "text": [
      "Extracting date from https://www.freepressjournal.in/latest-news/pm-modis-friends-made-profits-of-rs-10-thousand-crore-in-5-years-while-farmers-were-suffering-priyanka-gandhi/1523384\n",
      "Exception in extractArticlePublishedDate for https://www.freepressjournal.in/latest-news/pm-modis-friends-made-profits-of-rs-10-thousand-crore-in-5-years-while-farmers-were-suffering-priyanka-gandhi/1523384\n",
      "()\n",
      "'NoneType' object has no attribute 'strftime'\n",
      "Rahul Gandhi seeks closure of criminal contempt proceedings against him, Supreme Court reserves verdict\n"
     ]
    },
    {
     "name": "stderr",
     "output_type": "stream",
     "text": [
      "C:\\Users\\anike\\Anaconda3\\lib\\site-packages\\sklearn\\preprocessing\\label.py:151: DeprecationWarning: The truth value of an empty array is ambiguous. Returning False, but in future this will result in an error. Use `array.size > 0` to check that an array is not empty.\n",
      "  if diff:\n"
     ]
    },
    {
     "name": "stdout",
     "output_type": "stream",
     "text": [
      "['Protests']\n"
     ]
    },
    {
     "name": "stderr",
     "output_type": "stream",
     "text": [
      "C:\\Users\\anike\\Anaconda3\\lib\\site-packages\\sklearn\\preprocessing\\label.py:151: DeprecationWarning: The truth value of an empty array is ambiguous. Returning False, but in future this will result in an error. Use `array.size > 0` to check that an array is not empty.\n",
      "  if diff:\n"
     ]
    },
    {
     "name": "stdout",
     "output_type": "stream",
     "text": [
      "Extracting date from https://www.freepressjournal.in/latest-news/rahul-gandhi-seeks-closure-of-criminal-contempt-proceedings-against-him-supreme-court-reserves-verdict/1523379\n",
      "Exception in extractArticlePublishedDate for https://www.freepressjournal.in/latest-news/rahul-gandhi-seeks-closure-of-criminal-contempt-proceedings-against-him-supreme-court-reserves-verdict/1523379\n",
      "()\n",
      "'NoneType' object has no attribute 'strftime'\n",
      "Business Standard\n",
      "Lok Sabha polls: Army seniors are voting for soldiers in Leh, say officials\n"
     ]
    },
    {
     "name": "stderr",
     "output_type": "stream",
     "text": [
      "C:\\Users\\anike\\Anaconda3\\lib\\site-packages\\sklearn\\preprocessing\\label.py:151: DeprecationWarning: The truth value of an empty array is ambiguous. Returning False, but in future this will result in an error. Use `array.size > 0` to check that an array is not empty.\n",
      "  if diff:\n"
     ]
    },
    {
     "name": "stdout",
     "output_type": "stream",
     "text": [
      "['Protests']\n"
     ]
    },
    {
     "name": "stderr",
     "output_type": "stream",
     "text": [
      "C:\\Users\\anike\\Anaconda3\\lib\\site-packages\\sklearn\\preprocessing\\label.py:151: DeprecationWarning: The truth value of an empty array is ambiguous. Returning False, but in future this will result in an error. Use `array.size > 0` to check that an array is not empty.\n",
      "  if diff:\n"
     ]
    },
    {
     "name": "stdout",
     "output_type": "stream",
     "text": [
      "Extracting date from https://www.business-standard.com/article/elections/lok-sabha-polls-army-seniors-are-voting-for-soldiers-in-leh-say-officials-119051100041_1.html\n",
      "Shekhar Gupta: Modi's new 'mandir' project\n"
     ]
    },
    {
     "name": "stderr",
     "output_type": "stream",
     "text": [
      "C:\\Users\\anike\\Anaconda3\\lib\\site-packages\\sklearn\\preprocessing\\label.py:151: DeprecationWarning: The truth value of an empty array is ambiguous. Returning False, but in future this will result in an error. Use `array.size > 0` to check that an array is not empty.\n",
      "  if diff:\n"
     ]
    },
    {
     "name": "stdout",
     "output_type": "stream",
     "text": [
      "['Protests']\n"
     ]
    },
    {
     "name": "stderr",
     "output_type": "stream",
     "text": [
      "C:\\Users\\anike\\Anaconda3\\lib\\site-packages\\sklearn\\preprocessing\\label.py:151: DeprecationWarning: The truth value of an empty array is ambiguous. Returning False, but in future this will result in an error. Use `array.size > 0` to check that an array is not empty.\n",
      "  if diff:\n"
     ]
    },
    {
     "name": "stdout",
     "output_type": "stream",
     "text": [
      "Extracting date from https://www.business-standard.com/article/opinion/shekhar-gupta-modi-s-new-mandir-project-119051100026_1.html\n",
      "Lok Sabha elections: How an app has helped thousands get voter cards\n"
     ]
    },
    {
     "name": "stderr",
     "output_type": "stream",
     "text": [
      "C:\\Users\\anike\\Anaconda3\\lib\\site-packages\\sklearn\\preprocessing\\label.py:151: DeprecationWarning: The truth value of an empty array is ambiguous. Returning False, but in future this will result in an error. Use `array.size > 0` to check that an array is not empty.\n",
      "  if diff:\n"
     ]
    },
    {
     "name": "stdout",
     "output_type": "stream",
     "text": [
      "['Protests']\n"
     ]
    },
    {
     "name": "stderr",
     "output_type": "stream",
     "text": [
      "C:\\Users\\anike\\Anaconda3\\lib\\site-packages\\sklearn\\preprocessing\\label.py:151: DeprecationWarning: The truth value of an empty array is ambiguous. Returning False, but in future this will result in an error. Use `array.size > 0` to check that an array is not empty.\n",
      "  if diff:\n"
     ]
    },
    {
     "name": "stdout",
     "output_type": "stream",
     "text": [
      "Extracting date from https://www.business-standard.com/article/current-affairs/lok-sabha-elections-how-an-app-has-helped-thousands-get-voter-cards-119051100003_1.html\n",
      "Pitroda's comments on 1984 riots 'out of line'; he must apologise: Rahul\n"
     ]
    },
    {
     "name": "stderr",
     "output_type": "stream",
     "text": [
      "C:\\Users\\anike\\Anaconda3\\lib\\site-packages\\sklearn\\preprocessing\\label.py:151: DeprecationWarning: The truth value of an empty array is ambiguous. Returning False, but in future this will result in an error. Use `array.size > 0` to check that an array is not empty.\n",
      "  if diff:\n"
     ]
    },
    {
     "name": "stdout",
     "output_type": "stream",
     "text": [
      "['Protests']\n"
     ]
    },
    {
     "name": "stderr",
     "output_type": "stream",
     "text": [
      "C:\\Users\\anike\\Anaconda3\\lib\\site-packages\\sklearn\\preprocessing\\label.py:151: DeprecationWarning: The truth value of an empty array is ambiguous. Returning False, but in future this will result in an error. Use `array.size > 0` to check that an array is not empty.\n",
      "  if diff:\n"
     ]
    },
    {
     "name": "stdout",
     "output_type": "stream",
     "text": [
      "Extracting date from https://www.business-standard.com/article/elections/pitroda-s-comments-on-1984-riots-out-of-line-he-must-apologise-rahul-119051001591_1.html\n",
      "P S Reddy takes charge as MD and CEO of Multi Commodity Exchange\n"
     ]
    },
    {
     "name": "stderr",
     "output_type": "stream",
     "text": [
      "C:\\Users\\anike\\Anaconda3\\lib\\site-packages\\sklearn\\preprocessing\\label.py:151: DeprecationWarning: The truth value of an empty array is ambiguous. Returning False, but in future this will result in an error. Use `array.size > 0` to check that an array is not empty.\n",
      "  if diff:\n"
     ]
    },
    {
     "name": "stdout",
     "output_type": "stream",
     "text": [
      "['Protests']\n"
     ]
    },
    {
     "name": "stderr",
     "output_type": "stream",
     "text": [
      "C:\\Users\\anike\\Anaconda3\\lib\\site-packages\\sklearn\\preprocessing\\label.py:151: DeprecationWarning: The truth value of an empty array is ambiguous. Returning False, but in future this will result in an error. Use `array.size > 0` to check that an array is not empty.\n",
      "  if diff:\n"
     ]
    },
    {
     "name": "stdout",
     "output_type": "stream",
     "text": [
      "Extracting date from https://www.business-standard.com/article/companies/p-s-reddy-takes-charge-as-md-and-ceo-of-multi-commodity-exchange-119051001564_1.html\n",
      "Emotion trumps reason\n"
     ]
    },
    {
     "name": "stderr",
     "output_type": "stream",
     "text": [
      "C:\\Users\\anike\\Anaconda3\\lib\\site-packages\\sklearn\\preprocessing\\label.py:151: DeprecationWarning: The truth value of an empty array is ambiguous. Returning False, but in future this will result in an error. Use `array.size > 0` to check that an array is not empty.\n",
      "  if diff:\n"
     ]
    },
    {
     "name": "stdout",
     "output_type": "stream",
     "text": [
      "['Protests']\n"
     ]
    },
    {
     "name": "stderr",
     "output_type": "stream",
     "text": [
      "C:\\Users\\anike\\Anaconda3\\lib\\site-packages\\sklearn\\preprocessing\\label.py:151: DeprecationWarning: The truth value of an empty array is ambiguous. Returning False, but in future this will result in an error. Use `array.size > 0` to check that an array is not empty.\n",
      "  if diff:\n"
     ]
    },
    {
     "name": "stdout",
     "output_type": "stream",
     "text": [
      "Extracting date from https://www.business-standard.com/article/beyond-business/emotion-trumps-reason-119051001550_1.html\n",
      "Lok Sabha elections: Kirti Azad stares at a tricky wicket in Dhanbad\n"
     ]
    },
    {
     "name": "stderr",
     "output_type": "stream",
     "text": [
      "C:\\Users\\anike\\Anaconda3\\lib\\site-packages\\sklearn\\preprocessing\\label.py:151: DeprecationWarning: The truth value of an empty array is ambiguous. Returning False, but in future this will result in an error. Use `array.size > 0` to check that an array is not empty.\n",
      "  if diff:\n"
     ]
    },
    {
     "name": "stdout",
     "output_type": "stream",
     "text": [
      "['Protests']\n"
     ]
    },
    {
     "name": "stderr",
     "output_type": "stream",
     "text": [
      "C:\\Users\\anike\\Anaconda3\\lib\\site-packages\\sklearn\\preprocessing\\label.py:151: DeprecationWarning: The truth value of an empty array is ambiguous. Returning False, but in future this will result in an error. Use `array.size > 0` to check that an array is not empty.\n",
      "  if diff:\n"
     ]
    },
    {
     "name": "stdout",
     "output_type": "stream",
     "text": [
      "Extracting date from https://www.business-standard.com/article/elections/lok-sabha-elections-kirti-azad-stares-at-a-tricky-wicket-in-dhanbad-119051001555_1.html\n",
      "Lok Sabha elections: In Sonipat, jobs aplenty but infrastructure none\n"
     ]
    },
    {
     "name": "stderr",
     "output_type": "stream",
     "text": [
      "C:\\Users\\anike\\Anaconda3\\lib\\site-packages\\sklearn\\preprocessing\\label.py:151: DeprecationWarning: The truth value of an empty array is ambiguous. Returning False, but in future this will result in an error. Use `array.size > 0` to check that an array is not empty.\n",
      "  if diff:\n"
     ]
    },
    {
     "name": "stdout",
     "output_type": "stream",
     "text": [
      "['Protests']\n"
     ]
    },
    {
     "name": "stderr",
     "output_type": "stream",
     "text": [
      "C:\\Users\\anike\\Anaconda3\\lib\\site-packages\\sklearn\\preprocessing\\label.py:151: DeprecationWarning: The truth value of an empty array is ambiguous. Returning False, but in future this will result in an error. Use `array.size > 0` to check that an array is not empty.\n",
      "  if diff:\n"
     ]
    },
    {
     "name": "stdout",
     "output_type": "stream",
     "text": [
      "Extracting date from https://www.business-standard.com/article/elections/lok-sabha-elections-in-sonipat-jobs-aplenty-but-infrastructure-none-119051001548_1.html\n",
      "With Gandhi at its heart, India returns to the Venice Biennale after 8 yrs\n"
     ]
    },
    {
     "name": "stderr",
     "output_type": "stream",
     "text": [
      "C:\\Users\\anike\\Anaconda3\\lib\\site-packages\\sklearn\\preprocessing\\label.py:151: DeprecationWarning: The truth value of an empty array is ambiguous. Returning False, but in future this will result in an error. Use `array.size > 0` to check that an array is not empty.\n",
      "  if diff:\n"
     ]
    },
    {
     "name": "stdout",
     "output_type": "stream",
     "text": [
      "['Protests']\n"
     ]
    },
    {
     "name": "stderr",
     "output_type": "stream",
     "text": [
      "C:\\Users\\anike\\Anaconda3\\lib\\site-packages\\sklearn\\preprocessing\\label.py:151: DeprecationWarning: The truth value of an empty array is ambiguous. Returning False, but in future this will result in an error. Use `array.size > 0` to check that an array is not empty.\n",
      "  if diff:\n"
     ]
    },
    {
     "name": "stdout",
     "output_type": "stream",
     "text": [
      "Extracting date from https://www.business-standard.com/article/international/with-gandhi-at-its-heart-india-returns-to-the-venice-biennale-after-8-yrs-119051001485_1.html\n",
      "7 Lok Sabha seats, 164 candidates: Campaigning ends, Delhi votes Sunday\n"
     ]
    },
    {
     "name": "stderr",
     "output_type": "stream",
     "text": [
      "C:\\Users\\anike\\Anaconda3\\lib\\site-packages\\sklearn\\preprocessing\\label.py:151: DeprecationWarning: The truth value of an empty array is ambiguous. Returning False, but in future this will result in an error. Use `array.size > 0` to check that an array is not empty.\n",
      "  if diff:\n"
     ]
    },
    {
     "name": "stdout",
     "output_type": "stream",
     "text": [
      "['Protests']\n"
     ]
    },
    {
     "name": "stderr",
     "output_type": "stream",
     "text": [
      "C:\\Users\\anike\\Anaconda3\\lib\\site-packages\\sklearn\\preprocessing\\label.py:151: DeprecationWarning: The truth value of an empty array is ambiguous. Returning False, but in future this will result in an error. Use `array.size > 0` to check that an array is not empty.\n",
      "  if diff:\n"
     ]
    },
    {
     "name": "stdout",
     "output_type": "stream",
     "text": [
      "Extracting date from https://www.business-standard.com/article/pti-stories/high-pitched-poll-campaign-in-delhi-ends-as-city-votes-on-sunday-119051001242_1.html\n",
      "Modi appeal, national security will help BJP crossing 2014 tally: Shah\n"
     ]
    },
    {
     "name": "stderr",
     "output_type": "stream",
     "text": [
      "C:\\Users\\anike\\Anaconda3\\lib\\site-packages\\sklearn\\preprocessing\\label.py:151: DeprecationWarning: The truth value of an empty array is ambiguous. Returning False, but in future this will result in an error. Use `array.size > 0` to check that an array is not empty.\n",
      "  if diff:\n"
     ]
    },
    {
     "name": "stdout",
     "output_type": "stream",
     "text": [
      "['Protests']\n"
     ]
    },
    {
     "name": "stderr",
     "output_type": "stream",
     "text": [
      "C:\\Users\\anike\\Anaconda3\\lib\\site-packages\\sklearn\\preprocessing\\label.py:151: DeprecationWarning: The truth value of an empty array is ambiguous. Returning False, but in future this will result in an error. Use `array.size > 0` to check that an array is not empty.\n",
      "  if diff:\n"
     ]
    },
    {
     "name": "stdout",
     "output_type": "stream",
     "text": [
      "Extracting date from https://www.business-standard.com/article/pti-stories/national-security-modi-appeal-will-propel-bjp-to-better-its-2014-tally-shah-119051001001_1.html\n",
      "Rahul seeks to rest Rafale statement controversy, SC reserves verdict\n"
     ]
    },
    {
     "name": "stderr",
     "output_type": "stream",
     "text": [
      "C:\\Users\\anike\\Anaconda3\\lib\\site-packages\\sklearn\\preprocessing\\label.py:151: DeprecationWarning: The truth value of an empty array is ambiguous. Returning False, but in future this will result in an error. Use `array.size > 0` to check that an array is not empty.\n",
      "  if diff:\n"
     ]
    },
    {
     "name": "stdout",
     "output_type": "stream",
     "text": [
      "['Protests']\n"
     ]
    },
    {
     "name": "stderr",
     "output_type": "stream",
     "text": [
      "C:\\Users\\anike\\Anaconda3\\lib\\site-packages\\sklearn\\preprocessing\\label.py:151: DeprecationWarning: The truth value of an empty array is ambiguous. Returning False, but in future this will result in an error. Use `array.size > 0` to check that an array is not empty.\n",
      "  if diff:\n"
     ]
    },
    {
     "name": "stdout",
     "output_type": "stream",
     "text": [
      "Extracting date from https://www.business-standard.com/article/pti-stories/rahul-gandhi-seeks-closure-of-criminal-contempt-proceedings-against-him-sc-reserves-verdict-119051000883_1.html\n",
      "An unreal campaign: How election narrative descended to the level of farce\n"
     ]
    },
    {
     "name": "stderr",
     "output_type": "stream",
     "text": [
      "C:\\Users\\anike\\Anaconda3\\lib\\site-packages\\sklearn\\preprocessing\\label.py:151: DeprecationWarning: The truth value of an empty array is ambiguous. Returning False, but in future this will result in an error. Use `array.size > 0` to check that an array is not empty.\n",
      "  if diff:\n"
     ]
    },
    {
     "name": "stdout",
     "output_type": "stream",
     "text": [
      "['Protests']\n"
     ]
    },
    {
     "name": "stderr",
     "output_type": "stream",
     "text": [
      "C:\\Users\\anike\\Anaconda3\\lib\\site-packages\\sklearn\\preprocessing\\label.py:151: DeprecationWarning: The truth value of an empty array is ambiguous. Returning False, but in future this will result in an error. Use `array.size > 0` to check that an array is not empty.\n",
      "  if diff:\n"
     ]
    },
    {
     "name": "stdout",
     "output_type": "stream",
     "text": [
      "Extracting date from https://www.business-standard.com/article/opinion/an-unreal-campaign-how-election-narrative-descended-to-the-level-of-farce-119051000845_1.html\n",
      "Will Rahul oust his 'guru' Pitroda for anti-Sikh remark, asks Jaitley\n"
     ]
    },
    {
     "name": "stderr",
     "output_type": "stream",
     "text": [
      "C:\\Users\\anike\\Anaconda3\\lib\\site-packages\\sklearn\\preprocessing\\label.py:151: DeprecationWarning: The truth value of an empty array is ambiguous. Returning False, but in future this will result in an error. Use `array.size > 0` to check that an array is not empty.\n",
      "  if diff:\n"
     ]
    },
    {
     "name": "stdout",
     "output_type": "stream",
     "text": [
      "['Protests']\n"
     ]
    },
    {
     "name": "stderr",
     "output_type": "stream",
     "text": [
      "C:\\Users\\anike\\Anaconda3\\lib\\site-packages\\sklearn\\preprocessing\\label.py:151: DeprecationWarning: The truth value of an empty array is ambiguous. Returning False, but in future this will result in an error. Use `array.size > 0` to check that an array is not empty.\n",
      "  if diff:\n"
     ]
    },
    {
     "name": "stdout",
     "output_type": "stream",
     "text": [
      "Extracting date from https://www.business-standard.com/article/pti-stories/will-rahul-oust-his-guru-pitroda-for-anti-sikh-remark-asks-jaitley-119051000731_1.html\n",
      "Anti-Sikh riots: Pitroda accuses BJP of distorting 'hua toh hua' remark\n"
     ]
    },
    {
     "name": "stderr",
     "output_type": "stream",
     "text": [
      "C:\\Users\\anike\\Anaconda3\\lib\\site-packages\\sklearn\\preprocessing\\label.py:151: DeprecationWarning: The truth value of an empty array is ambiguous. Returning False, but in future this will result in an error. Use `array.size > 0` to check that an array is not empty.\n",
      "  if diff:\n"
     ]
    },
    {
     "name": "stdout",
     "output_type": "stream",
     "text": [
      "['Protests']\n"
     ]
    },
    {
     "name": "stderr",
     "output_type": "stream",
     "text": [
      "C:\\Users\\anike\\Anaconda3\\lib\\site-packages\\sklearn\\preprocessing\\label.py:151: DeprecationWarning: The truth value of an empty array is ambiguous. Returning False, but in future this will result in an error. Use `array.size > 0` to check that an array is not empty.\n",
      "  if diff:\n"
     ]
    },
    {
     "name": "stdout",
     "output_type": "stream",
     "text": [
      "Extracting date from https://www.business-standard.com/article/pti-stories/anti-sikh-remarks-pitroda-accuses-bjp-of-distorting-truth-119051000703_1.html\n",
      "Ex-Navy officers have exposed Modi's lie about Rajiv Gandhi: Chidambaram\n"
     ]
    },
    {
     "name": "stderr",
     "output_type": "stream",
     "text": [
      "C:\\Users\\anike\\Anaconda3\\lib\\site-packages\\sklearn\\preprocessing\\label.py:151: DeprecationWarning: The truth value of an empty array is ambiguous. Returning False, but in future this will result in an error. Use `array.size > 0` to check that an array is not empty.\n",
      "  if diff:\n"
     ]
    },
    {
     "name": "stdout",
     "output_type": "stream",
     "text": [
      "['Protests']\n"
     ]
    },
    {
     "name": "stderr",
     "output_type": "stream",
     "text": [
      "C:\\Users\\anike\\Anaconda3\\lib\\site-packages\\sklearn\\preprocessing\\label.py:151: DeprecationWarning: The truth value of an empty array is ambiguous. Returning False, but in future this will result in an error. Use `array.size > 0` to check that an array is not empty.\n",
      "  if diff:\n"
     ]
    },
    {
     "name": "stdout",
     "output_type": "stream",
     "text": [
      "Extracting date from https://www.business-standard.com/article/elections/ex-navy-officers-have-exposed-modi-s-lie-about-rajiv-gandhi-chidambaram-119051000771_1.html\n"
     ]
    }
   ],
   "source": [
    "collections = {\n",
    "    'total' : []\n",
    "}\n",
    "from time import mktime\n",
    "from datetime import datetime\n",
    "from lexrank import STOPWORDS, LexRank\n",
    "\n",
    "event_type = \"\"\n",
    "data = {}\n",
    "data['newspapers'] = {}\n",
    "articlesData ={}\n",
    "collectedNews = {}\n",
    "events = ['arrest','arrested','violence against civilians','rioting','protesting','riots','protest','battles','violence','remote violence','assault','attack','bloodshed','brutality','clash','confusion','cruelty','disorder','disturbance','fighting','rampage','struggle','terrorism','abandon','acuteness','bestiality','blowup','coercion','compulsion','constraint','destructiveness','duress','ferocity','fervor','fierceness','flap','frenzy','fury','fuss','harshness','murderousness','onslaught','passion','power','roughness','ruckus','rumble','savagery','scam','severity','sharpness','storm','storminess','tumult','turbulence','uproar','vehemence','wildness','brute','force','foul','play','raging','anarchy','brawl','disturbance','lawlessness','protest','storm','strife','trouble','turbulence','turmoil','uproar','anarchism','burst','commotion','confusion','distemper','flap','fray','free-for-all','fuss','hassle','misrule','mix-up','quarrel','racket','row','ruckus','ruction','rumble','rumpus','run-in','scene','shivaree','shower','snarl','stir','to-do','tumult','brannigan','mob','violence','street','fighting','wingding','action','assault','attack','bloodshed','bombing','campaign','clash','combat','conflict','crusade','encounter','fighting','hostility','skirmish','strife','struggle','war','warfare','barrage','brush','carnage','contention','engagement','fray','havoc','onset','onslaught','press','ravage','scrimmage','sortie','blitzkreig']\n",
    "politics= [\"politicize\", \"political affairs\", \"administration\", \"gandhi\", \"Modi\", \"politics\", \"politicians\", \"elections\", \"votes\", \"voters\", \"BJP\", \"Congress\", \"Supreme Court\",\"Nationalism\",\"polls\",\"poll\",\"voting\"]\n",
    "violence = [\"violence\", \"criminal violence\", \"criminal\", \"crime\", \"criminal party\", \"election violence\", \"electoral violence\",\"mob killing\", \"vigilante\", \"riots\", \"killing\" ]\n",
    "parties = ['bharatiya janata party', 'bjp', 'b.j.p.', 'bhaujan samaj party', 'bsp', 'b.s.p.', 'indian national congress', 'inc', 'i.n.c.', 'congress', 'nationalist congress party', 'ncp', 'n.c.p.','communist party of india','cpi','c.p.i.','aam aadmi party','aap','a.a.p.','samajwadi party','shiv sena','shs','rashtriya janta dal','rjd','r.j.d.']\n",
    "    \n",
    "eventTypes ={\n",
    "'riots':['riot'],\n",
    "'protests':['protest','march'], \n",
    "'civilianViolence':['rebel','violence','militia','war','rape','torture','kill','shoot','fight','murder','molest','attack','terror','battle','assault','blood']\n",
    "}\n",
    "\n",
    "\n",
    "\n",
    "count = 1\n",
    "\n",
    "for source, link in sources.items():\n",
    "    print(source)\n",
    "    count = 1\n",
    "    if 'rss' in link:\n",
    "        parsedFeed = fp.parse(link['rss'])\n",
    "        collected = {\n",
    "            'rss': link['rss'],\n",
    "            'link': link['link'],\n",
    "            'article': []\n",
    "        }\n",
    "        for feed in parsedFeed.entries:\n",
    "            \n",
    "            try:\n",
    "\n",
    "                articlesData ={}\n",
    "                articles = Article(feed['links'][0]['href'])\n",
    "                articles.download()\n",
    "                articles.parse()\n",
    "                articles.nlp()\n",
    "                strg = re.sub(r'[^\\w\\s]','',articles.text)\n",
    "                articleTokens = nlp(strg)\n",
    "\n",
    "                tokens =[]\n",
    "                for token in articleTokens:\n",
    "                    tokens.append(token.text.lower())\n",
    "\n",
    "                txt = str(articles.text).split()\n",
    "                flag = True\n",
    "                for i in txt:\n",
    "                    for j in events:\n",
    "                        if i==j:\n",
    "                            event_type = j\n",
    "                            flag = False\n",
    "                            break\n",
    "                        else:\n",
    "                            event_type = \"other\"\n",
    "                    if not flag:\n",
    "                        break\n",
    "                keyWords = articles.keywords\n",
    "\n",
    "                eventType = \"other\"\n",
    "                if(([a for a in keyWords if any(b.lower() in a.lower() for b in politics)])):\n",
    "                    print(articles.title)\n",
    "                    articlesData['title'] = articles.title\n",
    "\n",
    "                    article = nlp(articles.text)\n",
    "                    ###Summary\n",
    "                    sentences = [x for x in article.sents]\n",
    "                    sentences = list( map(str, sentences) )\n",
    "                    lxr = LexRank(articles.text)\n",
    "                    lxr.get_summary(sentences)\n",
    "                    summary = lxr.get_summary(sentences, summary_size=1, threshold=.1)\n",
    "                    summary = (\" \".join(summary))\n",
    "                    \n",
    "                    rawSummary = [preprocess(summary)]\n",
    "                    textVector = vector.transform(rawSummary)\n",
    "                    prediction = rf.predict(textVector)\n",
    "                    print(encoder.inverse_transform(prediction))\n",
    "                    articlesData['event'] = encoder.inverse_transform(prediction[0])\n",
    "\n",
    "                    dates = articleDateExtractor.extractArticlePublishedDate(feed['links'][0]['href'])\n",
    "                    localFormat = dates.strftime(\"%m/%d/%Y\")\n",
    "                    summaryDate = dates.strftime(\"On %d %b,\")\n",
    "                    articlesData['eventDate'] = localFormat\n",
    "                    articlesData['location'] = getLocation(articleTokens.ents, articles.text)\n",
    "                    orgs = set(keyWords).intersection(set(parties))\n",
    "\n",
    "                    if len(orgs) == 0:\n",
    "                        if(articlesData['event']==\"Riots\"):\n",
    "                            taggedOrg = \"Rioters\"\n",
    "                        elif(articlesData['event']==\"Protests\"):\n",
    "                            taggedOrg = \"Protestors\"\n",
    "                        else:\n",
    "                            taggedOrg = \"other\"\n",
    "                    else:\n",
    "                        taggedOrg=\"\"\n",
    "                        for org in orgs:\n",
    "                            taggedOrg+=org+\", \"\n",
    "                        taggedOrg=taggedOrg[:-2]\n",
    "\n",
    "                    articlesData['partiesInvolved'] = taggedOrg\n",
    "                    articlesData['source'] = source\n",
    "                    totalSummary = []\n",
    "                    totalSummary.append(summaryDate)\n",
    "                    totalSummary.append(summary)\n",
    "                    extractiveSummary  = (\" \".join(totalSummary))\n",
    "                    articlesData['summary'] = extractiveSummary\n",
    "                    articlesData['link'] = (feed['links'][0]['href'])\n",
    "                    collected['article'].append(articlesData)\n",
    "#                 else:\n",
    "#                     break\n",
    "            except Exception as ex:\n",
    "                print(ex)\n",
    "        collections['total'].append(collected)\n",
    "    else:\n",
    "        parsedFeed = newspaper.build(link['link'], memoize_articles = False)\n",
    "        collected = {\n",
    "            'link': link['link'],\n",
    "            'article': []\n",
    "        }\n",
    "        for feed in parsedFeed.articles:\n",
    "#             if count > 1000:\n",
    "#                 break\n",
    "            try:\n",
    "                feed.download()\n",
    "                feed.parse()\n",
    "                feed.nlp()\n",
    "                if feed.publish_date is not None:\n",
    "                    articlesData ={}\n",
    "                    \n",
    "                    strg = re.sub(r'[^\\w\\s]','',feed.text)\n",
    "                    articleTokens = nlp(strg)\n",
    "                    tokens =[]\n",
    "                    for token in articleTokens:\n",
    "                        tokens.append(token.text.lower())\n",
    "\n",
    "                        txt = str(feed.text).split()\n",
    "                        for i in txt:\n",
    "                            for j in events:\n",
    "                                if i==j:\n",
    "                                    event_type = j\n",
    "                                    break\n",
    "                                else:\n",
    "                                    event_type = \"other\"\n",
    "                    keyWords = feed.keywords\n",
    "                    if(([a for a in keyWords if any(b.lower() in a.lower() for b in politics)])):\n",
    "                        \n",
    "                        articlesData['title'] = feed.title\n",
    "                        article = nlp(feed.text)\n",
    "                        ###Summary\n",
    "                        sentences = [x for x in article.sents]\n",
    "                        sentences = list( map(str, sentences) )\n",
    "                        lxr = LexRank(feed.text)\n",
    "                        lxr.get_summary(sentences)\n",
    "                        summary = lxr.get_summary(sentences, summary_size=1, threshold=.1)\n",
    "                        summary = (\" \".join(summary))\n",
    "\n",
    "                        rawSummary = [preprocess(summary)]\n",
    "                        textVector = vector.transform(rawSummary)\n",
    "                        prediction = rf.predict(textVector)\n",
    "                        print(encoder.inverse_transform(prediction))\n",
    "                        articlesData['event'] = encoder.inverse_transform(prediction[0])\n",
    "                        \n",
    "#                         articlesData['event'] = getEventType(tokens)\n",
    "                        articlesData['eventDate'] = feed.publish_date.strftime('%m/%d/%Y')\n",
    "                        articlesData['location'] = getLocation(articleTokens.ents,feed.text)\n",
    "                        \n",
    "                        orgs = set(keyWords).intersection(set(parties))\n",
    "                        if len(orgs) == 0:\n",
    "                            if(articlesData['event']==\"Riots\"):\n",
    "                                taggedOrg = \"Rioters\"\n",
    "                            elif(articlesData['event']==\"Protests\"):\n",
    "                                taggedOrg = \"Protestors\"\n",
    "                            else:\n",
    "                                taggedOrg = \"other\"\n",
    "                        else:\n",
    "                            taggedOrg=\"\"\n",
    "                            for org in orgs:\n",
    "                                taggedOrg+=org+\", \"\n",
    "                            taggedOrg=taggedOrg[:-2]\n",
    "\n",
    "                        articlesData['partiesInvolved'] = taggedOrg\n",
    "                        articlesData['source'] = source\n",
    "                        totalSummary = []\n",
    "                        totalSummary.append(feed.publish_date.strftime(\"On %d %b,\"))\n",
    "                        totalSummary.append(summary)\n",
    "                        extractiveSummary  = (\" \".join(totalSummary))\n",
    "                        articlesData['summary'] = extractiveSummary\n",
    "                        articlesData['link'] = link\n",
    "                        collected['article'].append(articlesData)\n",
    "#                     else:\n",
    "#                         break\n",
    "#                         count +=1\n",
    "            except Exception as ex:\n",
    "                print(ex)\n",
    "        collections['total'].append(collected)"
   ]
  },
  {
   "cell_type": "code",
   "execution_count": 89,
   "metadata": {},
   "outputs": [
    {
     "data": {
      "text/plain": [
       "[{'rss': 'https://timesofindia.indiatimes.com/rssfeeds/-2128936835.cms',\n",
       "  'link': 'https://timesofindia.indiatimes.com/elections/news',\n",
       "  'article': [{'title': 'EC issues notice to Congress leader and Punjab minister Navjot Singh Sidhu for remarks against PM Narendra Modi',\n",
       "    'event': 'Protests',\n",
       "    'eventDate': '05/10/2019',\n",
       "    'location': 'Sidhu',\n",
       "    'partiesInvolved': 'Protestors',\n",
       "    'source': 'TOI',\n",
       "    'summary': 'On 10 May, The Election Commission on Friday issued a notice to Congress leader and Punjab minister Navjot Singh Sidhu',\n",
       "    'link': 'https://timesofindia.indiatimes.com/india/ec-issues-notice-to-congress-leader-and-punjab-minister-navjot-singh-sidhu-for-remarks-against-pm-narendra-modi/articleshow/69274346.cms'},\n",
       "   {'title': 'Discoms check theft, raise billing under UDAY but still losses mount in poll season',\n",
       "    'event': 'Protests',\n",
       "    'eventDate': '05/10/2019',\n",
       "    'location': 'Rs',\n",
       "    'partiesInvolved': 'Protestors',\n",
       "    'source': 'TOI',\n",
       "    'summary': 'On 10 May, The presentation shows the annual rate of increase in Discoms’ power purchase cost rising marginally in the nine months of 2018-19 due to increased railway freight and coal costs.',\n",
       "    'link': 'https://timesofindia.indiatimes.com/india/discoms-check-theft-raise-billing-under-uday-but-still-losses-mount-in-poll-season/articleshow/69274252.cms'},\n",
       "   {'title': \"Modi seeking to change 'soft & crony'state: Niti Aayog V-C\",\n",
       "    'event': 'Protests',\n",
       "    'eventDate': '05/10/2019',\n",
       "    'location': 'Kumar',\n",
       "    'partiesInvolved': 'Protestors',\n",
       "    'source': 'TOI',\n",
       "    'summary': 'On 10 May, Kumar rued the lack of trust when it comes to government and the industry working together in contemporary times, saying an institute like IIPS was set up by Prime Minister Jawaharlal Nehru with the help from the Tatas, who donated land for the body.\"If we in the government are seen working with the industry, we are not seen in good light...',\n",
       "    'link': 'https://timesofindia.indiatimes.com/india/modi-seeking-to-change-soft-cronystate-niti-aayog-v-c/articleshow/69273294.cms'},\n",
       "   {'title': 'Reservations for SCs and the STs is not against the principle of meritocracy: SC',\n",
       "    'event': 'Protests',\n",
       "    'eventDate': '05/10/2019',\n",
       "    'location': 'Union',\n",
       "    'partiesInvolved': 'Protestors',\n",
       "    'source': 'TOI',\n",
       "    'summary': 'On 10 May, Otherwise, our past will haunt the inability of our society to move away from being deeply unequal to one which is founded on liberty and fraternity.',\n",
       "    'link': 'https://timesofindia.indiatimes.com/india/reservations-for-scs-and-the-sts-is-not-against-the-principle-of-meritocracy-sc/articleshow/69273233.cms'},\n",
       "   {'title': 'SC to hear on May 13 plea to advance poll timing in Lok Sabha election',\n",
       "    'event': 'Protests',\n",
       "    'eventDate': '05/10/2019',\n",
       "    'location': 'India',\n",
       "    'partiesInvolved': 'Protestors',\n",
       "    'source': 'TOI',\n",
       "    'summary': \"On 10 May, The petitioner has also sought quashing of the EC's May 5 order.\",\n",
       "    'link': 'https://timesofindia.indiatimes.com/india/sc-to-hear-on-may-13-plea-to-advance-poll-timing-in-lok-sabha-election/articleshow/69273038.cms'},\n",
       "   {'title': 'Will urge Guv to release all seven convicts in Rajiv Gandhi assasination case: Panneerselvam',\n",
       "    'event': 'Protests',\n",
       "    'eventDate': '05/10/2019',\n",
       "    'location': 'saidWe',\n",
       "    'partiesInvolved': 'Protestors',\n",
       "    'source': 'TOI',\n",
       "    'summary': 'On 10 May, Tamil Nadu deputy chief minister O Panneerselvam on Friday said the government will continue to urge Governor Banwarilal Purohit to release all the seven convicts in the Rajiv Gandhi assassination case.',\n",
       "    'link': 'https://timesofindia.indiatimes.com/india/will-urge-guv-to-release-rajiv-gandhi-case-convicts-panneerselvam/articleshow/69272062.cms'}]},\n",
       " {'rss': 'https://www.hindustantimes.com/rss/india/rssfeed.xml',\n",
       "  'link': 'https://www.hindustantimes.com/',\n",
       "  'article': []},\n",
       " {'rss': 'https://www.indiatoday.in/rss/1206578',\n",
       "  'link': 'https://indianexpress.com/?s=politics',\n",
       "  'article': [{'title': 'Supreme Court reserves order in Rafale review, contempt case against Rahul Gandhi',\n",
       "    'event': 'Protests',\n",
       "    'eventDate': '05/10/2019',\n",
       "    'location': 'India',\n",
       "    'partiesInvolved': 'Protestors',\n",
       "    'source': 'India Today',\n",
       "    'summary': 'On 10 May, Senior advocate Mukul Rohatgi, appearing for Lekhi, told the bench that the apology tendered by Gandhi should be rejected and action must be taken against him as per the law.',\n",
       "    'link': 'https://www.indiatoday.in/india/story/supreme-court-rafale-order-review-rahul-gandhi-contempt-case-1522043-2019-05-10?utm_source=rss'},\n",
       "   {'title': 'BJP demands CBI probe into Alwar gangrape case',\n",
       "    'event': 'Protests',\n",
       "    'eventDate': '05/09/2019',\n",
       "    'location': 'Jaipur',\n",
       "    'partiesInvolved': 'bjp',\n",
       "    'source': 'India Today',\n",
       "    'summary': 'On 09 May, After they could not get the money they asked for, the video was circulated on social media.\\n\\n\\n\\n',\n",
       "    'link': 'https://www.indiatoday.in/india/story/bjp-demands-cbi-probe-into-alwar-gang-rape-case-1521404-2019-05-09?utm_source=rss'},\n",
       "   {'title': 'Alwar gangrape case: All six accused arrested, BJP holds protests',\n",
       "    'event': 'Protests',\n",
       "    'eventDate': '05/09/2019',\n",
       "    'location': 'Mathura',\n",
       "    'partiesInvolved': 'bjp',\n",
       "    'source': 'India Today',\n",
       "    'summary': 'On 09 May, Hours after fourth accused Mahesh was arrested from Shahpura late on Wednesday, the prime accused Hansraj was arrested from Mathura on Thursday morning, police said.',\n",
       "    'link': 'https://www.indiatoday.in/india/story/alwar-gangrape-case-nsix-accused-arrested-bjp-protests-1521325-2019-05-09?utm_source=rss'},\n",
       "   {'title': 'BJP respects Rajiv Gandhi, but has right to question his govt: Nirmala Sitharaman',\n",
       "    'event': 'Protests',\n",
       "    'eventDate': '05/09/2019',\n",
       "    'location': 'Bhopal',\n",
       "    'partiesInvolved': 'bjp, congress',\n",
       "    'source': 'India Today',\n",
       "    'summary': \"On 09 May, While mentioning Rajiv Gandhi and his family's use of INS Viraat, Nirmala Sitharaman stopped short of whether the BJP will take action in the matter if the party were to form the next government.\",\n",
       "    'link': 'https://www.indiatoday.in/india/story/bjp-respects-rajiv-gandhi-but-has-right-to-question-his-govt-nirmala-sitharaman-1521052-2019-05-09?utm_source=rss'},\n",
       "   {'title': \"Rajiv Gandhi assassination case: SC dismisses pleas opposing Tamil Nadu govt's move to release convicts\",\n",
       "    'event': 'Protests',\n",
       "    'eventDate': '05/09/2019',\n",
       "    'location': 'Paris',\n",
       "    'partiesInvolved': 'Protestors',\n",
       "    'source': 'India Today',\n",
       "    'summary': 'On 09 May, File photo of former prime minister Rajiv Gandhi with his wife Sonia Gandhi in Paris in 1984.',\n",
       "    'link': 'https://www.indiatoday.in/india/story/rajiv-gandhi-assassination-case-sc-dismisses-pleas-opposing-tamil-nadu-govt-move-to-release-convicts-1520799-2019-05-09?utm_source=rss'},\n",
       "   {'title': \"BJP's latest on Rajiv Gandhi: Instruction to kill came from his office in 1984 riots\",\n",
       "    'event': 'Protests',\n",
       "    'eventDate': '05/09/2019',\n",
       "    'location': 'New Delhi',\n",
       "    'partiesInvolved': 'bjp',\n",
       "    'source': 'India Today',\n",
       "    'summary': 'On 09 May, Rahul\"\\n\\nPM Modi had called Rajiv Gandhi the \"bhrashtachari number one\" (corrupt number one) at an election rally. \"',\n",
       "    'link': 'https://www.indiatoday.in/india/story/rajiv-gandhi-bjp-1984-riots-modi-rahul-prime-minister-office-1520739-2019-05-09?utm_source=rss'},\n",
       "   {'title': \"ED team in London to oppose Nirav Modi's bail application\",\n",
       "    'event': 'Protests',\n",
       "    'eventDate': '05/08/2019',\n",
       "    'location': 'London',\n",
       "    'partiesInvolved': 'Protestors',\n",
       "    'source': 'India Today',\n",
       "    'summary': 'On 08 May, This also indicates that if Nirav is given bail, he may threaten the witnesses again and may try to destroy the evidence.\\n\\n',\n",
       "    'link': 'https://www.indiatoday.in/india/story/ed-team-in-london-to-oppose-nirav-modi-bail-application-1520049-2019-05-08?utm_source=rss'},\n",
       "   {'title': 'Alwar gangrape takes political turn, BJP alleges Gehlot govt suppressed case due to polls',\n",
       "    'event': 'Protests',\n",
       "    'eventDate': '05/07/2019',\n",
       "    'location': 'Alwar',\n",
       "    'partiesInvolved': 'bjp',\n",
       "    'source': 'India Today',\n",
       "    'summary': 'On 07 May, May 7, 2019\\n\\nAshok Gehlot on Tuesday condemned the incident of gang rape in Alwar district and directed officials to take stern action against the accused.\\n\\n',\n",
       "    'link': 'https://www.indiatoday.in/india/story/alwar-gang-rape-takes-political-turn-bjp-alleges-gehlot-govt-suppressed-case-due-to-polls-1519626-2019-05-07?utm_source=rss'},\n",
       "   {'title': 'Woman gangraped in Rajasthan: Alwar SP removed, BJP calls it worse than Nirbhaya case',\n",
       "    'event': 'Protests',\n",
       "    'eventDate': '05/07/2019',\n",
       "    'location': '',\n",
       "    'partiesInvolved': 'bjp',\n",
       "    'source': 'India Today',\n",
       "    'summary': 'On 07 May, The Bharatiya Janata Party (BJP) attacked Chief Minister Ashok Gehlot who holds the home department for conspiring to suppress the brutal crime given the elections in the region.\\n\\n',\n",
       "    'link': 'https://www.indiatoday.in/india/story/alwar-dalit-woman-gangraped-sp-sho-ashok-gehlot-bjp-nirbhaya-1519611-2019-05-07?utm_source=rss'},\n",
       "   {'title': 'Rajiv Gandhi assassination case: Nalini approaches high court against TN governor',\n",
       "    'event': 'Protests',\n",
       "    'eventDate': '05/07/2019',\n",
       "    'location': 'TN',\n",
       "    'partiesInvolved': 'Protestors',\n",
       "    'source': 'India Today',\n",
       "    'summary': 'On 07 May, In April, Nalini approached the Madras High Court seeking permission to make a personal appearance to make an argument for herself as she wanted six months leave to make arrangements for her daughter’s wedding.',\n",
       "    'link': 'https://www.indiatoday.in/india/story/rajiv-gandhi-assassination-case-convict-nalini-high-court-tn-governor-1519441-2019-05-07?utm_source=rss'},\n",
       "   {'title': \"2 choke to death while cleaning septic tank in Delhi's Rohini, 3 hospitalised\",\n",
       "    'event': 'Protests',\n",
       "    'eventDate': '05/07/2019',\n",
       "    'location': 'Prem Nagar',\n",
       "    'partiesInvolved': 'Protestors',\n",
       "    'source': 'India Today',\n",
       "    'summary': 'On 07 May, The two deceased labourers have been identified as Deepak (30) and Ganesh Saha (35), residents of Prem Nagar.\\n\\n',\n",
       "    'link': 'https://www.indiatoday.in/india/story/delhi-rohini-two-labourers-choke-to-death-septic-tank-prem-nagar-1519440-2019-05-07?utm_source=rss'},\n",
       "   {'title': 'In RTI reply, Centre says no records of surgical strikes during UPA regime',\n",
       "    'event': 'Protests',\n",
       "    'eventDate': '05/07/2019',\n",
       "    'location': 'India',\n",
       "    'partiesInvolved': 'congress',\n",
       "    'source': 'India Today',\n",
       "    'summary': 'On 07 May, Sibal said, \"The point we\\'re trying to make is that surgical strikes are not something to be celebrated.',\n",
       "    'link': 'https://www.indiatoday.in/india/story/rti-reply-upa-surgical-strikes-1519181-2019-05-07?utm_source=rss'},\n",
       "   {'title': 'Rafale and Rahul Gandhi: Curious case of missing dates in Supreme Court',\n",
       "    'event': 'Protests',\n",
       "    'eventDate': '05/07/2019',\n",
       "    'location': 'Registry',\n",
       "    'partiesInvolved': 'Protestors',\n",
       "    'source': 'India Today',\n",
       "    'summary': 'On 07 May, When this matter came to the light, CJI Gogoi sacked two employees of the Supreme Court.\\n\\n',\n",
       "    'link': 'https://www.indiatoday.in/india/story/rafale-and-rahul-gandhi-curious-case-of-missing-dates-in-supreme-court-1519035-2019-05-07?utm_source=rss'},\n",
       "   {'title': 'BJP leaders should say I am Pagal, not I am Chowkidar: Siddaramaiah',\n",
       "    'event': 'Protests',\n",
       "    'eventDate': '05/06/2019',\n",
       "    'location': 'CM',\n",
       "    'partiesInvolved': 'bjp',\n",
       "    'source': 'India Today',\n",
       "    'summary': 'On 06 May, This is the answer to the question what he would do if his granddaughter had been raped.\"\\n\\n',\n",
       "    'link': 'https://www.indiatoday.in/india/story/bjp-leaders-should-say-i-am-pagal-not-i-am-chowkidar-siddaramaiah-1518479-2019-05-06?utm_source=rss'},\n",
       "   {'title': \"Modi blames Mamata's arrogance for failed Cyclone Fani meet, Didi says don't need expiry PM\",\n",
       "    'event': 'Protests',\n",
       "    'eventDate': '05/06/2019',\n",
       "    'location': 'West Bengal',\n",
       "    'partiesInvolved': 'Protestors',\n",
       "    'source': 'India Today',\n",
       "    'summary': 'On 06 May, Hitting back strongly, Mamata Banerjee claimed that she had gone to meet PM Modi twice when the state was ravaged by floods last time, but the Centre offered no aide.\\n\\n',\n",
       "    'link': 'https://www.indiatoday.in/india/story/pm-modi-blames-mamatas-arrogance-for-failed-cyclone-fani-meet-didi-hits-back-1518298-2019-05-06?utm_source=rss'},\n",
       "   {'title': 'PM conducts aerial survey of areas affected by Fani in Odisha',\n",
       "    'event': 'Protests',\n",
       "    'eventDate': '05/06/2019',\n",
       "    'location': 'West Bengal',\n",
       "    'partiesInvolved': 'Protestors',\n",
       "    'source': 'India Today',\n",
       "    'summary': 'On 06 May, The Prime Minister had on Sunday tweeted, \"Will be in Odisha tomorrow morning, where I will review the situation due to Cyclone Fani and hold meetings with top officials.',\n",
       "    'link': 'https://www.indiatoday.in/india/story/narendra-modi-fani-1518041-2019-05-06?utm_source=rss'},\n",
       "   {'title': 'PM Modi praises Odisha CM Naveen Patnaik on tackling Cyclone Fani',\n",
       "    'event': 'Protests',\n",
       "    'eventDate': '05/06/2019',\n",
       "    'location': 'Rs',\n",
       "    'partiesInvolved': 'Protestors',\n",
       "    'source': 'India Today',\n",
       "    'summary': 'On 06 May, The PM also spoke to the chief minister on Saturday and discussed the situation in the aftermath of Fani, assuring continuous support from the Centre.\\n\\n',\n",
       "    'link': 'https://www.indiatoday.in/india/story/odisha-naveen-patnaik-modi-1518187-2019-05-06?utm_source=rss'},\n",
       "   {'title': 'Cyclone Fani at centre of storm: PM Modi called Mamata Banerjee but calls not returned, says Centre',\n",
       "    'event': 'Protests',\n",
       "    'eventDate': '05/05/2019',\n",
       "    'location': 'West Bengal',\n",
       "    'partiesInvolved': 'Protestors',\n",
       "    'source': 'India Today',\n",
       "    'summary': 'On 05 May, On one occasion they were told that the CM is on tour,\" the official said.\\n\\n',\n",
       "    'link': 'https://www.indiatoday.in/india/story/cyclone-fani-west-bengal-pm-modi-mamata-banerjee-1517526-2019-05-05?utm_source=rss'},\n",
       "   {'title': \"BJP leader shot dead by terrorists in J&K's Nowgam\",\n",
       "    'event': 'Protests',\n",
       "    'eventDate': '05/04/2019',\n",
       "    'location': 'Jammu',\n",
       "    'partiesInvolved': 'bjp',\n",
       "    'source': 'India Today',\n",
       "    'summary': 'On 04 May, It is said that Mir unsuccessfully contested the Assembly polls from Doru in 2008 and 2014.',\n",
       "    'link': 'https://www.indiatoday.in/india/story/bjp-worker-shot-dead-terrorists-jammu-and-kashmir-nowgam-1517285-2019-05-04?utm_source=rss'},\n",
       "   {'title': 'BJP candidate from West Bengal injured in road accident',\n",
       "    'event': 'Protests',\n",
       "    'eventDate': '05/04/2019',\n",
       "    'location': 'Kolkata',\n",
       "    'partiesInvolved': 'bjp',\n",
       "    'source': 'India Today',\n",
       "    'summary': 'On 04 May, Shantanu Thakur sustained serious head injuries in the road accident when his car collided with a police vehicle.\\n\\n',\n",
       "    'link': 'https://www.indiatoday.in/india/story/bjp-bangaon-candidate-west-bengal-shantanu-thakur-road-accident-1517011-2019-05-04?utm_source=rss'},\n",
       "   {'title': 'Cyclone Fani: PM Modi to visit Odisha to assess situation, speaks to Naveen Patnaik',\n",
       "    'event': 'Protests',\n",
       "    'eventDate': '05/04/2019',\n",
       "    'location': 'Puri',\n",
       "    'partiesInvolved': 'Protestors',\n",
       "    'source': 'India Today',\n",
       "    'summary': 'On 04 May, Assured all possible help from the Centre to the sisters and brothers of Odisha, who are showing exemplary courage in the face of a natural disaster,\" said PM Modi in a subsequent tweet.\\n\\n',\n",
       "    'link': 'https://www.indiatoday.in/india/story/cyclone-fani-pm-modi-speaks-to-odisha-cm-governor-will-visit-storm-hit-state-to-assess-situation-1516795-2019-05-04?utm_source=rss'},\n",
       "   {'title': \"PM's travel itinerary in last 125 days: 200 programmes across 27 states and Union Territories\",\n",
       "    'event': 'Protests',\n",
       "    'eventDate': '05/03/2019',\n",
       "    'location': 'Delhi',\n",
       "    'partiesInvolved': 'Protestors',\n",
       "    'source': 'India Today',\n",
       "    'summary': 'On 03 May, On the same day, PM Modi was at the holy Sangam in Prayagraj, where he took a dip and participated in a Puja ceremony.\\n\\n',\n",
       "    'link': 'https://www.indiatoday.in/india/story/pm-s-travel-itinerary-in-last-125-days-200-programmes-across-27-states-and-union-territories-1516665-2019-05-03?utm_source=rss'},\n",
       "   {'title': 'Cyclone Fani likely to cause thunderstorm in Agra, city administration issues warning',\n",
       "    'event': 'Protests',\n",
       "    'eventDate': '05/03/2019',\n",
       "    'location': 'India',\n",
       "    'partiesInvolved': 'Protestors',\n",
       "    'source': 'India Today',\n",
       "    'summary': 'On 03 May, These storms are the direct result of Cyclone Fani which is slowly approaching the southern parts of India and is expected to hit Odisha on Friday.\\n\\n',\n",
       "    'link': 'https://www.indiatoday.in/india/story/cyclone-fani-thunderstorm-agra-uttar-pradesh-warning-1515907-2019-05-03?utm_source=rss'}]},\n",
       " {'rss': 'https://www.freepressjournal.in/feed',\n",
       "  'link': 'https://www.news18.com/politics/?ref=topnav',\n",
       "  'article': []},\n",
       " {'rss': 'https://www.business-standard.com/rss/latest.rss',\n",
       "  'link': 'https://www.business-standard.com/lok-sabha-elections-2019',\n",
       "  'article': [{'title': 'Lok Sabha polls: Army seniors are voting for soldiers in Leh, say officials',\n",
       "    'event': 'Protests',\n",
       "    'eventDate': '05/05/2019',\n",
       "    'location': 'Delhi',\n",
       "    'partiesInvolved': 'Protestors',\n",
       "    'source': 'Business Standard',\n",
       "    'summary': 'On 05 May, While this is the only instance where an election officer has raised an allegation of voting malpractices in the Army, there have been similar reports of commanding officers voting on behalf of their troops in other sectors.',\n",
       "    'link': 'https://www.business-standard.com/article/elections/lok-sabha-polls-army-seniors-are-voting-for-soldiers-in-leh-say-officials-119051100041_1.html'},\n",
       "   {'title': \"Shekhar Gupta: Modi's new 'mandir' project\",\n",
       "    'event': 'Protests',\n",
       "    'eventDate': '05/11/2019',\n",
       "    'location': 'India',\n",
       "    'partiesInvolved': 'Protestors',\n",
       "    'source': 'Business Standard',\n",
       "    'summary': 'On 11 May, And what’s on people’s minds, their aspirations, joys, concerns and fears, you can pretty much understand by reading these writings on the wall.',\n",
       "    'link': 'https://www.business-standard.com/article/opinion/shekhar-gupta-modi-s-new-mandir-project-119051100026_1.html'},\n",
       "   {'title': 'Lok Sabha elections: How an app has helped thousands get voter cards',\n",
       "    'event': 'Protests',\n",
       "    'eventDate': '05/10/2019',\n",
       "    'location': 'Hyderabad',\n",
       "    'partiesInvolved': 'Protestors',\n",
       "    'source': 'Business Standard',\n",
       "    'summary': 'On 10 May, Meet Khalid Saifullah, the engineer who has used data in the public domain to easily identify disenfranchised individuals, and created Missing Voters — an app which ...',\n",
       "    'link': 'https://www.business-standard.com/article/current-affairs/lok-sabha-elections-how-an-app-has-helped-thousands-get-voter-cards-119051100003_1.html'},\n",
       "   {'title': \"Pitroda's comments on 1984 riots 'out of line'; he must apologise: Rahul\",\n",
       "    'event': 'Protests',\n",
       "    'eventDate': '04/06/2019',\n",
       "    'location': 'Dharamsala',\n",
       "    'partiesInvolved': 'congress',\n",
       "    'source': 'Business Standard',\n",
       "    'summary': 'On 06 Apr, \"We all have made our position very clear and that is the 1984 happenings were a terrible tragedy and should never have happened,\" he said.\\n\\n',\n",
       "    'link': 'https://www.business-standard.com/article/elections/pitroda-s-comments-on-1984-riots-out-of-line-he-must-apologise-rahul-119051001591_1.html'},\n",
       "   {'title': 'P S Reddy takes charge as MD and CEO of Multi Commodity Exchange',\n",
       "    'event': 'Protests',\n",
       "    'eventDate': '05/10/2019',\n",
       "    'location': 'MD',\n",
       "    'partiesInvolved': 'Protestors',\n",
       "    'source': 'Business Standard',\n",
       "    'summary': 'On 10 May, He has assumed charge at a time when the exchange is on track to report good profits with rising volumes.\\n\\n',\n",
       "    'link': 'https://www.business-standard.com/article/companies/p-s-reddy-takes-charge-as-md-and-ceo-of-multi-commodity-exchange-119051001564_1.html'},\n",
       "   {'title': 'Emotion trumps reason',\n",
       "    'event': 'Protests',\n",
       "    'eventDate': '05/10/2019',\n",
       "    'location': 'US',\n",
       "    'partiesInvolved': 'Protestors',\n",
       "    'source': 'Business Standard',\n",
       "    'summary': 'On 10 May, Apart from the obvious risks, the design lens seems too underpowered to bring an election into its focus.\\n\\n',\n",
       "    'link': 'https://www.business-standard.com/article/beyond-business/emotion-trumps-reason-119051001550_1.html'},\n",
       "   {'title': 'Lok Sabha elections: Kirti Azad stares at a tricky wicket in Dhanbad',\n",
       "    'event': 'Protests',\n",
       "    'eventDate': '02/18/2019',\n",
       "    'location': 'Bihar',\n",
       "    'partiesInvolved': 'Protestors',\n",
       "    'source': 'Business Standard',\n",
       "    'summary': 'On 18 Feb, It was in the first week of April.\\n\\n',\n",
       "    'link': 'https://www.business-standard.com/article/elections/lok-sabha-elections-kirti-azad-stares-at-a-tricky-wicket-in-dhanbad-119051001555_1.html'},\n",
       "   {'title': 'Lok Sabha elections: In Sonipat, jobs aplenty but infrastructure none',\n",
       "    'event': 'Protests',\n",
       "    'eventDate': '05/10/2019',\n",
       "    'location': 'Sonipat',\n",
       "    'partiesInvolved': 'Protestors',\n",
       "    'source': 'Business Standard',\n",
       "    'summary': 'On 10 May, Even if I am ready to pay much more than the minimum wage, the lack of supporting ...',\n",
       "    'link': 'https://www.business-standard.com/article/elections/lok-sabha-elections-in-sonipat-jobs-aplenty-but-infrastructure-none-119051001548_1.html'},\n",
       "   {'title': 'With Gandhi at its heart, India returns to the Venice Biennale after 8 yrs',\n",
       "    'event': 'Protests',\n",
       "    'eventDate': '05/10/2019',\n",
       "    'location': 'Venice',\n",
       "    'partiesInvolved': 'Protestors',\n",
       "    'source': 'Business Standard',\n",
       "    'summary': 'On 10 May, The artwork is on display at La Biennale di Venezia, or simply the Venice ...',\n",
       "    'link': 'https://www.business-standard.com/article/international/with-gandhi-at-its-heart-india-returns-to-the-venice-biennale-after-8-yrs-119051001485_1.html'},\n",
       "   {'title': '7 Lok Sabha seats, 164 candidates: Campaigning ends, Delhi votes Sunday',\n",
       "    'event': 'Protests',\n",
       "    'eventDate': '04/30/2019',\n",
       "    'location': 'Delhi',\n",
       "    'partiesInvolved': 'aap, bjp',\n",
       "    'source': 'Business Standard',\n",
       "    'summary': 'On 30 Apr, It witnessed an attack on Chief Minister Arvind Kejriwal, acrimonious exchanges between the AAP and the over allegations of horse-trading, rivals jabbing at one another over alleged discrepancies in affidavits and even a candidate of the ruling party in Delhi breaking down in a press conference.\\n\\n',\n",
       "    'link': 'https://www.business-standard.com/article/pti-stories/high-pitched-poll-campaign-in-delhi-ends-as-city-votes-on-sunday-119051001242_1.html'},\n",
       "   {'title': 'Modi appeal, national security will help BJP crossing 2014 tally: Shah',\n",
       "    'event': 'Protests',\n",
       "    'eventDate': '04/06/2019',\n",
       "    'location': 'Odisha',\n",
       "    'partiesInvolved': 'bjp',\n",
       "    'source': 'Business Standard',\n",
       "    'summary': 'On 06 Apr, They also feel that Modi has secured the country and ensured that its economy remained the fastest growing for five consecutive years, he said.\\n\\n',\n",
       "    'link': 'https://www.business-standard.com/article/pti-stories/national-security-modi-appeal-will-propel-bjp-to-better-its-2014-tally-shah-119051001001_1.html'},\n",
       "   {'title': 'Rahul seeks to rest Rafale statement controversy, SC reserves verdict',\n",
       "    'event': 'Protests',\n",
       "    'eventDate': '03/26/2019',\n",
       "    'location': 'Rohatgi',\n",
       "    'partiesInvolved': 'Protestors',\n",
       "    'source': 'Business Standard',\n",
       "    'summary': 'On 26 Mar, Rohatgi also argued that the court should ask Gandhi to make an apology to the public for his remarks.',\n",
       "    'link': 'https://www.business-standard.com/article/pti-stories/rahul-gandhi-seeks-closure-of-criminal-contempt-proceedings-against-him-sc-reserves-verdict-119051000883_1.html'},\n",
       "   {'title': 'An unreal campaign: How election narrative descended to the level of farce',\n",
       "    'event': 'Protests',\n",
       "    'eventDate': '05/10/2019',\n",
       "    'location': 'Narendra Modi',\n",
       "    'partiesInvolved': 'Protestors',\n",
       "    'source': 'Business Standard',\n",
       "    'summary': 'On 10 May, (Namumkin ab mumkin hai), Rahul Gandhi’s Nyay hand-out scheme, and arguments about the relative advantages and ...',\n",
       "    'link': 'https://www.business-standard.com/article/opinion/an-unreal-campaign-how-election-narrative-descended-to-the-level-of-farce-119051000845_1.html'},\n",
       "   {'title': \"Will Rahul oust his 'guru' Pitroda for anti-Sikh remark, asks Jaitley\",\n",
       "    'event': 'Protests',\n",
       "    'eventDate': '05/19/2010',\n",
       "    'location': 'Haryana',\n",
       "    'partiesInvolved': 'congress',\n",
       "    'source': 'Business Standard',\n",
       "    'summary': 'On 19 May, Pitroda, Modi said, is very close to Gandhi family and \"very good friend\" of Rajiv Gandhi and \"Guru of Congress \\'naamdar\\' (dynast) president\"\\n\\n',\n",
       "    'link': 'https://www.business-standard.com/article/pti-stories/will-rahul-oust-his-guru-pitroda-for-anti-sikh-remark-asks-jaitley-119051000731_1.html'},\n",
       "   {'title': \"Anti-Sikh riots: Pitroda accuses BJP of distorting 'hua toh hua' remark\",\n",
       "    'event': 'Protests',\n",
       "    'eventDate': '12/03/2017',\n",
       "    'location': 'India',\n",
       "    'partiesInvolved': 'bjp',\n",
       "    'source': 'Business Standard',\n",
       "    'summary': 'On 03 Dec, \"I acknowledged the pain of my Sikh brothers and sisters during difficult times in 1984 and deeply feel for the atrocities that happened,\" he said.\\n\\n',\n",
       "    'link': 'https://www.business-standard.com/article/pti-stories/anti-sikh-remarks-pitroda-accuses-bjp-of-distorting-truth-119051000703_1.html'},\n",
       "   {'title': \"Ex-Navy officers have exposed Modi's lie about Rajiv Gandhi: Chidambaram\",\n",
       "    'event': 'Protests',\n",
       "    'eventDate': '05/08/2019',\n",
       "    'location': '',\n",
       "    'partiesInvolved': 'Protestors',\n",
       "    'source': 'Business Standard',\n",
       "    'summary': 'On 08 May, Attacking Modi for not acknowledging the cross-border strikes of the UPA era, said, \"If PM did not find evidence of cross-border actions under the UPA government, that means information is being held back from him.\"',\n",
       "    'link': 'https://www.business-standard.com/article/elections/ex-navy-officers-have-exposed-modi-s-lie-about-rajiv-gandhi-chidambaram-119051000771_1.html'}]}]"
      ]
     },
     "execution_count": 89,
     "metadata": {},
     "output_type": "execute_result"
    }
   ],
   "source": [
    "collections[\"total\"]"
   ]
  },
  {
   "cell_type": "code",
   "execution_count": 90,
   "metadata": {},
   "outputs": [
    {
     "data": {
      "text/html": [
       "<div>\n",
       "<style scoped>\n",
       "    .dataframe tbody tr th:only-of-type {\n",
       "        vertical-align: middle;\n",
       "    }\n",
       "\n",
       "    .dataframe tbody tr th {\n",
       "        vertical-align: top;\n",
       "    }\n",
       "\n",
       "    .dataframe thead th {\n",
       "        text-align: right;\n",
       "    }\n",
       "</style>\n",
       "<table border=\"1\" class=\"dataframe\">\n",
       "  <thead>\n",
       "    <tr style=\"text-align: right;\">\n",
       "      <th></th>\n",
       "      <th>article</th>\n",
       "      <th>link</th>\n",
       "      <th>rss</th>\n",
       "    </tr>\n",
       "  </thead>\n",
       "  <tbody>\n",
       "    <tr>\n",
       "      <th>0</th>\n",
       "      <td>[{'title': 'EC issues notice to Congress leade...</td>\n",
       "      <td>https://timesofindia.indiatimes.com/elections/...</td>\n",
       "      <td>https://timesofindia.indiatimes.com/rssfeeds/-...</td>\n",
       "    </tr>\n",
       "    <tr>\n",
       "      <th>1</th>\n",
       "      <td>[]</td>\n",
       "      <td>https://www.hindustantimes.com/</td>\n",
       "      <td>https://www.hindustantimes.com/rss/india/rssfe...</td>\n",
       "    </tr>\n",
       "    <tr>\n",
       "      <th>2</th>\n",
       "      <td>[{'title': 'Supreme Court reserves order in Ra...</td>\n",
       "      <td>https://indianexpress.com/?s=politics</td>\n",
       "      <td>https://www.indiatoday.in/rss/1206578</td>\n",
       "    </tr>\n",
       "    <tr>\n",
       "      <th>3</th>\n",
       "      <td>[]</td>\n",
       "      <td>https://www.news18.com/politics/?ref=topnav</td>\n",
       "      <td>https://www.freepressjournal.in/feed</td>\n",
       "    </tr>\n",
       "    <tr>\n",
       "      <th>4</th>\n",
       "      <td>[{'title': 'Lok Sabha polls: Army seniors are ...</td>\n",
       "      <td>https://www.business-standard.com/lok-sabha-el...</td>\n",
       "      <td>https://www.business-standard.com/rss/latest.rss</td>\n",
       "    </tr>\n",
       "  </tbody>\n",
       "</table>\n",
       "</div>"
      ],
      "text/plain": [
       "                                             article  \\\n",
       "0  [{'title': 'EC issues notice to Congress leade...   \n",
       "1                                                 []   \n",
       "2  [{'title': 'Supreme Court reserves order in Ra...   \n",
       "3                                                 []   \n",
       "4  [{'title': 'Lok Sabha polls: Army seniors are ...   \n",
       "\n",
       "                                                link  \\\n",
       "0  https://timesofindia.indiatimes.com/elections/...   \n",
       "1                    https://www.hindustantimes.com/   \n",
       "2              https://indianexpress.com/?s=politics   \n",
       "3        https://www.news18.com/politics/?ref=topnav   \n",
       "4  https://www.business-standard.com/lok-sabha-el...   \n",
       "\n",
       "                                                 rss  \n",
       "0  https://timesofindia.indiatimes.com/rssfeeds/-...  \n",
       "1  https://www.hindustantimes.com/rss/india/rssfe...  \n",
       "2              https://www.indiatoday.in/rss/1206578  \n",
       "3               https://www.freepressjournal.in/feed  \n",
       "4   https://www.business-standard.com/rss/latest.rss  "
      ]
     },
     "execution_count": 90,
     "metadata": {},
     "output_type": "execute_result"
    }
   ],
   "source": [
    "frame = json_normalize(collections['total'])\n",
    "rows = frame.shape[0]\n",
    "frame"
   ]
  },
  {
   "cell_type": "code",
   "execution_count": 91,
   "metadata": {},
   "outputs": [],
   "source": [
    "totalDF = pd.DataFrame()\n",
    "for row in range(0,rows):\n",
    "    tempDF = pd.DataFrame()\n",
    "    tempDF = json_normalize(collections['total'][row]['article'])\n",
    "    totalDF = totalDF.append(tempDF, ignore_index = True) \n"
   ]
  },
  {
   "cell_type": "markdown",
   "metadata": {},
   "source": [
    "# Dataframe that contains scraped news which has been classified and summarized"
   ]
  },
  {
   "cell_type": "code",
   "execution_count": 92,
   "metadata": {},
   "outputs": [
    {
     "data": {
      "text/html": [
       "<div>\n",
       "<style scoped>\n",
       "    .dataframe tbody tr th:only-of-type {\n",
       "        vertical-align: middle;\n",
       "    }\n",
       "\n",
       "    .dataframe tbody tr th {\n",
       "        vertical-align: top;\n",
       "    }\n",
       "\n",
       "    .dataframe thead th {\n",
       "        text-align: right;\n",
       "    }\n",
       "</style>\n",
       "<table border=\"1\" class=\"dataframe\">\n",
       "  <thead>\n",
       "    <tr style=\"text-align: right;\">\n",
       "      <th></th>\n",
       "      <th>event</th>\n",
       "      <th>eventDate</th>\n",
       "      <th>link</th>\n",
       "      <th>location</th>\n",
       "      <th>partiesInvolved</th>\n",
       "      <th>source</th>\n",
       "      <th>summary</th>\n",
       "      <th>title</th>\n",
       "    </tr>\n",
       "  </thead>\n",
       "  <tbody>\n",
       "    <tr>\n",
       "      <th>0</th>\n",
       "      <td>Protests</td>\n",
       "      <td>05/10/2019</td>\n",
       "      <td>https://timesofindia.indiatimes.com/india/ec-i...</td>\n",
       "      <td>Sidhu</td>\n",
       "      <td>Protestors</td>\n",
       "      <td>TOI</td>\n",
       "      <td>On 10 May, The Election Commission on Friday i...</td>\n",
       "      <td>EC issues notice to Congress leader and Punjab...</td>\n",
       "    </tr>\n",
       "    <tr>\n",
       "      <th>1</th>\n",
       "      <td>Protests</td>\n",
       "      <td>05/10/2019</td>\n",
       "      <td>https://timesofindia.indiatimes.com/india/disc...</td>\n",
       "      <td>Rs</td>\n",
       "      <td>Protestors</td>\n",
       "      <td>TOI</td>\n",
       "      <td>On 10 May, The presentation shows the annual r...</td>\n",
       "      <td>Discoms check theft, raise billing under UDAY ...</td>\n",
       "    </tr>\n",
       "    <tr>\n",
       "      <th>2</th>\n",
       "      <td>Protests</td>\n",
       "      <td>05/10/2019</td>\n",
       "      <td>https://timesofindia.indiatimes.com/india/modi...</td>\n",
       "      <td>Kumar</td>\n",
       "      <td>Protestors</td>\n",
       "      <td>TOI</td>\n",
       "      <td>On 10 May, Kumar rued the lack of trust when i...</td>\n",
       "      <td>Modi seeking to change 'soft &amp; crony'state: Ni...</td>\n",
       "    </tr>\n",
       "    <tr>\n",
       "      <th>3</th>\n",
       "      <td>Protests</td>\n",
       "      <td>05/10/2019</td>\n",
       "      <td>https://timesofindia.indiatimes.com/india/rese...</td>\n",
       "      <td>Union</td>\n",
       "      <td>Protestors</td>\n",
       "      <td>TOI</td>\n",
       "      <td>On 10 May, Otherwise, our past will haunt the ...</td>\n",
       "      <td>Reservations for SCs and the STs is not agains...</td>\n",
       "    </tr>\n",
       "    <tr>\n",
       "      <th>4</th>\n",
       "      <td>Protests</td>\n",
       "      <td>05/10/2019</td>\n",
       "      <td>https://timesofindia.indiatimes.com/india/sc-t...</td>\n",
       "      <td>India</td>\n",
       "      <td>Protestors</td>\n",
       "      <td>TOI</td>\n",
       "      <td>On 10 May, The petitioner has also sought quas...</td>\n",
       "      <td>SC to hear on May 13 plea to advance poll timi...</td>\n",
       "    </tr>\n",
       "    <tr>\n",
       "      <th>5</th>\n",
       "      <td>Protests</td>\n",
       "      <td>05/10/2019</td>\n",
       "      <td>https://timesofindia.indiatimes.com/india/will...</td>\n",
       "      <td>saidWe</td>\n",
       "      <td>Protestors</td>\n",
       "      <td>TOI</td>\n",
       "      <td>On 10 May, Tamil Nadu deputy chief minister O ...</td>\n",
       "      <td>Will urge Guv to release all seven convicts in...</td>\n",
       "    </tr>\n",
       "    <tr>\n",
       "      <th>6</th>\n",
       "      <td>Protests</td>\n",
       "      <td>05/10/2019</td>\n",
       "      <td>https://www.indiatoday.in/india/story/supreme-...</td>\n",
       "      <td>India</td>\n",
       "      <td>Protestors</td>\n",
       "      <td>India Today</td>\n",
       "      <td>On 10 May, Senior advocate Mukul Rohatgi, appe...</td>\n",
       "      <td>Supreme Court reserves order in Rafale review,...</td>\n",
       "    </tr>\n",
       "    <tr>\n",
       "      <th>7</th>\n",
       "      <td>Protests</td>\n",
       "      <td>05/09/2019</td>\n",
       "      <td>https://www.indiatoday.in/india/story/bjp-dema...</td>\n",
       "      <td>Jaipur</td>\n",
       "      <td>bjp</td>\n",
       "      <td>India Today</td>\n",
       "      <td>On 09 May, After they could not get the money ...</td>\n",
       "      <td>BJP demands CBI probe into Alwar gangrape case</td>\n",
       "    </tr>\n",
       "    <tr>\n",
       "      <th>8</th>\n",
       "      <td>Protests</td>\n",
       "      <td>05/09/2019</td>\n",
       "      <td>https://www.indiatoday.in/india/story/alwar-ga...</td>\n",
       "      <td>Mathura</td>\n",
       "      <td>bjp</td>\n",
       "      <td>India Today</td>\n",
       "      <td>On 09 May, Hours after fourth accused Mahesh w...</td>\n",
       "      <td>Alwar gangrape case: All six accused arrested,...</td>\n",
       "    </tr>\n",
       "    <tr>\n",
       "      <th>9</th>\n",
       "      <td>Protests</td>\n",
       "      <td>05/09/2019</td>\n",
       "      <td>https://www.indiatoday.in/india/story/bjp-resp...</td>\n",
       "      <td>Bhopal</td>\n",
       "      <td>bjp, congress</td>\n",
       "      <td>India Today</td>\n",
       "      <td>On 09 May, While mentioning Rajiv Gandhi and h...</td>\n",
       "      <td>BJP respects Rajiv Gandhi, but has right to qu...</td>\n",
       "    </tr>\n",
       "    <tr>\n",
       "      <th>10</th>\n",
       "      <td>Protests</td>\n",
       "      <td>05/09/2019</td>\n",
       "      <td>https://www.indiatoday.in/india/story/rajiv-ga...</td>\n",
       "      <td>Paris</td>\n",
       "      <td>Protestors</td>\n",
       "      <td>India Today</td>\n",
       "      <td>On 09 May, File photo of former prime minister...</td>\n",
       "      <td>Rajiv Gandhi assassination case: SC dismisses ...</td>\n",
       "    </tr>\n",
       "    <tr>\n",
       "      <th>11</th>\n",
       "      <td>Protests</td>\n",
       "      <td>05/09/2019</td>\n",
       "      <td>https://www.indiatoday.in/india/story/rajiv-ga...</td>\n",
       "      <td>New Delhi</td>\n",
       "      <td>bjp</td>\n",
       "      <td>India Today</td>\n",
       "      <td>On 09 May, Rahul\"\\n\\nPM Modi had called Rajiv ...</td>\n",
       "      <td>BJP's latest on Rajiv Gandhi: Instruction to k...</td>\n",
       "    </tr>\n",
       "    <tr>\n",
       "      <th>12</th>\n",
       "      <td>Protests</td>\n",
       "      <td>05/08/2019</td>\n",
       "      <td>https://www.indiatoday.in/india/story/ed-team-...</td>\n",
       "      <td>London</td>\n",
       "      <td>Protestors</td>\n",
       "      <td>India Today</td>\n",
       "      <td>On 08 May, This also indicates that if Nirav i...</td>\n",
       "      <td>ED team in London to oppose Nirav Modi's bail ...</td>\n",
       "    </tr>\n",
       "    <tr>\n",
       "      <th>13</th>\n",
       "      <td>Protests</td>\n",
       "      <td>05/07/2019</td>\n",
       "      <td>https://www.indiatoday.in/india/story/alwar-ga...</td>\n",
       "      <td>Alwar</td>\n",
       "      <td>bjp</td>\n",
       "      <td>India Today</td>\n",
       "      <td>On 07 May, May 7, 2019\\n\\nAshok Gehlot on Tues...</td>\n",
       "      <td>Alwar gangrape takes political turn, BJP alleg...</td>\n",
       "    </tr>\n",
       "    <tr>\n",
       "      <th>14</th>\n",
       "      <td>Protests</td>\n",
       "      <td>05/07/2019</td>\n",
       "      <td>https://www.indiatoday.in/india/story/alwar-da...</td>\n",
       "      <td></td>\n",
       "      <td>bjp</td>\n",
       "      <td>India Today</td>\n",
       "      <td>On 07 May, The Bharatiya Janata Party (BJP) at...</td>\n",
       "      <td>Woman gangraped in Rajasthan: Alwar SP removed...</td>\n",
       "    </tr>\n",
       "    <tr>\n",
       "      <th>15</th>\n",
       "      <td>Protests</td>\n",
       "      <td>05/07/2019</td>\n",
       "      <td>https://www.indiatoday.in/india/story/rajiv-ga...</td>\n",
       "      <td>TN</td>\n",
       "      <td>Protestors</td>\n",
       "      <td>India Today</td>\n",
       "      <td>On 07 May, In April, Nalini approached the Mad...</td>\n",
       "      <td>Rajiv Gandhi assassination case: Nalini approa...</td>\n",
       "    </tr>\n",
       "    <tr>\n",
       "      <th>16</th>\n",
       "      <td>Protests</td>\n",
       "      <td>05/07/2019</td>\n",
       "      <td>https://www.indiatoday.in/india/story/delhi-ro...</td>\n",
       "      <td>Prem Nagar</td>\n",
       "      <td>Protestors</td>\n",
       "      <td>India Today</td>\n",
       "      <td>On 07 May, The two deceased labourers have bee...</td>\n",
       "      <td>2 choke to death while cleaning septic tank in...</td>\n",
       "    </tr>\n",
       "    <tr>\n",
       "      <th>17</th>\n",
       "      <td>Protests</td>\n",
       "      <td>05/07/2019</td>\n",
       "      <td>https://www.indiatoday.in/india/story/rti-repl...</td>\n",
       "      <td>India</td>\n",
       "      <td>congress</td>\n",
       "      <td>India Today</td>\n",
       "      <td>On 07 May, Sibal said, \"The point we're trying...</td>\n",
       "      <td>In RTI reply, Centre says no records of surgic...</td>\n",
       "    </tr>\n",
       "    <tr>\n",
       "      <th>18</th>\n",
       "      <td>Protests</td>\n",
       "      <td>05/07/2019</td>\n",
       "      <td>https://www.indiatoday.in/india/story/rafale-a...</td>\n",
       "      <td>Registry</td>\n",
       "      <td>Protestors</td>\n",
       "      <td>India Today</td>\n",
       "      <td>On 07 May, When this matter came to the light,...</td>\n",
       "      <td>Rafale and Rahul Gandhi: Curious case of missi...</td>\n",
       "    </tr>\n",
       "    <tr>\n",
       "      <th>19</th>\n",
       "      <td>Protests</td>\n",
       "      <td>05/06/2019</td>\n",
       "      <td>https://www.indiatoday.in/india/story/bjp-lead...</td>\n",
       "      <td>CM</td>\n",
       "      <td>bjp</td>\n",
       "      <td>India Today</td>\n",
       "      <td>On 06 May, This is the answer to the question ...</td>\n",
       "      <td>BJP leaders should say I am Pagal, not I am Ch...</td>\n",
       "    </tr>\n",
       "    <tr>\n",
       "      <th>20</th>\n",
       "      <td>Protests</td>\n",
       "      <td>05/06/2019</td>\n",
       "      <td>https://www.indiatoday.in/india/story/pm-modi-...</td>\n",
       "      <td>West Bengal</td>\n",
       "      <td>Protestors</td>\n",
       "      <td>India Today</td>\n",
       "      <td>On 06 May, Hitting back strongly, Mamata Baner...</td>\n",
       "      <td>Modi blames Mamata's arrogance for failed Cycl...</td>\n",
       "    </tr>\n",
       "    <tr>\n",
       "      <th>21</th>\n",
       "      <td>Protests</td>\n",
       "      <td>05/06/2019</td>\n",
       "      <td>https://www.indiatoday.in/india/story/narendra...</td>\n",
       "      <td>West Bengal</td>\n",
       "      <td>Protestors</td>\n",
       "      <td>India Today</td>\n",
       "      <td>On 06 May, The Prime Minister had on Sunday tw...</td>\n",
       "      <td>PM conducts aerial survey of areas affected by...</td>\n",
       "    </tr>\n",
       "    <tr>\n",
       "      <th>22</th>\n",
       "      <td>Protests</td>\n",
       "      <td>05/06/2019</td>\n",
       "      <td>https://www.indiatoday.in/india/story/odisha-n...</td>\n",
       "      <td>Rs</td>\n",
       "      <td>Protestors</td>\n",
       "      <td>India Today</td>\n",
       "      <td>On 06 May, The PM also spoke to the chief mini...</td>\n",
       "      <td>PM Modi praises Odisha CM Naveen Patnaik on ta...</td>\n",
       "    </tr>\n",
       "    <tr>\n",
       "      <th>23</th>\n",
       "      <td>Protests</td>\n",
       "      <td>05/05/2019</td>\n",
       "      <td>https://www.indiatoday.in/india/story/cyclone-...</td>\n",
       "      <td>West Bengal</td>\n",
       "      <td>Protestors</td>\n",
       "      <td>India Today</td>\n",
       "      <td>On 05 May, On one occasion they were told that...</td>\n",
       "      <td>Cyclone Fani at centre of storm: PM Modi calle...</td>\n",
       "    </tr>\n",
       "    <tr>\n",
       "      <th>24</th>\n",
       "      <td>Protests</td>\n",
       "      <td>05/04/2019</td>\n",
       "      <td>https://www.indiatoday.in/india/story/bjp-work...</td>\n",
       "      <td>Jammu</td>\n",
       "      <td>bjp</td>\n",
       "      <td>India Today</td>\n",
       "      <td>On 04 May, It is said that Mir unsuccessfully ...</td>\n",
       "      <td>BJP leader shot dead by terrorists in J&amp;K's No...</td>\n",
       "    </tr>\n",
       "    <tr>\n",
       "      <th>25</th>\n",
       "      <td>Protests</td>\n",
       "      <td>05/04/2019</td>\n",
       "      <td>https://www.indiatoday.in/india/story/bjp-bang...</td>\n",
       "      <td>Kolkata</td>\n",
       "      <td>bjp</td>\n",
       "      <td>India Today</td>\n",
       "      <td>On 04 May, Shantanu Thakur sustained serious h...</td>\n",
       "      <td>BJP candidate from West Bengal injured in road...</td>\n",
       "    </tr>\n",
       "    <tr>\n",
       "      <th>26</th>\n",
       "      <td>Protests</td>\n",
       "      <td>05/04/2019</td>\n",
       "      <td>https://www.indiatoday.in/india/story/cyclone-...</td>\n",
       "      <td>Puri</td>\n",
       "      <td>Protestors</td>\n",
       "      <td>India Today</td>\n",
       "      <td>On 04 May, Assured all possible help from the ...</td>\n",
       "      <td>Cyclone Fani: PM Modi to visit Odisha to asses...</td>\n",
       "    </tr>\n",
       "    <tr>\n",
       "      <th>27</th>\n",
       "      <td>Protests</td>\n",
       "      <td>05/03/2019</td>\n",
       "      <td>https://www.indiatoday.in/india/story/pm-s-tra...</td>\n",
       "      <td>Delhi</td>\n",
       "      <td>Protestors</td>\n",
       "      <td>India Today</td>\n",
       "      <td>On 03 May, On the same day, PM Modi was at the...</td>\n",
       "      <td>PM's travel itinerary in last 125 days: 200 pr...</td>\n",
       "    </tr>\n",
       "    <tr>\n",
       "      <th>28</th>\n",
       "      <td>Protests</td>\n",
       "      <td>05/03/2019</td>\n",
       "      <td>https://www.indiatoday.in/india/story/cyclone-...</td>\n",
       "      <td>India</td>\n",
       "      <td>Protestors</td>\n",
       "      <td>India Today</td>\n",
       "      <td>On 03 May, These storms are the direct result ...</td>\n",
       "      <td>Cyclone Fani likely to cause thunderstorm in A...</td>\n",
       "    </tr>\n",
       "    <tr>\n",
       "      <th>29</th>\n",
       "      <td>Protests</td>\n",
       "      <td>05/05/2019</td>\n",
       "      <td>https://www.business-standard.com/article/elec...</td>\n",
       "      <td>Delhi</td>\n",
       "      <td>Protestors</td>\n",
       "      <td>Business Standard</td>\n",
       "      <td>On 05 May, While this is the only instance whe...</td>\n",
       "      <td>Lok Sabha polls: Army seniors are voting for s...</td>\n",
       "    </tr>\n",
       "    <tr>\n",
       "      <th>30</th>\n",
       "      <td>Protests</td>\n",
       "      <td>05/11/2019</td>\n",
       "      <td>https://www.business-standard.com/article/opin...</td>\n",
       "      <td>India</td>\n",
       "      <td>Protestors</td>\n",
       "      <td>Business Standard</td>\n",
       "      <td>On 11 May, And what’s on people’s minds, their...</td>\n",
       "      <td>Shekhar Gupta: Modi's new 'mandir' project</td>\n",
       "    </tr>\n",
       "    <tr>\n",
       "      <th>31</th>\n",
       "      <td>Protests</td>\n",
       "      <td>05/10/2019</td>\n",
       "      <td>https://www.business-standard.com/article/curr...</td>\n",
       "      <td>Hyderabad</td>\n",
       "      <td>Protestors</td>\n",
       "      <td>Business Standard</td>\n",
       "      <td>On 10 May, Meet Khalid Saifullah, the engineer...</td>\n",
       "      <td>Lok Sabha elections: How an app has helped tho...</td>\n",
       "    </tr>\n",
       "    <tr>\n",
       "      <th>32</th>\n",
       "      <td>Protests</td>\n",
       "      <td>04/06/2019</td>\n",
       "      <td>https://www.business-standard.com/article/elec...</td>\n",
       "      <td>Dharamsala</td>\n",
       "      <td>congress</td>\n",
       "      <td>Business Standard</td>\n",
       "      <td>On 06 Apr, \"We all have made our position very...</td>\n",
       "      <td>Pitroda's comments on 1984 riots 'out of line'...</td>\n",
       "    </tr>\n",
       "    <tr>\n",
       "      <th>33</th>\n",
       "      <td>Protests</td>\n",
       "      <td>05/10/2019</td>\n",
       "      <td>https://www.business-standard.com/article/comp...</td>\n",
       "      <td>MD</td>\n",
       "      <td>Protestors</td>\n",
       "      <td>Business Standard</td>\n",
       "      <td>On 10 May, He has assumed charge at a time whe...</td>\n",
       "      <td>P S Reddy takes charge as MD and CEO of Multi ...</td>\n",
       "    </tr>\n",
       "    <tr>\n",
       "      <th>34</th>\n",
       "      <td>Protests</td>\n",
       "      <td>05/10/2019</td>\n",
       "      <td>https://www.business-standard.com/article/beyo...</td>\n",
       "      <td>US</td>\n",
       "      <td>Protestors</td>\n",
       "      <td>Business Standard</td>\n",
       "      <td>On 10 May, Apart from the obvious risks, the d...</td>\n",
       "      <td>Emotion trumps reason</td>\n",
       "    </tr>\n",
       "    <tr>\n",
       "      <th>35</th>\n",
       "      <td>Protests</td>\n",
       "      <td>02/18/2019</td>\n",
       "      <td>https://www.business-standard.com/article/elec...</td>\n",
       "      <td>Bihar</td>\n",
       "      <td>Protestors</td>\n",
       "      <td>Business Standard</td>\n",
       "      <td>On 18 Feb, It was in the first week of April.\\n\\n</td>\n",
       "      <td>Lok Sabha elections: Kirti Azad stares at a tr...</td>\n",
       "    </tr>\n",
       "    <tr>\n",
       "      <th>36</th>\n",
       "      <td>Protests</td>\n",
       "      <td>05/10/2019</td>\n",
       "      <td>https://www.business-standard.com/article/elec...</td>\n",
       "      <td>Sonipat</td>\n",
       "      <td>Protestors</td>\n",
       "      <td>Business Standard</td>\n",
       "      <td>On 10 May, Even if I am ready to pay much more...</td>\n",
       "      <td>Lok Sabha elections: In Sonipat, jobs aplenty ...</td>\n",
       "    </tr>\n",
       "    <tr>\n",
       "      <th>37</th>\n",
       "      <td>Protests</td>\n",
       "      <td>05/10/2019</td>\n",
       "      <td>https://www.business-standard.com/article/inte...</td>\n",
       "      <td>Venice</td>\n",
       "      <td>Protestors</td>\n",
       "      <td>Business Standard</td>\n",
       "      <td>On 10 May, The artwork is on display at La Bie...</td>\n",
       "      <td>With Gandhi at its heart, India returns to the...</td>\n",
       "    </tr>\n",
       "    <tr>\n",
       "      <th>38</th>\n",
       "      <td>Protests</td>\n",
       "      <td>04/30/2019</td>\n",
       "      <td>https://www.business-standard.com/article/pti-...</td>\n",
       "      <td>Delhi</td>\n",
       "      <td>aap, bjp</td>\n",
       "      <td>Business Standard</td>\n",
       "      <td>On 30 Apr, It witnessed an attack on Chief Min...</td>\n",
       "      <td>7 Lok Sabha seats, 164 candidates: Campaigning...</td>\n",
       "    </tr>\n",
       "    <tr>\n",
       "      <th>39</th>\n",
       "      <td>Protests</td>\n",
       "      <td>04/06/2019</td>\n",
       "      <td>https://www.business-standard.com/article/pti-...</td>\n",
       "      <td>Odisha</td>\n",
       "      <td>bjp</td>\n",
       "      <td>Business Standard</td>\n",
       "      <td>On 06 Apr, They also feel that Modi has secure...</td>\n",
       "      <td>Modi appeal, national security will help BJP c...</td>\n",
       "    </tr>\n",
       "    <tr>\n",
       "      <th>40</th>\n",
       "      <td>Protests</td>\n",
       "      <td>03/26/2019</td>\n",
       "      <td>https://www.business-standard.com/article/pti-...</td>\n",
       "      <td>Rohatgi</td>\n",
       "      <td>Protestors</td>\n",
       "      <td>Business Standard</td>\n",
       "      <td>On 26 Mar, Rohatgi also argued that the court ...</td>\n",
       "      <td>Rahul seeks to rest Rafale statement controver...</td>\n",
       "    </tr>\n",
       "    <tr>\n",
       "      <th>41</th>\n",
       "      <td>Protests</td>\n",
       "      <td>05/10/2019</td>\n",
       "      <td>https://www.business-standard.com/article/opin...</td>\n",
       "      <td>Narendra Modi</td>\n",
       "      <td>Protestors</td>\n",
       "      <td>Business Standard</td>\n",
       "      <td>On 10 May, (Namumkin ab mumkin hai), Rahul Gan...</td>\n",
       "      <td>An unreal campaign: How election narrative des...</td>\n",
       "    </tr>\n",
       "    <tr>\n",
       "      <th>42</th>\n",
       "      <td>Protests</td>\n",
       "      <td>05/19/2010</td>\n",
       "      <td>https://www.business-standard.com/article/pti-...</td>\n",
       "      <td>Haryana</td>\n",
       "      <td>congress</td>\n",
       "      <td>Business Standard</td>\n",
       "      <td>On 19 May, Pitroda, Modi said, is very close t...</td>\n",
       "      <td>Will Rahul oust his 'guru' Pitroda for anti-Si...</td>\n",
       "    </tr>\n",
       "    <tr>\n",
       "      <th>43</th>\n",
       "      <td>Protests</td>\n",
       "      <td>12/03/2017</td>\n",
       "      <td>https://www.business-standard.com/article/pti-...</td>\n",
       "      <td>India</td>\n",
       "      <td>bjp</td>\n",
       "      <td>Business Standard</td>\n",
       "      <td>On 03 Dec, \"I acknowledged the pain of my Sikh...</td>\n",
       "      <td>Anti-Sikh riots: Pitroda accuses BJP of distor...</td>\n",
       "    </tr>\n",
       "    <tr>\n",
       "      <th>44</th>\n",
       "      <td>Protests</td>\n",
       "      <td>05/08/2019</td>\n",
       "      <td>https://www.business-standard.com/article/elec...</td>\n",
       "      <td></td>\n",
       "      <td>Protestors</td>\n",
       "      <td>Business Standard</td>\n",
       "      <td>On 08 May, Attacking Modi for not acknowledgin...</td>\n",
       "      <td>Ex-Navy officers have exposed Modi's lie about...</td>\n",
       "    </tr>\n",
       "  </tbody>\n",
       "</table>\n",
       "</div>"
      ],
      "text/plain": [
       "       event   eventDate                                               link  \\\n",
       "0   Protests  05/10/2019  https://timesofindia.indiatimes.com/india/ec-i...   \n",
       "1   Protests  05/10/2019  https://timesofindia.indiatimes.com/india/disc...   \n",
       "2   Protests  05/10/2019  https://timesofindia.indiatimes.com/india/modi...   \n",
       "3   Protests  05/10/2019  https://timesofindia.indiatimes.com/india/rese...   \n",
       "4   Protests  05/10/2019  https://timesofindia.indiatimes.com/india/sc-t...   \n",
       "5   Protests  05/10/2019  https://timesofindia.indiatimes.com/india/will...   \n",
       "6   Protests  05/10/2019  https://www.indiatoday.in/india/story/supreme-...   \n",
       "7   Protests  05/09/2019  https://www.indiatoday.in/india/story/bjp-dema...   \n",
       "8   Protests  05/09/2019  https://www.indiatoday.in/india/story/alwar-ga...   \n",
       "9   Protests  05/09/2019  https://www.indiatoday.in/india/story/bjp-resp...   \n",
       "10  Protests  05/09/2019  https://www.indiatoday.in/india/story/rajiv-ga...   \n",
       "11  Protests  05/09/2019  https://www.indiatoday.in/india/story/rajiv-ga...   \n",
       "12  Protests  05/08/2019  https://www.indiatoday.in/india/story/ed-team-...   \n",
       "13  Protests  05/07/2019  https://www.indiatoday.in/india/story/alwar-ga...   \n",
       "14  Protests  05/07/2019  https://www.indiatoday.in/india/story/alwar-da...   \n",
       "15  Protests  05/07/2019  https://www.indiatoday.in/india/story/rajiv-ga...   \n",
       "16  Protests  05/07/2019  https://www.indiatoday.in/india/story/delhi-ro...   \n",
       "17  Protests  05/07/2019  https://www.indiatoday.in/india/story/rti-repl...   \n",
       "18  Protests  05/07/2019  https://www.indiatoday.in/india/story/rafale-a...   \n",
       "19  Protests  05/06/2019  https://www.indiatoday.in/india/story/bjp-lead...   \n",
       "20  Protests  05/06/2019  https://www.indiatoday.in/india/story/pm-modi-...   \n",
       "21  Protests  05/06/2019  https://www.indiatoday.in/india/story/narendra...   \n",
       "22  Protests  05/06/2019  https://www.indiatoday.in/india/story/odisha-n...   \n",
       "23  Protests  05/05/2019  https://www.indiatoday.in/india/story/cyclone-...   \n",
       "24  Protests  05/04/2019  https://www.indiatoday.in/india/story/bjp-work...   \n",
       "25  Protests  05/04/2019  https://www.indiatoday.in/india/story/bjp-bang...   \n",
       "26  Protests  05/04/2019  https://www.indiatoday.in/india/story/cyclone-...   \n",
       "27  Protests  05/03/2019  https://www.indiatoday.in/india/story/pm-s-tra...   \n",
       "28  Protests  05/03/2019  https://www.indiatoday.in/india/story/cyclone-...   \n",
       "29  Protests  05/05/2019  https://www.business-standard.com/article/elec...   \n",
       "30  Protests  05/11/2019  https://www.business-standard.com/article/opin...   \n",
       "31  Protests  05/10/2019  https://www.business-standard.com/article/curr...   \n",
       "32  Protests  04/06/2019  https://www.business-standard.com/article/elec...   \n",
       "33  Protests  05/10/2019  https://www.business-standard.com/article/comp...   \n",
       "34  Protests  05/10/2019  https://www.business-standard.com/article/beyo...   \n",
       "35  Protests  02/18/2019  https://www.business-standard.com/article/elec...   \n",
       "36  Protests  05/10/2019  https://www.business-standard.com/article/elec...   \n",
       "37  Protests  05/10/2019  https://www.business-standard.com/article/inte...   \n",
       "38  Protests  04/30/2019  https://www.business-standard.com/article/pti-...   \n",
       "39  Protests  04/06/2019  https://www.business-standard.com/article/pti-...   \n",
       "40  Protests  03/26/2019  https://www.business-standard.com/article/pti-...   \n",
       "41  Protests  05/10/2019  https://www.business-standard.com/article/opin...   \n",
       "42  Protests  05/19/2010  https://www.business-standard.com/article/pti-...   \n",
       "43  Protests  12/03/2017  https://www.business-standard.com/article/pti-...   \n",
       "44  Protests  05/08/2019  https://www.business-standard.com/article/elec...   \n",
       "\n",
       "         location partiesInvolved             source  \\\n",
       "0           Sidhu      Protestors                TOI   \n",
       "1              Rs      Protestors                TOI   \n",
       "2           Kumar      Protestors                TOI   \n",
       "3           Union      Protestors                TOI   \n",
       "4           India      Protestors                TOI   \n",
       "5          saidWe      Protestors                TOI   \n",
       "6           India      Protestors        India Today   \n",
       "7          Jaipur             bjp        India Today   \n",
       "8         Mathura             bjp        India Today   \n",
       "9          Bhopal   bjp, congress        India Today   \n",
       "10          Paris      Protestors        India Today   \n",
       "11      New Delhi             bjp        India Today   \n",
       "12         London      Protestors        India Today   \n",
       "13          Alwar             bjp        India Today   \n",
       "14                            bjp        India Today   \n",
       "15             TN      Protestors        India Today   \n",
       "16     Prem Nagar      Protestors        India Today   \n",
       "17          India        congress        India Today   \n",
       "18       Registry      Protestors        India Today   \n",
       "19             CM             bjp        India Today   \n",
       "20    West Bengal      Protestors        India Today   \n",
       "21    West Bengal      Protestors        India Today   \n",
       "22             Rs      Protestors        India Today   \n",
       "23    West Bengal      Protestors        India Today   \n",
       "24          Jammu             bjp        India Today   \n",
       "25        Kolkata             bjp        India Today   \n",
       "26           Puri      Protestors        India Today   \n",
       "27          Delhi      Protestors        India Today   \n",
       "28          India      Protestors        India Today   \n",
       "29          Delhi      Protestors  Business Standard   \n",
       "30          India      Protestors  Business Standard   \n",
       "31      Hyderabad      Protestors  Business Standard   \n",
       "32     Dharamsala        congress  Business Standard   \n",
       "33             MD      Protestors  Business Standard   \n",
       "34             US      Protestors  Business Standard   \n",
       "35          Bihar      Protestors  Business Standard   \n",
       "36        Sonipat      Protestors  Business Standard   \n",
       "37         Venice      Protestors  Business Standard   \n",
       "38          Delhi        aap, bjp  Business Standard   \n",
       "39         Odisha             bjp  Business Standard   \n",
       "40        Rohatgi      Protestors  Business Standard   \n",
       "41  Narendra Modi      Protestors  Business Standard   \n",
       "42        Haryana        congress  Business Standard   \n",
       "43          India             bjp  Business Standard   \n",
       "44                     Protestors  Business Standard   \n",
       "\n",
       "                                              summary  \\\n",
       "0   On 10 May, The Election Commission on Friday i...   \n",
       "1   On 10 May, The presentation shows the annual r...   \n",
       "2   On 10 May, Kumar rued the lack of trust when i...   \n",
       "3   On 10 May, Otherwise, our past will haunt the ...   \n",
       "4   On 10 May, The petitioner has also sought quas...   \n",
       "5   On 10 May, Tamil Nadu deputy chief minister O ...   \n",
       "6   On 10 May, Senior advocate Mukul Rohatgi, appe...   \n",
       "7   On 09 May, After they could not get the money ...   \n",
       "8   On 09 May, Hours after fourth accused Mahesh w...   \n",
       "9   On 09 May, While mentioning Rajiv Gandhi and h...   \n",
       "10  On 09 May, File photo of former prime minister...   \n",
       "11  On 09 May, Rahul\"\\n\\nPM Modi had called Rajiv ...   \n",
       "12  On 08 May, This also indicates that if Nirav i...   \n",
       "13  On 07 May, May 7, 2019\\n\\nAshok Gehlot on Tues...   \n",
       "14  On 07 May, The Bharatiya Janata Party (BJP) at...   \n",
       "15  On 07 May, In April, Nalini approached the Mad...   \n",
       "16  On 07 May, The two deceased labourers have bee...   \n",
       "17  On 07 May, Sibal said, \"The point we're trying...   \n",
       "18  On 07 May, When this matter came to the light,...   \n",
       "19  On 06 May, This is the answer to the question ...   \n",
       "20  On 06 May, Hitting back strongly, Mamata Baner...   \n",
       "21  On 06 May, The Prime Minister had on Sunday tw...   \n",
       "22  On 06 May, The PM also spoke to the chief mini...   \n",
       "23  On 05 May, On one occasion they were told that...   \n",
       "24  On 04 May, It is said that Mir unsuccessfully ...   \n",
       "25  On 04 May, Shantanu Thakur sustained serious h...   \n",
       "26  On 04 May, Assured all possible help from the ...   \n",
       "27  On 03 May, On the same day, PM Modi was at the...   \n",
       "28  On 03 May, These storms are the direct result ...   \n",
       "29  On 05 May, While this is the only instance whe...   \n",
       "30  On 11 May, And what’s on people’s minds, their...   \n",
       "31  On 10 May, Meet Khalid Saifullah, the engineer...   \n",
       "32  On 06 Apr, \"We all have made our position very...   \n",
       "33  On 10 May, He has assumed charge at a time whe...   \n",
       "34  On 10 May, Apart from the obvious risks, the d...   \n",
       "35  On 18 Feb, It was in the first week of April.\\n\\n   \n",
       "36  On 10 May, Even if I am ready to pay much more...   \n",
       "37  On 10 May, The artwork is on display at La Bie...   \n",
       "38  On 30 Apr, It witnessed an attack on Chief Min...   \n",
       "39  On 06 Apr, They also feel that Modi has secure...   \n",
       "40  On 26 Mar, Rohatgi also argued that the court ...   \n",
       "41  On 10 May, (Namumkin ab mumkin hai), Rahul Gan...   \n",
       "42  On 19 May, Pitroda, Modi said, is very close t...   \n",
       "43  On 03 Dec, \"I acknowledged the pain of my Sikh...   \n",
       "44  On 08 May, Attacking Modi for not acknowledgin...   \n",
       "\n",
       "                                                title  \n",
       "0   EC issues notice to Congress leader and Punjab...  \n",
       "1   Discoms check theft, raise billing under UDAY ...  \n",
       "2   Modi seeking to change 'soft & crony'state: Ni...  \n",
       "3   Reservations for SCs and the STs is not agains...  \n",
       "4   SC to hear on May 13 plea to advance poll timi...  \n",
       "5   Will urge Guv to release all seven convicts in...  \n",
       "6   Supreme Court reserves order in Rafale review,...  \n",
       "7      BJP demands CBI probe into Alwar gangrape case  \n",
       "8   Alwar gangrape case: All six accused arrested,...  \n",
       "9   BJP respects Rajiv Gandhi, but has right to qu...  \n",
       "10  Rajiv Gandhi assassination case: SC dismisses ...  \n",
       "11  BJP's latest on Rajiv Gandhi: Instruction to k...  \n",
       "12  ED team in London to oppose Nirav Modi's bail ...  \n",
       "13  Alwar gangrape takes political turn, BJP alleg...  \n",
       "14  Woman gangraped in Rajasthan: Alwar SP removed...  \n",
       "15  Rajiv Gandhi assassination case: Nalini approa...  \n",
       "16  2 choke to death while cleaning septic tank in...  \n",
       "17  In RTI reply, Centre says no records of surgic...  \n",
       "18  Rafale and Rahul Gandhi: Curious case of missi...  \n",
       "19  BJP leaders should say I am Pagal, not I am Ch...  \n",
       "20  Modi blames Mamata's arrogance for failed Cycl...  \n",
       "21  PM conducts aerial survey of areas affected by...  \n",
       "22  PM Modi praises Odisha CM Naveen Patnaik on ta...  \n",
       "23  Cyclone Fani at centre of storm: PM Modi calle...  \n",
       "24  BJP leader shot dead by terrorists in J&K's No...  \n",
       "25  BJP candidate from West Bengal injured in road...  \n",
       "26  Cyclone Fani: PM Modi to visit Odisha to asses...  \n",
       "27  PM's travel itinerary in last 125 days: 200 pr...  \n",
       "28  Cyclone Fani likely to cause thunderstorm in A...  \n",
       "29  Lok Sabha polls: Army seniors are voting for s...  \n",
       "30         Shekhar Gupta: Modi's new 'mandir' project  \n",
       "31  Lok Sabha elections: How an app has helped tho...  \n",
       "32  Pitroda's comments on 1984 riots 'out of line'...  \n",
       "33  P S Reddy takes charge as MD and CEO of Multi ...  \n",
       "34                              Emotion trumps reason  \n",
       "35  Lok Sabha elections: Kirti Azad stares at a tr...  \n",
       "36  Lok Sabha elections: In Sonipat, jobs aplenty ...  \n",
       "37  With Gandhi at its heart, India returns to the...  \n",
       "38  7 Lok Sabha seats, 164 candidates: Campaigning...  \n",
       "39  Modi appeal, national security will help BJP c...  \n",
       "40  Rahul seeks to rest Rafale statement controver...  \n",
       "41  An unreal campaign: How election narrative des...  \n",
       "42  Will Rahul oust his 'guru' Pitroda for anti-Si...  \n",
       "43  Anti-Sikh riots: Pitroda accuses BJP of distor...  \n",
       "44  Ex-Navy officers have exposed Modi's lie about...  "
      ]
     },
     "execution_count": 92,
     "metadata": {},
     "output_type": "execute_result"
    }
   ],
   "source": [
    "totalDF"
   ]
  },
  {
   "cell_type": "code",
   "execution_count": 93,
   "metadata": {},
   "outputs": [],
   "source": [
    "import datetime\n",
    "now = datetime.datetime.now()\n",
    "totalDF.to_excel(\"airData/india/testing_\"+now.strftime(\"%m%d%Y_%H%M%S\")+\".xlsx\")"
   ]
  },
  {
   "cell_type": "code",
   "execution_count": null,
   "metadata": {},
   "outputs": [],
   "source": []
  }
 ],
 "metadata": {
  "kernelspec": {
   "display_name": "Python 3",
   "language": "python",
   "name": "python3"
  },
  "language_info": {
   "codemirror_mode": {
    "name": "ipython",
    "version": 3
   },
   "file_extension": ".py",
   "mimetype": "text/x-python",
   "name": "python",
   "nbconvert_exporter": "python",
   "pygments_lexer": "ipython3",
   "version": "3.6.5"
  }
 },
 "nbformat": 4,
 "nbformat_minor": 2
}
