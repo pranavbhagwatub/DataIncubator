{
 "cells": [
  {
   "cell_type": "code",
   "execution_count": 1,
   "metadata": {},
   "outputs": [
    {
     "name": "stdout",
     "output_type": "stream",
     "text": [
      "[nltk_data] Downloading package punkt to\n",
      "[nltk_data]     C:\\Users\\anike\\AppData\\Roaming\\nltk_data...\n",
      "[nltk_data]   Package punkt is already up-to-date!\n",
      "[nltk_data] Downloading package averaged_perceptron_tagger to\n",
      "[nltk_data]     C:\\Users\\anike\\AppData\\Roaming\\nltk_data...\n",
      "[nltk_data]   Package averaged_perceptron_tagger is already up-to-\n",
      "[nltk_data]       date!\n",
      "[nltk_data] Downloading package maxent_ne_chunker to\n",
      "[nltk_data]     C:\\Users\\anike\\AppData\\Roaming\\nltk_data...\n",
      "[nltk_data]   Package maxent_ne_chunker is already up-to-date!\n",
      "[nltk_data] Downloading package words to\n",
      "[nltk_data]     C:\\Users\\anike\\AppData\\Roaming\\nltk_data...\n",
      "[nltk_data]   Package words is already up-to-date!\n",
      "[nltk_data] Downloading package treebank to\n",
      "[nltk_data]     C:\\Users\\anike\\AppData\\Roaming\\nltk_data...\n",
      "[nltk_data]   Package treebank is already up-to-date!\n",
      "[nltk_data] Downloading package maxent_treebank_pos_tagger to\n",
      "[nltk_data]     C:\\Users\\anike\\AppData\\Roaming\\nltk_data...\n",
      "[nltk_data]   Package maxent_treebank_pos_tagger is already up-to-\n",
      "[nltk_data]       date!\n"
     ]
    }
   ],
   "source": [
    "import feedparser as fp\n",
    "import json\n",
    "import newspaper\n",
    "from newspaper import Article\n",
    "from time import mktime\n",
    "from datetime import datetime\n",
    "import spacy\n",
    "from spacy import displacy\n",
    "nlp = spacy.load('en_core_web_sm')\n",
    "import pandas as pd\n",
    "from pandas.io.json import json_normalize\n",
    "import nltk\n",
    "import re\n",
    "from rouge import Rouge \n",
    "from collections import Counter\n",
    "from geotext import GeoText\n",
    "nltk.download('punkt')\n",
    "nltk.download('averaged_perceptron_tagger')\n",
    "nltk.downloader.download('maxent_ne_chunker')\n",
    "nltk.downloader.download('words')\n",
    "nltk.downloader.download('treebank')\n",
    "nltk.downloader.download('maxent_treebank_pos_tagger')\n",
    "import string\n",
    "from gensim.summarization.summarizer import summarize\n",
    "\n",
    "from sumy.parsers.plaintext import PlaintextParser #We're choosing a plaintext parser\n",
    "from sumy.nlp.tokenizers import Tokenizer \n",
    "from sumy.summarizers.lex_rank import LexRankSummarizer #We're choosing Lexrank, other algorithms are also built in\n",
    "from sumy.summarizers.lsa import LsaSummarizer\n",
    "from sumy.summarizers.luhn import LuhnSummarizer\n",
    "\n",
    "import articleDateExtractor\n",
    "\n",
    "\n",
    "global str"
   ]
  },
  {
   "cell_type": "code",
   "execution_count": 2,
   "metadata": {},
   "outputs": [],
   "source": [
    "from nltk.tag import StanfordNERTagger\n",
    "from nltk.tokenize import word_tokenize\n",
    "# nltk.internals.config_java(\"C:/Program Files/Java/jdk1.8.0_181/bin\")\n",
    "\n",
    "import os\n",
    "java_path = \"C:/Program Files/Java/jdk1.8.0_181/bin/java.exe\"\n",
    "os.environ['JAVAHOME'] = java_path\n",
    "\n",
    "st = StanfordNERTagger('C:/Users/anike/Downloads/stanford-ner-2018-10-16/classifiers/english.all.3class.distsim.crf.ser.gz','C:/Users/anike/Downloads/stanford-ner-2018-10-16/stanford-ner-3.9.2.jar', encoding='utf-8')\n"
   ]
  },
  {
   "cell_type": "markdown",
   "metadata": {},
   "source": [
    "# Classifier "
   ]
  },
  {
   "cell_type": "code",
   "execution_count": 3,
   "metadata": {},
   "outputs": [
    {
     "name": "stderr",
     "output_type": "stream",
     "text": [
      "C:\\Users\\anike\\Anaconda3\\lib\\site-packages\\sklearn\\ensemble\\weight_boosting.py:29: DeprecationWarning: numpy.core.umath_tests is an internal NumPy module and should not be imported. It will be removed in a future NumPy release.\n",
      "  from numpy.core.umath_tests import inner1d\n",
      "C:\\Users\\anike\\Anaconda3\\lib\\site-packages\\h5py\\__init__.py:36: FutureWarning: Conversion of the second argument of issubdtype from `float` to `np.floating` is deprecated. In future, it will be treated as `np.float64 == np.dtype(float).type`.\n",
      "  from ._conv import register_converters as _register_converters\n",
      "Using TensorFlow backend.\n"
     ]
    },
    {
     "name": "stdout",
     "output_type": "stream",
     "text": [
      "[nltk_data] Downloading package wordnet to\n",
      "[nltk_data]     C:\\Users\\anike\\AppData\\Roaming\\nltk_data...\n",
      "[nltk_data]   Package wordnet is already up-to-date!\n"
     ]
    }
   ],
   "source": [
    "from sklearn import model_selection, preprocessing, linear_model, naive_bayes, metrics, svm\n",
    "from sklearn.feature_extraction.text import TfidfVectorizer, CountVectorizer\n",
    "from sklearn import decomposition, ensemble\n",
    "\n",
    "import pandas as pd, numpy, textblob, string\n",
    "from keras.preprocessing import text, sequence\n",
    "from keras import layers, models, optimizers\n",
    "import nltk\n",
    "from nltk.corpus import stopwords\n",
    "from nltk.tokenize import word_tokenize\n",
    "nltk.download('wordnet')\n",
    "import spacy\n",
    "import re\n",
    "import csv\n",
    "from sklearn.naive_bayes import MultinomialNB\n",
    "from  sklearn.metrics  import accuracy_score"
   ]
  },
  {
   "cell_type": "code",
   "execution_count": 5,
   "metadata": {},
   "outputs": [],
   "source": [
    "lemma = nltk.WordNetLemmatizer()\n",
    "stop_words = set(stopwords.words('english'))\n",
    "def preprocess(rawText):\n",
    "    cleanText = re.sub(r'[^\\w\\s]','',rawText.lower())\n",
    "    tokens = word_tokenize(cleanText)\n",
    "    tokens = [token for token in tokens if not token in stop_words]\n",
    "    tokens = [lemma.lemmatize(token) for token in tokens ]\n",
    "    processedText = (\" \".join(tokens))\n",
    "    return processedText"
   ]
  },
  {
   "cell_type": "markdown",
   "metadata": {},
   "source": [
    "# Importing dataset"
   ]
  },
  {
   "cell_type": "code",
   "execution_count": 6,
   "metadata": {},
   "outputs": [],
   "source": [
    "data = open(r'C:\\Users\\anike\\thailandEventCorpus_2010_2019.csv')\n",
    "\n",
    "target, notes = [], []\n",
    "reader = csv.reader(data, delimiter=\",\")\n",
    "next(reader, None)\n",
    "for i, line in enumerate(reader):\n",
    "    target.append(line[1])\n",
    "    rawText = line[0]\n",
    "    notes.append(preprocess(rawText))\n",
    "\n",
    "dataSet = pd.DataFrame()\n",
    "dataSet['notes'] = notes\n",
    "dataSet['target'] = target\n",
    "dataSet = dataSet.sample(frac=1).reset_index(drop=True)\n",
    "\n",
    "train_x, valid_x, train_y, valid_y = model_selection.train_test_split(dataSet['notes'], dataSet['target'])\n",
    "\n",
    "encoder = preprocessing.LabelEncoder()\n",
    "train_y = encoder.fit_transform(train_y)\n",
    "valid_y = encoder.fit_transform(valid_y)\n",
    "\n",
    "vector = TfidfVectorizer(analyzer='word', token_pattern=r'\\w{1,}', max_features=5000)\n",
    "vector.fit(dataSet['notes'])\n",
    "train_x =  vector.transform(train_x)\n",
    "valid_x =  vector.transform(valid_x)"
   ]
  },
  {
   "cell_type": "markdown",
   "metadata": {},
   "source": [
    "# Naieve Bayes Event Classifier"
   ]
  },
  {
   "cell_type": "code",
   "execution_count": 7,
   "metadata": {},
   "outputs": [
    {
     "name": "stdout",
     "output_type": "stream",
     "text": [
      "0.8875526157546603\n"
     ]
    }
   ],
   "source": [
    "\n",
    "clf = MultinomialNB().fit(train_x, train_y)\n",
    "predicted = clf.predict(valid_x)\n",
    "print(accuracy_score(valid_y,predicted))"
   ]
  },
  {
   "cell_type": "markdown",
   "metadata": {},
   "source": [
    "# SVM Event Classifier"
   ]
  },
  {
   "cell_type": "code",
   "execution_count": 8,
   "metadata": {},
   "outputs": [
    {
     "data": {
      "text/plain": [
       "0.9476849067949489"
      ]
     },
     "execution_count": 8,
     "metadata": {},
     "output_type": "execute_result"
    }
   ],
   "source": [
    "from sklearn import svm\n",
    "SVM = svm.LinearSVC()\n",
    "SVM.fit(train_x, train_y)\n",
    "predict = SVM.predict(valid_x)\n",
    "accuracy_score(valid_y,predict)"
   ]
  },
  {
   "cell_type": "markdown",
   "metadata": {},
   "source": [
    "# Random Forest Event Classifier"
   ]
  },
  {
   "cell_type": "code",
   "execution_count": 9,
   "metadata": {},
   "outputs": [
    {
     "data": {
      "text/plain": [
       "0.9061936259771497"
      ]
     },
     "execution_count": 9,
     "metadata": {},
     "output_type": "execute_result"
    }
   ],
   "source": [
    "from sklearn.ensemble import RandomForestClassifier\n",
    "rf = RandomForestClassifier(n_estimators=10)\n",
    "rf.fit(train_x, train_y)\n",
    "predict = rf.predict(valid_x)\n",
    "accuracy_score(valid_y,predict)"
   ]
  },
  {
   "cell_type": "code",
   "execution_count": 10,
   "metadata": {},
   "outputs": [],
   "source": [
    "LIMIT = 4\n",
    "data = {}\n",
    "data['newspapers'] = {}\n",
    "articlesData ={}\n",
    "collections = {\n",
    "    'total' : []\n",
    "}\n"
   ]
  },
  {
   "cell_type": "code",
   "execution_count": 11,
   "metadata": {},
   "outputs": [
    {
     "data": {
      "text/plain": [
       "{'The Nation': {'rss': 'http://www.nationmultimedia.com/rss/politics.rss',\n",
       "  'link': 'https://www.thenation.com/subject/politics/'},\n",
       " 'Bangkok Post': {'rss': 'https://www.bangkokpost.com/rss/data/topstories.xml',\n",
       "  'link': 'https://www.bangkokpost.com/news/politics'},\n",
       " 'Khaosod English': {'rss': 'http://www.khaosodenglish.com/category/politics/feed/',\n",
       "  'link': 'http://www.khaosodenglish.com/category/politics/'},\n",
       " 'Intellasia': {'rss': 'https://www.intellasia.net/category/thailand/feed',\n",
       "  'link': 'https://www.intellasia.net/category/thailand/feed'},\n",
       " 'Thaiger': {'rss': 'https://thethaiger.com/feed',\n",
       "  'link': 'https://thethaiger.com/feed'}}"
      ]
     },
     "execution_count": 11,
     "metadata": {},
     "output_type": "execute_result"
    }
   ],
   "source": [
    "# with open('newspaperLinks.json') as file:\n",
    "with open('newspaperLinks_Thailand.json') as file:\n",
    "    sources = json.load(file)\n",
    "sources"
   ]
  },
  {
   "cell_type": "code",
   "execution_count": 12,
   "metadata": {},
   "outputs": [],
   "source": [
    "def summarizeText(text):\n",
    "    string=text\n",
    "    parser = PlaintextParser.from_string(string, Tokenizer(\"english\"))\n",
    "\n",
    "    summarizer = LexRankSummarizer()\n",
    "    summary_lex = summarizer(parser.document, 1) #Summarize the document with 5 sentences\n",
    "    summary_1=''\n",
    "    for line in summary_lex:\n",
    "        #summary_1+=line\n",
    "        #print(line)\n",
    "        summary_1+=str(line)\n",
    "#     print(summary_1)\n",
    "\n",
    "#     lsa_summarizer = LsaSummarizer()\n",
    "#     summary_lsa =lsa_summarizer(parser.document,3)\n",
    "#     summary_2=''\n",
    "#     print(\"\\n\")\n",
    "#     for line in summary_lsa:\n",
    "#         summary_2+=str(line)\n",
    "#     print(summary_2)\n",
    "\n",
    "#     luhn_summarizer = LuhnSummarizer() \n",
    "#     luhn_summarizer.stop_words = (\"I\",  \"me\", \"is\", \"am\", \"the\",\"than\", \"that\", \"this\",\"an\",\"you\", \"are\")\n",
    "#     summary_3=''\n",
    "#     print(\"\\n\")\n",
    "#     for line in luhn_summarizer(parser.document, 3):\n",
    "#         summary_3+=str(line)\n",
    "#     print(summary_3)\n",
    "    return summary_1\n",
    "\n",
    "def getLocation(ents, text):\n",
    "    loc = \"\"\n",
    "#     locList = []\n",
    "    items = [x.text for x in ents if x.label_ in 'GPE' or x.label_ in 'LOC']\n",
    "    loc_ = [Counter(items).most_common(1)]\n",
    "    places = GeoText(text)\n",
    "    topPlace = [Counter(places.cities).most_common(1)]\n",
    "    \n",
    "    places = (places.cities)\n",
    "#     text = re.sub(r'[^\\w\\s]','',text)\n",
    "#     tokenized_text = word_tokenize(text)\n",
    "#     classified_text = st.tag(tokenized_text)\n",
    "#     stanfordLocations =[]\n",
    "#     for x in classified_text:\n",
    "#         if(x[1]==\"LOCATION\"):\n",
    "#             stanfordLocations.append(x[0])\n",
    "#     topPlace = [Counter(stanfordLocations).most_common(1)]\n",
    "#     locList = [i for i in stanfordLocations if i in items]\n",
    "    locList = [i for i in places if i in items]\n",
    "    total = items+locList \n",
    "    location_ = [Counter(total).most_common(1)]\n",
    "    if len(location_) == 0:\n",
    "        if(len(loc_))!=0:\n",
    "            loc = loc_[0][0][0]\n",
    "        elif (len(topPlace)!=0):\n",
    "            loc = topPlace[0]\n",
    "        else:\n",
    "            loc = \"\"\n",
    "    else:\n",
    "        if(len(location_))!=0:\n",
    "            if(len(location_[0]))!=0:\n",
    "                if(len(location_[0][0]))!=0:\n",
    "                    loc = location_[0][0][0]\n",
    "        else:\n",
    "            loc = \"unknown\"\n",
    "    return loc\n",
    "\n",
    "def getEventType(tokens):\n",
    "#     eventTypes ={\n",
    "#     'civilianViolence':['rebel','violence','militia','war','rape','torture','kill','shoot','fight','murder','molest','attack','terror','battle','assault','blood'],\n",
    "#     'riotsProtest':['protest','riot']\n",
    "#     }\n",
    "    eventType = \"other\"\n",
    "    for event, types in eventTypes.items():\n",
    "        tag = [token for token in tokens if any(typ in token for typ in types)]\n",
    "        if len(tag) != 0:\n",
    "            eventType = event\n",
    "            break\n",
    "    return eventType"
   ]
  },
  {
   "cell_type": "markdown",
   "metadata": {},
   "source": [
    "# News Scraper and Classifier"
   ]
  },
  {
   "cell_type": "code",
   "execution_count": 20,
   "metadata": {
    "scrolled": false
   },
   "outputs": [
    {
     "name": "stdout",
     "output_type": "stream",
     "text": [
      "The Nation\n",
      "EC party-list calculation opens a can of worms\n"
     ]
    },
    {
     "name": "stderr",
     "output_type": "stream",
     "text": [
      "C:\\Users\\anike\\Anaconda3\\lib\\site-packages\\sklearn\\preprocessing\\label.py:151: DeprecationWarning: The truth value of an empty array is ambiguous. Returning False, but in future this will result in an error. Use `array.size > 0` to check that an array is not empty.\n",
      "  if diff:\n"
     ]
    },
    {
     "name": "stdout",
     "output_type": "stream",
     "text": [
      "['Violence against civilians']\n"
     ]
    },
    {
     "name": "stderr",
     "output_type": "stream",
     "text": [
      "C:\\Users\\anike\\Anaconda3\\lib\\site-packages\\sklearn\\preprocessing\\label.py:151: DeprecationWarning: The truth value of an empty array is ambiguous. Returning False, but in future this will result in an error. Use `array.size > 0` to check that an array is not empty.\n",
      "  if diff:\n"
     ]
    },
    {
     "name": "stdout",
     "output_type": "stream",
     "text": [
      "Extracting date from http://www.nationmultimedia.com/detail/politics/30369064\n",
      "EC endorses 349 candidates but warns not all candidates in the clear\n"
     ]
    },
    {
     "name": "stderr",
     "output_type": "stream",
     "text": [
      "C:\\Users\\anike\\Anaconda3\\lib\\site-packages\\sklearn\\preprocessing\\label.py:151: DeprecationWarning: The truth value of an empty array is ambiguous. Returning False, but in future this will result in an error. Use `array.size > 0` to check that an array is not empty.\n",
      "  if diff:\n"
     ]
    },
    {
     "name": "stdout",
     "output_type": "stream",
     "text": [
      "['Other']\n"
     ]
    },
    {
     "name": "stderr",
     "output_type": "stream",
     "text": [
      "C:\\Users\\anike\\Anaconda3\\lib\\site-packages\\sklearn\\preprocessing\\label.py:151: DeprecationWarning: The truth value of an empty array is ambiguous. Returning False, but in future this will result in an error. Use `array.size > 0` to check that an array is not empty.\n",
      "  if diff:\n"
     ]
    },
    {
     "name": "stdout",
     "output_type": "stream",
     "text": [
      "Extracting date from http://www.nationmultimedia.com/detail/politics/30369012\n",
      "11 election candidates disqualified\n"
     ]
    },
    {
     "name": "stderr",
     "output_type": "stream",
     "text": [
      "C:\\Users\\anike\\Anaconda3\\lib\\site-packages\\sklearn\\preprocessing\\label.py:151: DeprecationWarning: The truth value of an empty array is ambiguous. Returning False, but in future this will result in an error. Use `array.size > 0` to check that an array is not empty.\n",
      "  if diff:\n"
     ]
    },
    {
     "name": "stdout",
     "output_type": "stream",
     "text": [
      "['Other']\n"
     ]
    },
    {
     "name": "stderr",
     "output_type": "stream",
     "text": [
      "C:\\Users\\anike\\Anaconda3\\lib\\site-packages\\sklearn\\preprocessing\\label.py:151: DeprecationWarning: The truth value of an empty array is ambiguous. Returning False, but in future this will result in an error. Use `array.size > 0` to check that an array is not empty.\n",
      "  if diff:\n"
     ]
    },
    {
     "name": "stdout",
     "output_type": "stream",
     "text": [
      "Extracting date from http://www.nationmultimedia.com/detail/politics/30368750\n",
      "Bangkok Post\n",
      "Khaosod English\n",
      "EC Admits 27 Parties to Parliament, Setting New Record\n"
     ]
    },
    {
     "name": "stderr",
     "output_type": "stream",
     "text": [
      "C:\\Users\\anike\\Anaconda3\\lib\\site-packages\\sklearn\\preprocessing\\label.py:151: DeprecationWarning: The truth value of an empty array is ambiguous. Returning False, but in future this will result in an error. Use `array.size > 0` to check that an array is not empty.\n",
      "  if diff:\n"
     ]
    },
    {
     "name": "stdout",
     "output_type": "stream",
     "text": [
      "['Protests']\n"
     ]
    },
    {
     "name": "stderr",
     "output_type": "stream",
     "text": [
      "C:\\Users\\anike\\Anaconda3\\lib\\site-packages\\sklearn\\preprocessing\\label.py:151: DeprecationWarning: The truth value of an empty array is ambiguous. Returning False, but in future this will result in an error. Use `array.size > 0` to check that an array is not empty.\n",
      "  if diff:\n"
     ]
    },
    {
     "name": "stdout",
     "output_type": "stream",
     "text": [
      "Extracting date from http://www.khaosodenglish.com/politics/2019/05/08/26-parties-admitted-to-parliament-setting-new-record/\n",
      "Exception in extractArticlePublishedDate for http://www.khaosodenglish.com/politics/2019/05/08/26-parties-admitted-to-parliament-setting-new-record/\n",
      "()\n",
      "Court Affirms EC’s Power to Allocate Party-List Seats\n"
     ]
    },
    {
     "name": "stderr",
     "output_type": "stream",
     "text": [
      "C:\\Users\\anike\\Anaconda3\\lib\\site-packages\\sklearn\\preprocessing\\label.py:151: DeprecationWarning: The truth value of an empty array is ambiguous. Returning False, but in future this will result in an error. Use `array.size > 0` to check that an array is not empty.\n",
      "  if diff:\n"
     ]
    },
    {
     "name": "stdout",
     "output_type": "stream",
     "text": [
      "['Protests']\n"
     ]
    },
    {
     "name": "stderr",
     "output_type": "stream",
     "text": [
      "C:\\Users\\anike\\Anaconda3\\lib\\site-packages\\sklearn\\preprocessing\\label.py:151: DeprecationWarning: The truth value of an empty array is ambiguous. Returning False, but in future this will result in an error. Use `array.size > 0` to check that an array is not empty.\n",
      "  if diff:\n"
     ]
    },
    {
     "name": "stdout",
     "output_type": "stream",
     "text": [
      "Extracting date from http://www.khaosodenglish.com/politics/2019/05/08/court-affirms-ecs-power-to-allocate-party-list-seats/\n",
      "Exception in extractArticlePublishedDate for http://www.khaosodenglish.com/politics/2019/05/08/court-affirms-ecs-power-to-allocate-party-list-seats/\n",
      "()\n",
      "Future Forward May Sue EC For Dereliction of Duty: Piyabutr\n"
     ]
    },
    {
     "name": "stderr",
     "output_type": "stream",
     "text": [
      "C:\\Users\\anike\\Anaconda3\\lib\\site-packages\\sklearn\\preprocessing\\label.py:151: DeprecationWarning: The truth value of an empty array is ambiguous. Returning False, but in future this will result in an error. Use `array.size > 0` to check that an array is not empty.\n",
      "  if diff:\n"
     ]
    },
    {
     "name": "stdout",
     "output_type": "stream",
     "text": [
      "['Other']\n"
     ]
    },
    {
     "name": "stderr",
     "output_type": "stream",
     "text": [
      "C:\\Users\\anike\\Anaconda3\\lib\\site-packages\\sklearn\\preprocessing\\label.py:151: DeprecationWarning: The truth value of an empty array is ambiguous. Returning False, but in future this will result in an error. Use `array.size > 0` to check that an array is not empty.\n",
      "  if diff:\n"
     ]
    },
    {
     "name": "stdout",
     "output_type": "stream",
     "text": [
      "Extracting date from http://www.khaosodenglish.com/politics/2019/04/30/future-forward-may-sue-ec-for-dereliction-of-duty-piyabutr/\n",
      "Exception in extractArticlePublishedDate for http://www.khaosodenglish.com/politics/2019/04/30/future-forward-may-sue-ec-for-dereliction-of-duty-piyabutr/\n",
      "()\n",
      "Future Forward Calls for Re-Vote to Settle Contested Recount\n"
     ]
    },
    {
     "name": "stderr",
     "output_type": "stream",
     "text": [
      "C:\\Users\\anike\\Anaconda3\\lib\\site-packages\\sklearn\\preprocessing\\label.py:151: DeprecationWarning: The truth value of an empty array is ambiguous. Returning False, but in future this will result in an error. Use `array.size > 0` to check that an array is not empty.\n",
      "  if diff:\n"
     ]
    },
    {
     "name": "stdout",
     "output_type": "stream",
     "text": [
      "['Protests']\n"
     ]
    },
    {
     "name": "stderr",
     "output_type": "stream",
     "text": [
      "C:\\Users\\anike\\Anaconda3\\lib\\site-packages\\sklearn\\preprocessing\\label.py:151: DeprecationWarning: The truth value of an empty array is ambiguous. Returning False, but in future this will result in an error. Use `array.size > 0` to check that an array is not empty.\n",
      "  if diff:\n"
     ]
    },
    {
     "name": "stdout",
     "output_type": "stream",
     "text": [
      "Extracting date from http://www.khaosodenglish.com/politics/2019/04/29/future-forward-calls-for-re-vote-to-settle-contested-recount/\n",
      "Exception in extractArticlePublishedDate for http://www.khaosodenglish.com/politics/2019/04/29/future-forward-calls-for-re-vote-to-settle-contested-recount/\n",
      "()\n",
      "Democrats Dispute Future Forward Victory After Recount\n"
     ]
    },
    {
     "name": "stderr",
     "output_type": "stream",
     "text": [
      "C:\\Users\\anike\\Anaconda3\\lib\\site-packages\\sklearn\\preprocessing\\label.py:151: DeprecationWarning: The truth value of an empty array is ambiguous. Returning False, but in future this will result in an error. Use `array.size > 0` to check that an array is not empty.\n",
      "  if diff:\n"
     ]
    },
    {
     "name": "stdout",
     "output_type": "stream",
     "text": [
      "['Protests']\n"
     ]
    },
    {
     "name": "stderr",
     "output_type": "stream",
     "text": [
      "C:\\Users\\anike\\Anaconda3\\lib\\site-packages\\sklearn\\preprocessing\\label.py:151: DeprecationWarning: The truth value of an empty array is ambiguous. Returning False, but in future this will result in an error. Use `array.size > 0` to check that an array is not empty.\n",
      "  if diff:\n"
     ]
    },
    {
     "name": "stdout",
     "output_type": "stream",
     "text": [
      "Extracting date from http://www.khaosodenglish.com/politics/2019/04/29/democrats-dispute-future-forward-victory-after-recount/\n",
      "Exception in extractArticlePublishedDate for http://www.khaosodenglish.com/politics/2019/04/29/democrats-dispute-future-forward-victory-after-recount/\n",
      "()\n",
      "By-Election Ordered in Chiang Mai as Pheu Thai Winner Disqualified\n"
     ]
    },
    {
     "name": "stderr",
     "output_type": "stream",
     "text": [
      "C:\\Users\\anike\\Anaconda3\\lib\\site-packages\\sklearn\\preprocessing\\label.py:151: DeprecationWarning: The truth value of an empty array is ambiguous. Returning False, but in future this will result in an error. Use `array.size > 0` to check that an array is not empty.\n",
      "  if diff:\n"
     ]
    },
    {
     "name": "stdout",
     "output_type": "stream",
     "text": [
      "['Other']\n"
     ]
    },
    {
     "name": "stderr",
     "output_type": "stream",
     "text": [
      "C:\\Users\\anike\\Anaconda3\\lib\\site-packages\\sklearn\\preprocessing\\label.py:151: DeprecationWarning: The truth value of an empty array is ambiguous. Returning False, but in future this will result in an error. Use `array.size > 0` to check that an array is not empty.\n",
      "  if diff:\n"
     ]
    },
    {
     "name": "stdout",
     "output_type": "stream",
     "text": [
      "Extracting date from http://www.khaosodenglish.com/politics/2019/04/24/by-election-ordered-in-chiang-mai-as-pheu-thai-winner-disqualified/\n",
      "Exception in extractArticlePublishedDate for http://www.khaosodenglish.com/politics/2019/04/24/by-election-ordered-in-chiang-mai-as-pheu-thai-winner-disqualified/\n",
      "()\n",
      "Election Commission Accuses Thanathorn of Breaching Elections Law\n"
     ]
    },
    {
     "name": "stderr",
     "output_type": "stream",
     "text": [
      "C:\\Users\\anike\\Anaconda3\\lib\\site-packages\\sklearn\\preprocessing\\label.py:151: DeprecationWarning: The truth value of an empty array is ambiguous. Returning False, but in future this will result in an error. Use `array.size > 0` to check that an array is not empty.\n",
      "  if diff:\n"
     ]
    },
    {
     "name": "stdout",
     "output_type": "stream",
     "text": [
      "['Protests']\n"
     ]
    },
    {
     "name": "stderr",
     "output_type": "stream",
     "text": [
      "C:\\Users\\anike\\Anaconda3\\lib\\site-packages\\sklearn\\preprocessing\\label.py:151: DeprecationWarning: The truth value of an empty array is ambiguous. Returning False, but in future this will result in an error. Use `array.size > 0` to check that an array is not empty.\n",
      "  if diff:\n"
     ]
    },
    {
     "name": "stdout",
     "output_type": "stream",
     "text": [
      "Extracting date from http://www.khaosodenglish.com/politics/2019/04/23/election-commission-accuses-thanathorn-of-breaching-elections-law/\n",
      "Exception in extractArticlePublishedDate for http://www.khaosodenglish.com/politics/2019/04/23/election-commission-accuses-thanathorn-of-breaching-elections-law/\n",
      "()\n",
      "EC Has Until Thursday to Recommend Election Nullification: Ombudsman\n"
     ]
    },
    {
     "name": "stderr",
     "output_type": "stream",
     "text": [
      "C:\\Users\\anike\\Anaconda3\\lib\\site-packages\\sklearn\\preprocessing\\label.py:151: DeprecationWarning: The truth value of an empty array is ambiguous. Returning False, but in future this will result in an error. Use `array.size > 0` to check that an array is not empty.\n",
      "  if diff:\n"
     ]
    },
    {
     "name": "stdout",
     "output_type": "stream",
     "text": [
      "['Protests']\n"
     ]
    },
    {
     "name": "stderr",
     "output_type": "stream",
     "text": [
      "C:\\Users\\anike\\Anaconda3\\lib\\site-packages\\sklearn\\preprocessing\\label.py:151: DeprecationWarning: The truth value of an empty array is ambiguous. Returning False, but in future this will result in an error. Use `array.size > 0` to check that an array is not empty.\n",
      "  if diff:\n"
     ]
    },
    {
     "name": "stdout",
     "output_type": "stream",
     "text": [
      "Extracting date from http://www.khaosodenglish.com/politics/2019/04/23/ec-has-until-thursday-to-recommend-election-nullification-ombudsman/\n",
      "Exception in extractArticlePublishedDate for http://www.khaosodenglish.com/politics/2019/04/23/ec-has-until-thursday-to-recommend-election-nullification-ombudsman/\n",
      "()\n",
      "Intellasia\n",
      "After disputed election, Thailand expected to keep junta leader as PM\n"
     ]
    },
    {
     "name": "stderr",
     "output_type": "stream",
     "text": [
      "C:\\Users\\anike\\Anaconda3\\lib\\site-packages\\sklearn\\preprocessing\\label.py:151: DeprecationWarning: The truth value of an empty array is ambiguous. Returning False, but in future this will result in an error. Use `array.size > 0` to check that an array is not empty.\n",
      "  if diff:\n"
     ]
    },
    {
     "name": "stdout",
     "output_type": "stream",
     "text": [
      "['Protests']\n"
     ]
    },
    {
     "name": "stderr",
     "output_type": "stream",
     "text": [
      "C:\\Users\\anike\\Anaconda3\\lib\\site-packages\\sklearn\\preprocessing\\label.py:151: DeprecationWarning: The truth value of an empty array is ambiguous. Returning False, but in future this will result in an error. Use `array.size > 0` to check that an array is not empty.\n",
      "  if diff:\n"
     ]
    },
    {
     "name": "stdout",
     "output_type": "stream",
     "text": [
      "Extracting date from https://www.intellasia.net/after-disputed-election-thailand-expected-to-keep-junta-leader-as-pm-717760\n",
      "Exception in extractArticlePublishedDate for https://www.intellasia.net/after-disputed-election-thailand-expected-to-keep-junta-leader-as-pm-717760\n",
      "()\n",
      "'NoneType' object has no attribute 'strftime'\n",
      "Pro-military government likely in Thailand despite democratic front’s election dominance\n"
     ]
    },
    {
     "name": "stderr",
     "output_type": "stream",
     "text": [
      "C:\\Users\\anike\\Anaconda3\\lib\\site-packages\\sklearn\\preprocessing\\label.py:151: DeprecationWarning: The truth value of an empty array is ambiguous. Returning False, but in future this will result in an error. Use `array.size > 0` to check that an array is not empty.\n",
      "  if diff:\n"
     ]
    },
    {
     "name": "stdout",
     "output_type": "stream",
     "text": [
      "['Protests']\n"
     ]
    },
    {
     "name": "stderr",
     "output_type": "stream",
     "text": [
      "C:\\Users\\anike\\Anaconda3\\lib\\site-packages\\sklearn\\preprocessing\\label.py:151: DeprecationWarning: The truth value of an empty array is ambiguous. Returning False, but in future this will result in an error. Use `array.size > 0` to check that an array is not empty.\n",
      "  if diff:\n"
     ]
    },
    {
     "name": "stdout",
     "output_type": "stream",
     "text": [
      "Extracting date from https://www.intellasia.net/pro-military-government-likely-in-thailand-despite-democratic-fronts-election-dominance-717761\n",
      "Exception in extractArticlePublishedDate for https://www.intellasia.net/pro-military-government-likely-in-thailand-despite-democratic-fronts-election-dominance-717761\n",
      "()\n",
      "'NoneType' object has no attribute 'strftime'\n",
      "Managing volatility with a smile: how tumultuous Thailand puts a stable face on Asean\n"
     ]
    },
    {
     "name": "stderr",
     "output_type": "stream",
     "text": [
      "C:\\Users\\anike\\Anaconda3\\lib\\site-packages\\sklearn\\preprocessing\\label.py:151: DeprecationWarning: The truth value of an empty array is ambiguous. Returning False, but in future this will result in an error. Use `array.size > 0` to check that an array is not empty.\n",
      "  if diff:\n"
     ]
    },
    {
     "name": "stdout",
     "output_type": "stream",
     "text": [
      "['Protests']\n"
     ]
    },
    {
     "name": "stderr",
     "output_type": "stream",
     "text": [
      "C:\\Users\\anike\\Anaconda3\\lib\\site-packages\\sklearn\\preprocessing\\label.py:151: DeprecationWarning: The truth value of an empty array is ambiguous. Returning False, but in future this will result in an error. Use `array.size > 0` to check that an array is not empty.\n",
      "  if diff:\n"
     ]
    },
    {
     "name": "stdout",
     "output_type": "stream",
     "text": [
      "Extracting date from https://www.intellasia.net/managing-volatility-with-a-smile-how-tumultuous-thailand-puts-a-stable-face-on-asean-717408\n",
      "Exception in extractArticlePublishedDate for https://www.intellasia.net/managing-volatility-with-a-smile-how-tumultuous-thailand-puts-a-stable-face-on-asean-717408\n",
      "()\n",
      "'NoneType' object has no attribute 'strftime'\n",
      "Thaiger\n",
      "Prawit defends the PM's brother being appointed to the new Senate\n"
     ]
    },
    {
     "name": "stderr",
     "output_type": "stream",
     "text": [
      "C:\\Users\\anike\\Anaconda3\\lib\\site-packages\\sklearn\\preprocessing\\label.py:151: DeprecationWarning: The truth value of an empty array is ambiguous. Returning False, but in future this will result in an error. Use `array.size > 0` to check that an array is not empty.\n",
      "  if diff:\n"
     ]
    },
    {
     "name": "stdout",
     "output_type": "stream",
     "text": [
      "['Other']\n"
     ]
    },
    {
     "name": "stderr",
     "output_type": "stream",
     "text": [
      "C:\\Users\\anike\\Anaconda3\\lib\\site-packages\\sklearn\\preprocessing\\label.py:151: DeprecationWarning: The truth value of an empty array is ambiguous. Returning False, but in future this will result in an error. Use `array.size > 0` to check that an array is not empty.\n",
      "  if diff:\n"
     ]
    },
    {
     "name": "stdout",
     "output_type": "stream",
     "text": [
      "Extracting date from https://thethaiger.com/hot-news/elections/prawit-defends-the-pms-brother-being-appointed-to-the-new-senate\n",
      "Exception in extractArticlePublishedDate for https://thethaiger.com/hot-news/elections/prawit-defends-the-pms-brother-being-appointed-to-the-new-senate\n",
      "()\n",
      "'NoneType' object has no attribute 'strftime'\n",
      "Democrats poised to take on the Election Commission over party-list seats\n"
     ]
    },
    {
     "name": "stderr",
     "output_type": "stream",
     "text": [
      "C:\\Users\\anike\\Anaconda3\\lib\\site-packages\\sklearn\\preprocessing\\label.py:151: DeprecationWarning: The truth value of an empty array is ambiguous. Returning False, but in future this will result in an error. Use `array.size > 0` to check that an array is not empty.\n",
      "  if diff:\n"
     ]
    },
    {
     "name": "stdout",
     "output_type": "stream",
     "text": [
      "['Other']\n"
     ]
    },
    {
     "name": "stderr",
     "output_type": "stream",
     "text": [
      "C:\\Users\\anike\\Anaconda3\\lib\\site-packages\\sklearn\\preprocessing\\label.py:151: DeprecationWarning: The truth value of an empty array is ambiguous. Returning False, but in future this will result in an error. Use `array.size > 0` to check that an array is not empty.\n",
      "  if diff:\n"
     ]
    },
    {
     "name": "stdout",
     "output_type": "stream",
     "text": [
      "Extracting date from https://thethaiger.com/hot-news/elections/democrats-poised-to-take-on-the-election-commission-over-party-list-seats\n",
      "Exception in extractArticlePublishedDate for https://thethaiger.com/hot-news/elections/democrats-poised-to-take-on-the-election-commission-over-party-list-seats\n",
      "()\n",
      "'NoneType' object has no attribute 'strftime'\n",
      "Forming the next Thai government - Bhumjaithai and Democrats will decide\n"
     ]
    },
    {
     "name": "stderr",
     "output_type": "stream",
     "text": [
      "C:\\Users\\anike\\Anaconda3\\lib\\site-packages\\sklearn\\preprocessing\\label.py:151: DeprecationWarning: The truth value of an empty array is ambiguous. Returning False, but in future this will result in an error. Use `array.size > 0` to check that an array is not empty.\n",
      "  if diff:\n"
     ]
    },
    {
     "name": "stdout",
     "output_type": "stream",
     "text": [
      "['Protests']\n"
     ]
    },
    {
     "name": "stderr",
     "output_type": "stream",
     "text": [
      "C:\\Users\\anike\\Anaconda3\\lib\\site-packages\\sklearn\\preprocessing\\label.py:151: DeprecationWarning: The truth value of an empty array is ambiguous. Returning False, but in future this will result in an error. Use `array.size > 0` to check that an array is not empty.\n",
      "  if diff:\n"
     ]
    },
    {
     "name": "stdout",
     "output_type": "stream",
     "text": [
      "Extracting date from https://thethaiger.com/hot-news/elections/forming-the-next-thai-government-bhumjaithai-and-democrats-will-decide\n",
      "Exception in extractArticlePublishedDate for https://thethaiger.com/hot-news/elections/forming-the-next-thai-government-bhumjaithai-and-democrats-will-decide\n",
      "()\n",
      "'NoneType' object has no attribute 'strftime'\n"
     ]
    }
   ],
   "source": [
    "collections = {\n",
    "    'total' : []\n",
    "}\n",
    "from time import mktime\n",
    "from datetime import datetime\n",
    "from lexrank import STOPWORDS, LexRank\n",
    "\n",
    "event_type = \"\"\n",
    "data = {}\n",
    "data['newspapers'] = {}\n",
    "articlesData ={}\n",
    "collectedNews = {}\n",
    "events = ['arrest','arrested','violence against civilians','rioting','protesting','riots','protest','battles','violence','remote violence','assault','attack','bloodshed','brutality','clash','confusion','cruelty','disorder','disturbance','fighting','rampage','struggle','terrorism','abandon','acuteness','bestiality','blowup','coercion','compulsion','constraint','destructiveness','duress','ferocity','fervor','fierceness','flap','frenzy','fury','fuss','harshness','murderousness','onslaught','passion','power','roughness','ruckus','rumble','savagery','scam','severity','sharpness','storm','storminess','tumult','turbulence','uproar','vehemence','wildness','brute','force','foul','play','raging','anarchy','brawl','disturbance','lawlessness','protest','storm','strife','trouble','turbulence','turmoil','uproar','anarchism','burst','commotion','confusion','distemper','flap','fray','free-for-all','fuss','hassle','misrule','mix-up','quarrel','racket','row','ruckus','ruction','rumble','rumpus','run-in','scene','shivaree','shower','snarl','stir','to-do','tumult','brannigan','mob','violence','street','fighting','wingding','action','assault','attack','bloodshed','bombing','campaign','clash','combat','conflict','crusade','encounter','fighting','hostility','skirmish','strife','struggle','war','warfare','barrage','brush','carnage','contention','engagement','fray','havoc','onset','onslaught','press','ravage','scrimmage','sortie','blitzkreig']\n",
    "politics= [\"politicize\", \"political affairs\", \"administration\", \"thailand politics\", \"politicians\", \"elections\", \"votes\", \"voters\", 'malay muslim separatist', 'pheu thai', 'palang pracharath', 'future forward', 'democrat', 'thai liberal', 'bhumjaithai', 'chartthaipattana']\n",
    "violence = [\"violence\", \"criminal violence\", \"criminal\", \"crime\", \"criminal party\", \"election violence\", \"electoral violence\",\"mob killing\", \"vigilante\", \"riots\", \"killing\" ]\n",
    "parties = ['malay muslim separatist', 'pheu thai', 'pheu','palang pracharath', 'future forward', 'democrat', 'thai liberal', 'bhumjaithai', 'chartthaipattana']\n",
    "        \n",
    "eventTypes ={\n",
    "'riots':['riot'],\n",
    "'protests':['protest','march'], \n",
    "'civilianViolence':['rebel','violence','militia','war','rape','torture','kill','shoot','fight','murder','molest','attack','terror','battle','assault','blood']\n",
    "}\n",
    "\n",
    "\n",
    "\n",
    "count = 1\n",
    "\n",
    "for source, link in sources.items():\n",
    "    print(source)\n",
    "    count = 1\n",
    "    if 'rss' in link:\n",
    "        parsedFeed = fp.parse(link['rss'])\n",
    "        collected = {\n",
    "            'rss': link['rss'],\n",
    "            'link': link['link'],\n",
    "            'article': []\n",
    "        }\n",
    "        for feed in parsedFeed.entries:\n",
    "            \n",
    "            try:\n",
    "\n",
    "                articlesData ={}\n",
    "                articles = Article(feed['links'][0]['href'])\n",
    "                articles.download()\n",
    "                articles.parse()\n",
    "                articles.nlp()\n",
    "                strg = re.sub(r'[^\\w\\s]','',articles.text)\n",
    "                articleTokens = nlp(strg)\n",
    "\n",
    "                tokens =[]\n",
    "                for token in articleTokens:\n",
    "                    tokens.append(token.text.lower())\n",
    "\n",
    "                txt = str(articles.text).split()\n",
    "                keyWords = articles.keywords\n",
    "\n",
    "                eventType = \"other\"\n",
    "                if(([a for a in keyWords if any(b.lower() in a.lower() for b in politics)])):\n",
    "                    print(articles.title)\n",
    "                    articlesData['title'] = articles.title\n",
    "\n",
    "                    article = nlp(articles.text)\n",
    "                    ###Summary\n",
    "                    sentences = [x for x in article.sents]\n",
    "                    sentences = list( map(str, sentences) )\n",
    "                    lxr = LexRank(articles.text)\n",
    "                    lxr.get_summary(sentences)\n",
    "                    summary = lxr.get_summary(sentences, summary_size=1, threshold=.1)\n",
    "                    summary = (\" \".join(summary))\n",
    "                    \n",
    "                    rawSummary = [preprocess(summary)]\n",
    "                    textVector = vector.transform(rawSummary)\n",
    "                    prediction = rf.predict(textVector)\n",
    "                    print(encoder.inverse_transform(prediction))\n",
    "                    articlesData['event'] = encoder.inverse_transform(prediction[0])\n",
    "\n",
    "                    dates = articleDateExtractor.extractArticlePublishedDate(feed['links'][0]['href'])\n",
    "                    localFormat = dates.strftime(\"%m/%d/%Y\")\n",
    "                    summaryDate = dates.strftime(\"On %d %b,\")\n",
    "                    articlesData['eventDate'] = localFormat\n",
    "                    articlesData['location'] = getLocation(articleTokens.ents, articles.text)\n",
    "                    orgs = set(keyWords).intersection(set(parties))\n",
    "\n",
    "                    if len(orgs) == 0:\n",
    "                        if(articlesData['event']==\"Riots\"):\n",
    "                            taggedOrg = \"Rioters\"\n",
    "                        elif(articlesData['event']==\"Protests\"):\n",
    "                            taggedOrg = \"Protestors\"\n",
    "                        else:\n",
    "                            taggedOrg = \"other\"\n",
    "                    else:\n",
    "                        taggedOrg=\"\"\n",
    "                        for org in orgs:\n",
    "                            taggedOrg+=org+\", \"\n",
    "                        taggedOrg=taggedOrg[:-2]\n",
    "\n",
    "                    articlesData['partiesInvolved'] = taggedOrg\n",
    "                    articlesData['source'] = source\n",
    "                    totalSummary = []\n",
    "                    totalSummary.append(summaryDate)\n",
    "                    totalSummary.append(summary)\n",
    "                    extractiveSummary  = (\" \".join(totalSummary))\n",
    "                    articlesData['summary'] = extractiveSummary\n",
    "                    articlesData['link'] = (feed['links'][0]['href'])\n",
    "                    collected['article'].append(articlesData)\n",
    "#                 else:\n",
    "#                     break\n",
    "            except Exception as ex:\n",
    "                print(ex)\n",
    "        collections['total'].append(collected)\n",
    "    else:\n",
    "        parsedFeed = newspaper.build(link['link'], memoize_articles = False)\n",
    "        collected = {\n",
    "            'link': link['link'],\n",
    "            'article': []\n",
    "        }\n",
    "        for feed in parsedFeed.articles:\n",
    "#             if count > 1000:\n",
    "#                 break\n",
    "            try:\n",
    "                feed.download()\n",
    "                feed.parse()\n",
    "                feed.nlp()\n",
    "                if feed.publish_date is not None:\n",
    "                    articlesData ={}\n",
    "                    \n",
    "                    strg = re.sub(r'[^\\w\\s]','',feed.text)\n",
    "                    articleTokens = nlp(strg)\n",
    "                    tokens =[]\n",
    "                    for token in articleTokens:\n",
    "                        tokens.append(token.text.lower())\n",
    "\n",
    "                        txt = str(feed.text).split()\n",
    "                        for i in txt:\n",
    "                            for j in events:\n",
    "                                if i==j:\n",
    "                                    event_type = j\n",
    "                                    break\n",
    "                                else:\n",
    "                                    event_type = \"other\"\n",
    "                    keyWords = feed.keywords\n",
    "                    if(([a for a in keyWords if any(b.lower() in a.lower() for b in politics)])):\n",
    "                        \n",
    "                        articlesData['title'] = feed.title\n",
    "                        article = nlp(feed.text)\n",
    "                        ###Summary\n",
    "                        sentences = [x for x in article.sents]\n",
    "                        sentences = list( map(str, sentences) )\n",
    "                        lxr = LexRank(feed.text)\n",
    "                        lxr.get_summary(sentences)\n",
    "                        summary = lxr.get_summary(sentences, summary_size=1, threshold=.1)\n",
    "                        summary = (\" \".join(summary))\n",
    "\n",
    "                        rawSummary = [preprocess(summary)]\n",
    "                        textVector = vector.transform(rawSummary)\n",
    "                        prediction = rf.predict(textVector)\n",
    "                        print(encoder.inverse_transform(prediction))\n",
    "                        articlesData['event'] = encoder.inverse_transform(prediction[0])\n",
    "                        \n",
    "#                         articlesData['event'] = getEventType(tokens)\n",
    "                        articlesData['eventDate'] = feed.publish_date.strftime('%m/%d/%Y')\n",
    "                        articlesData['location'] = getLocation(articleTokens.ents,feed.text)\n",
    "                        \n",
    "                        orgs = set(keyWords).intersection(set(parties))\n",
    "                        if len(orgs) == 0:\n",
    "                            if(articlesData['event']==\"Riots\"):\n",
    "                                taggedOrg = \"Rioters\"\n",
    "                            elif(articlesData['event']==\"Protests\"):\n",
    "                                taggedOrg = \"Protestors\"\n",
    "                            else:\n",
    "                                taggedOrg = \"other\"\n",
    "                        else:\n",
    "                            taggedOrg=\"\"\n",
    "                            for org in orgs:\n",
    "                                taggedOrg+=org+\", \"\n",
    "                            taggedOrg=taggedOrg[:-2]\n",
    "\n",
    "                        articlesData['partiesInvolved'] = taggedOrg\n",
    "                        articlesData['source'] = source\n",
    "                        totalSummary = []\n",
    "                        totalSummary.append(feed.publish_date.strftime(\"On %d %b,\"))\n",
    "                        totalSummary.append(summary)\n",
    "                        extractiveSummary  = (\" \".join(totalSummary))\n",
    "                        articlesData['summary'] = extractiveSummary\n",
    "                        articlesData['link'] = link\n",
    "                        collected['article'].append(articlesData)\n",
    "#                     else:\n",
    "#                         break\n",
    "#                         count +=1\n",
    "            except Exception as ex:\n",
    "                print(ex)\n",
    "        collections['total'].append(collected)"
   ]
  },
  {
   "cell_type": "code",
   "execution_count": 21,
   "metadata": {},
   "outputs": [
    {
     "data": {
      "text/plain": [
       "[{'rss': 'http://www.nationmultimedia.com/rss/politics.rss',\n",
       "  'link': 'https://www.thenation.com/subject/politics/',\n",
       "  'article': [{'title': 'EC party-list calculation opens a can of worms',\n",
       "    'event': 'Violence against civilians',\n",
       "    'eventDate': '05/08/2019',\n",
       "    'location': 'Chiang Mai',\n",
       "    'partiesInvolved': 'other',\n",
       "    'source': 'The Nation',\n",
       "    'summary': 'On 08 May, The Election Commission (EC) announced yesterday that 26 parties had secured party-list MP seats despite 11 of the parties not winning enough votes to be entitled to the seats and only 16 being eligible.\\n\\n',\n",
       "    'link': 'http://www.nationmultimedia.com/detail/politics/30369064'},\n",
       "   {'title': 'EC endorses 349 candidates but warns not all candidates in the clear',\n",
       "    'event': 'Other',\n",
       "    'eventDate': '05/07/2019',\n",
       "    'location': 'Chiang Mai province',\n",
       "    'partiesInvolved': 'other',\n",
       "    'source': 'The Nation',\n",
       "    'summary': 'On 07 May, The use of this method would come at the expense of Future Forward, which could lose seven seats or some 600,000 votes, he said, adding that his party would sue the EC for negligence of duty if such a situation arises.',\n",
       "    'link': 'http://www.nationmultimedia.com/detail/politics/30369012'},\n",
       "   {'title': '11 election candidates disqualified',\n",
       "    'event': 'Other',\n",
       "    'eventDate': '05/02/2019',\n",
       "    'location': 'Palang Rak',\n",
       "    'partiesInvolved': 'other',\n",
       "    'source': 'The Nation',\n",
       "    'summary': 'On 02 May, Their votes would not be used in the calculation of the party lists.',\n",
       "    'link': 'http://www.nationmultimedia.com/detail/politics/30368750'}]},\n",
       " {'rss': 'https://www.bangkokpost.com/rss/data/topstories.xml',\n",
       "  'link': 'https://www.bangkokpost.com/news/politics',\n",
       "  'article': []},\n",
       " {'rss': 'http://www.khaosodenglish.com/category/politics/feed/',\n",
       "  'link': 'http://www.khaosodenglish.com/category/politics/',\n",
       "  'article': [{'title': 'EC Admits 27 Parties to Parliament, Setting New Record',\n",
       "    'event': 'Protests',\n",
       "    'eventDate': '05/08/2019',\n",
       "    'location': 'BANGKOK',\n",
       "    'partiesInvolved': 'Protestors',\n",
       "    'source': 'Khaosod English',\n",
       "    'summary': 'On 08 May, Since 35,532,647 voters participated in the election on March 24, the threshold for a party-list seat under the original proposition would have been some 71,000 votes.\\n\\n',\n",
       "    'link': 'http://www.khaosodenglish.com/politics/2019/05/08/26-parties-admitted-to-parliament-setting-new-record/'},\n",
       "   {'title': 'Court Affirms EC’s Power to Allocate Party-List Seats',\n",
       "    'event': 'Protests',\n",
       "    'eventDate': '05/08/2019',\n",
       "    'location': 'BANGKOK',\n",
       "    'partiesInvolved': 'Protestors',\n",
       "    'source': 'Khaosod English',\n",
       "    'summary': 'On 08 May, Future Foward, which placed third in the March election, is set to lose up to eight seats if the proposed quota comes into effect.\\n\\n',\n",
       "    'link': 'http://www.khaosodenglish.com/politics/2019/05/08/court-affirms-ecs-power-to-allocate-party-list-seats/'},\n",
       "   {'title': 'Future Forward May Sue EC For Dereliction of Duty: Piyabutr',\n",
       "    'event': 'Other',\n",
       "    'eventDate': '04/30/2019',\n",
       "    'location': 'BANGKOK',\n",
       "    'partiesInvolved': 'other',\n",
       "    'source': 'Khaosod English',\n",
       "    'summary': 'On 30 Apr, But under the latest formula being entertained, 30,000 to 69,000 votes may suffice – a lowering of the threshold that comes at the expense of parties with a large share of the popular vote, such as Future Forward.\\n\\n',\n",
       "    'link': 'http://www.khaosodenglish.com/politics/2019/04/30/future-forward-may-sue-ec-for-dereliction-of-duty-piyabutr/'},\n",
       "   {'title': 'Future Forward Calls for Re-Vote to Settle Contested Recount',\n",
       "    'event': 'Protests',\n",
       "    'eventDate': '04/29/2019',\n",
       "    'location': '',\n",
       "    'partiesInvolved': 'democrat',\n",
       "    'source': 'Khaosod English',\n",
       "    'summary': 'On 29 Apr, The controversy is the latest to dog the Election Commission, which has come under heavy criticism from anti-junta politicians for its failure to confirm official election results even though a month has passed since the poll.\\n\\n',\n",
       "    'link': 'http://www.khaosodenglish.com/politics/2019/04/29/future-forward-calls-for-re-vote-to-settle-contested-recount/'},\n",
       "   {'title': 'Democrats Dispute Future Forward Victory After Recount',\n",
       "    'event': 'Protests',\n",
       "    'eventDate': '04/29/2019',\n",
       "    'location': 'Srisuwan',\n",
       "    'partiesInvolved': 'Protestors',\n",
       "    'source': 'Khaosod English',\n",
       "    'summary': 'On 29 Apr, Power was restored about 30 seconds later, though the incident was enough to raise even more suspicion among Future Forward supporters, who have been accusing the Election Commission of biases against their party.\\n\\n',\n",
       "    'link': 'http://www.khaosodenglish.com/politics/2019/04/29/democrats-dispute-future-forward-victory-after-recount/'},\n",
       "   {'title': 'By-Election Ordered in Chiang Mai as Pheu Thai Winner Disqualified',\n",
       "    'event': 'Other',\n",
       "    'eventDate': '04/24/2019',\n",
       "    'location': 'BANGKOK',\n",
       "    'partiesInvolved': 'pheu',\n",
       "    'source': 'Khaosod English',\n",
       "    'summary': 'On 24 Apr, He said he wasn’t involved in organizing the event, but that he privately gave 2,000 baht cash to a monk, adding that he had already explained himself to the commissioners and had the monk testify as his witness.',\n",
       "    'link': 'http://www.khaosodenglish.com/politics/2019/04/24/by-election-ordered-in-chiang-mai-as-pheu-thai-winner-disqualified/'},\n",
       "   {'title': 'Election Commission Accuses Thanathorn of Breaching Elections Law',\n",
       "    'event': 'Protests',\n",
       "    'eventDate': '04/23/2019',\n",
       "    'location': 'BANGKOK',\n",
       "    'partiesInvolved': 'Protestors',\n",
       "    'source': 'Khaosod English',\n",
       "    'summary': 'On 23 Apr, Earlier on Tuesday, Future Forward Party secretary general Piyabutr Saengkanonkkul held a press conference insisting that the Election Commission has no authority to disqualify Thanathorn by citing laws are only applicable to constituency-based MPs and not a party-list MP like Thanathorn.\\n\\n',\n",
       "    'link': 'http://www.khaosodenglish.com/politics/2019/04/23/election-commission-accuses-thanathorn-of-breaching-elections-law/'},\n",
       "   {'title': 'EC Has Until Thursday to Recommend Election Nullification: Ombudsman',\n",
       "    'event': 'Protests',\n",
       "    'eventDate': '04/23/2019',\n",
       "    'location': 'BANGKOK',\n",
       "    'partiesInvolved': 'Protestors',\n",
       "    'source': 'Khaosod English',\n",
       "    'summary': 'On 23 Apr, Ruengkrai argued that the election was neither free nor fair, reasoning the Election Commission revealed inconsistent vote counts as well as failed to count advance votes from New Zealand.',\n",
       "    'link': 'http://www.khaosodenglish.com/politics/2019/04/23/ec-has-until-thursday-to-recommend-election-nullification-ombudsman/'}]},\n",
       " {'rss': 'https://www.intellasia.net/category/thailand/feed',\n",
       "  'link': 'https://www.intellasia.net/category/thailand/feed',\n",
       "  'article': []},\n",
       " {'rss': 'https://thethaiger.com/feed',\n",
       "  'link': 'https://thethaiger.com/feed',\n",
       "  'article': []}]"
      ]
     },
     "execution_count": 21,
     "metadata": {},
     "output_type": "execute_result"
    }
   ],
   "source": [
    "collections[\"total\"]"
   ]
  },
  {
   "cell_type": "code",
   "execution_count": 22,
   "metadata": {},
   "outputs": [
    {
     "data": {
      "text/html": [
       "<div>\n",
       "<style scoped>\n",
       "    .dataframe tbody tr th:only-of-type {\n",
       "        vertical-align: middle;\n",
       "    }\n",
       "\n",
       "    .dataframe tbody tr th {\n",
       "        vertical-align: top;\n",
       "    }\n",
       "\n",
       "    .dataframe thead th {\n",
       "        text-align: right;\n",
       "    }\n",
       "</style>\n",
       "<table border=\"1\" class=\"dataframe\">\n",
       "  <thead>\n",
       "    <tr style=\"text-align: right;\">\n",
       "      <th></th>\n",
       "      <th>article</th>\n",
       "      <th>link</th>\n",
       "      <th>rss</th>\n",
       "    </tr>\n",
       "  </thead>\n",
       "  <tbody>\n",
       "    <tr>\n",
       "      <th>0</th>\n",
       "      <td>[{'title': 'EC party-list calculation opens a ...</td>\n",
       "      <td>https://www.thenation.com/subject/politics/</td>\n",
       "      <td>http://www.nationmultimedia.com/rss/politics.rss</td>\n",
       "    </tr>\n",
       "    <tr>\n",
       "      <th>1</th>\n",
       "      <td>[]</td>\n",
       "      <td>https://www.bangkokpost.com/news/politics</td>\n",
       "      <td>https://www.bangkokpost.com/rss/data/topstorie...</td>\n",
       "    </tr>\n",
       "    <tr>\n",
       "      <th>2</th>\n",
       "      <td>[{'title': 'EC Admits 27 Parties to Parliament...</td>\n",
       "      <td>http://www.khaosodenglish.com/category/politics/</td>\n",
       "      <td>http://www.khaosodenglish.com/category/politic...</td>\n",
       "    </tr>\n",
       "    <tr>\n",
       "      <th>3</th>\n",
       "      <td>[]</td>\n",
       "      <td>https://www.intellasia.net/category/thailand/feed</td>\n",
       "      <td>https://www.intellasia.net/category/thailand/feed</td>\n",
       "    </tr>\n",
       "    <tr>\n",
       "      <th>4</th>\n",
       "      <td>[]</td>\n",
       "      <td>https://thethaiger.com/feed</td>\n",
       "      <td>https://thethaiger.com/feed</td>\n",
       "    </tr>\n",
       "  </tbody>\n",
       "</table>\n",
       "</div>"
      ],
      "text/plain": [
       "                                             article  \\\n",
       "0  [{'title': 'EC party-list calculation opens a ...   \n",
       "1                                                 []   \n",
       "2  [{'title': 'EC Admits 27 Parties to Parliament...   \n",
       "3                                                 []   \n",
       "4                                                 []   \n",
       "\n",
       "                                                link  \\\n",
       "0        https://www.thenation.com/subject/politics/   \n",
       "1          https://www.bangkokpost.com/news/politics   \n",
       "2   http://www.khaosodenglish.com/category/politics/   \n",
       "3  https://www.intellasia.net/category/thailand/feed   \n",
       "4                        https://thethaiger.com/feed   \n",
       "\n",
       "                                                 rss  \n",
       "0   http://www.nationmultimedia.com/rss/politics.rss  \n",
       "1  https://www.bangkokpost.com/rss/data/topstorie...  \n",
       "2  http://www.khaosodenglish.com/category/politic...  \n",
       "3  https://www.intellasia.net/category/thailand/feed  \n",
       "4                        https://thethaiger.com/feed  "
      ]
     },
     "execution_count": 22,
     "metadata": {},
     "output_type": "execute_result"
    }
   ],
   "source": [
    "frame = json_normalize(collections['total'])\n",
    "rows = frame.shape[0]\n",
    "frame"
   ]
  },
  {
   "cell_type": "code",
   "execution_count": 23,
   "metadata": {},
   "outputs": [],
   "source": [
    "totalDF = pd.DataFrame()\n",
    "for row in range(0,rows):\n",
    "    tempDF = pd.DataFrame()\n",
    "    tempDF = json_normalize(collections['total'][row]['article'])\n",
    "    totalDF = totalDF.append(tempDF, ignore_index = True) \n"
   ]
  },
  {
   "cell_type": "markdown",
   "metadata": {},
   "source": [
    "# Dataframe that contains scraped news which has been classified and summarized"
   ]
  },
  {
   "cell_type": "code",
   "execution_count": 24,
   "metadata": {},
   "outputs": [
    {
     "data": {
      "text/html": [
       "<div>\n",
       "<style scoped>\n",
       "    .dataframe tbody tr th:only-of-type {\n",
       "        vertical-align: middle;\n",
       "    }\n",
       "\n",
       "    .dataframe tbody tr th {\n",
       "        vertical-align: top;\n",
       "    }\n",
       "\n",
       "    .dataframe thead th {\n",
       "        text-align: right;\n",
       "    }\n",
       "</style>\n",
       "<table border=\"1\" class=\"dataframe\">\n",
       "  <thead>\n",
       "    <tr style=\"text-align: right;\">\n",
       "      <th></th>\n",
       "      <th>event</th>\n",
       "      <th>eventDate</th>\n",
       "      <th>link</th>\n",
       "      <th>location</th>\n",
       "      <th>partiesInvolved</th>\n",
       "      <th>source</th>\n",
       "      <th>summary</th>\n",
       "      <th>title</th>\n",
       "    </tr>\n",
       "  </thead>\n",
       "  <tbody>\n",
       "    <tr>\n",
       "      <th>0</th>\n",
       "      <td>Violence against civilians</td>\n",
       "      <td>05/08/2019</td>\n",
       "      <td>http://www.nationmultimedia.com/detail/politic...</td>\n",
       "      <td>Chiang Mai</td>\n",
       "      <td>other</td>\n",
       "      <td>The Nation</td>\n",
       "      <td>On 08 May, The Election Commission (EC) announ...</td>\n",
       "      <td>EC party-list calculation opens a can of worms</td>\n",
       "    </tr>\n",
       "    <tr>\n",
       "      <th>1</th>\n",
       "      <td>Other</td>\n",
       "      <td>05/07/2019</td>\n",
       "      <td>http://www.nationmultimedia.com/detail/politic...</td>\n",
       "      <td>Chiang Mai province</td>\n",
       "      <td>other</td>\n",
       "      <td>The Nation</td>\n",
       "      <td>On 07 May, The use of this method would come a...</td>\n",
       "      <td>EC endorses 349 candidates but warns not all c...</td>\n",
       "    </tr>\n",
       "    <tr>\n",
       "      <th>2</th>\n",
       "      <td>Other</td>\n",
       "      <td>05/02/2019</td>\n",
       "      <td>http://www.nationmultimedia.com/detail/politic...</td>\n",
       "      <td>Palang Rak</td>\n",
       "      <td>other</td>\n",
       "      <td>The Nation</td>\n",
       "      <td>On 02 May, Their votes would not be used in th...</td>\n",
       "      <td>11 election candidates disqualified</td>\n",
       "    </tr>\n",
       "    <tr>\n",
       "      <th>3</th>\n",
       "      <td>Protests</td>\n",
       "      <td>05/08/2019</td>\n",
       "      <td>http://www.khaosodenglish.com/politics/2019/05...</td>\n",
       "      <td>BANGKOK</td>\n",
       "      <td>Protestors</td>\n",
       "      <td>Khaosod English</td>\n",
       "      <td>On 08 May, Since 35,532,647 voters participate...</td>\n",
       "      <td>EC Admits 27 Parties to Parliament, Setting Ne...</td>\n",
       "    </tr>\n",
       "    <tr>\n",
       "      <th>4</th>\n",
       "      <td>Protests</td>\n",
       "      <td>05/08/2019</td>\n",
       "      <td>http://www.khaosodenglish.com/politics/2019/05...</td>\n",
       "      <td>BANGKOK</td>\n",
       "      <td>Protestors</td>\n",
       "      <td>Khaosod English</td>\n",
       "      <td>On 08 May, Future Foward, which placed third i...</td>\n",
       "      <td>Court Affirms EC’s Power to Allocate Party-Lis...</td>\n",
       "    </tr>\n",
       "    <tr>\n",
       "      <th>5</th>\n",
       "      <td>Other</td>\n",
       "      <td>04/30/2019</td>\n",
       "      <td>http://www.khaosodenglish.com/politics/2019/04...</td>\n",
       "      <td>BANGKOK</td>\n",
       "      <td>other</td>\n",
       "      <td>Khaosod English</td>\n",
       "      <td>On 30 Apr, But under the latest formula being ...</td>\n",
       "      <td>Future Forward May Sue EC For Dereliction of D...</td>\n",
       "    </tr>\n",
       "    <tr>\n",
       "      <th>6</th>\n",
       "      <td>Protests</td>\n",
       "      <td>04/29/2019</td>\n",
       "      <td>http://www.khaosodenglish.com/politics/2019/04...</td>\n",
       "      <td></td>\n",
       "      <td>democrat</td>\n",
       "      <td>Khaosod English</td>\n",
       "      <td>On 29 Apr, The controversy is the latest to do...</td>\n",
       "      <td>Future Forward Calls for Re-Vote to Settle Con...</td>\n",
       "    </tr>\n",
       "    <tr>\n",
       "      <th>7</th>\n",
       "      <td>Protests</td>\n",
       "      <td>04/29/2019</td>\n",
       "      <td>http://www.khaosodenglish.com/politics/2019/04...</td>\n",
       "      <td>Srisuwan</td>\n",
       "      <td>Protestors</td>\n",
       "      <td>Khaosod English</td>\n",
       "      <td>On 29 Apr, Power was restored about 30 seconds...</td>\n",
       "      <td>Democrats Dispute Future Forward Victory After...</td>\n",
       "    </tr>\n",
       "    <tr>\n",
       "      <th>8</th>\n",
       "      <td>Other</td>\n",
       "      <td>04/24/2019</td>\n",
       "      <td>http://www.khaosodenglish.com/politics/2019/04...</td>\n",
       "      <td>BANGKOK</td>\n",
       "      <td>pheu</td>\n",
       "      <td>Khaosod English</td>\n",
       "      <td>On 24 Apr, He said he wasn’t involved in organ...</td>\n",
       "      <td>By-Election Ordered in Chiang Mai as Pheu Thai...</td>\n",
       "    </tr>\n",
       "    <tr>\n",
       "      <th>9</th>\n",
       "      <td>Protests</td>\n",
       "      <td>04/23/2019</td>\n",
       "      <td>http://www.khaosodenglish.com/politics/2019/04...</td>\n",
       "      <td>BANGKOK</td>\n",
       "      <td>Protestors</td>\n",
       "      <td>Khaosod English</td>\n",
       "      <td>On 23 Apr, Earlier on Tuesday, Future Forward ...</td>\n",
       "      <td>Election Commission Accuses Thanathorn of Brea...</td>\n",
       "    </tr>\n",
       "    <tr>\n",
       "      <th>10</th>\n",
       "      <td>Protests</td>\n",
       "      <td>04/23/2019</td>\n",
       "      <td>http://www.khaosodenglish.com/politics/2019/04...</td>\n",
       "      <td>BANGKOK</td>\n",
       "      <td>Protestors</td>\n",
       "      <td>Khaosod English</td>\n",
       "      <td>On 23 Apr, Ruengkrai argued that the election ...</td>\n",
       "      <td>EC Has Until Thursday to Recommend Election Nu...</td>\n",
       "    </tr>\n",
       "  </tbody>\n",
       "</table>\n",
       "</div>"
      ],
      "text/plain": [
       "                         event   eventDate  \\\n",
       "0   Violence against civilians  05/08/2019   \n",
       "1                        Other  05/07/2019   \n",
       "2                        Other  05/02/2019   \n",
       "3                     Protests  05/08/2019   \n",
       "4                     Protests  05/08/2019   \n",
       "5                        Other  04/30/2019   \n",
       "6                     Protests  04/29/2019   \n",
       "7                     Protests  04/29/2019   \n",
       "8                        Other  04/24/2019   \n",
       "9                     Protests  04/23/2019   \n",
       "10                    Protests  04/23/2019   \n",
       "\n",
       "                                                 link             location  \\\n",
       "0   http://www.nationmultimedia.com/detail/politic...           Chiang Mai   \n",
       "1   http://www.nationmultimedia.com/detail/politic...  Chiang Mai province   \n",
       "2   http://www.nationmultimedia.com/detail/politic...           Palang Rak   \n",
       "3   http://www.khaosodenglish.com/politics/2019/05...              BANGKOK   \n",
       "4   http://www.khaosodenglish.com/politics/2019/05...              BANGKOK   \n",
       "5   http://www.khaosodenglish.com/politics/2019/04...              BANGKOK   \n",
       "6   http://www.khaosodenglish.com/politics/2019/04...                        \n",
       "7   http://www.khaosodenglish.com/politics/2019/04...             Srisuwan   \n",
       "8   http://www.khaosodenglish.com/politics/2019/04...              BANGKOK   \n",
       "9   http://www.khaosodenglish.com/politics/2019/04...              BANGKOK   \n",
       "10  http://www.khaosodenglish.com/politics/2019/04...              BANGKOK   \n",
       "\n",
       "   partiesInvolved           source  \\\n",
       "0            other       The Nation   \n",
       "1            other       The Nation   \n",
       "2            other       The Nation   \n",
       "3       Protestors  Khaosod English   \n",
       "4       Protestors  Khaosod English   \n",
       "5            other  Khaosod English   \n",
       "6         democrat  Khaosod English   \n",
       "7       Protestors  Khaosod English   \n",
       "8             pheu  Khaosod English   \n",
       "9       Protestors  Khaosod English   \n",
       "10      Protestors  Khaosod English   \n",
       "\n",
       "                                              summary  \\\n",
       "0   On 08 May, The Election Commission (EC) announ...   \n",
       "1   On 07 May, The use of this method would come a...   \n",
       "2   On 02 May, Their votes would not be used in th...   \n",
       "3   On 08 May, Since 35,532,647 voters participate...   \n",
       "4   On 08 May, Future Foward, which placed third i...   \n",
       "5   On 30 Apr, But under the latest formula being ...   \n",
       "6   On 29 Apr, The controversy is the latest to do...   \n",
       "7   On 29 Apr, Power was restored about 30 seconds...   \n",
       "8   On 24 Apr, He said he wasn’t involved in organ...   \n",
       "9   On 23 Apr, Earlier on Tuesday, Future Forward ...   \n",
       "10  On 23 Apr, Ruengkrai argued that the election ...   \n",
       "\n",
       "                                                title  \n",
       "0      EC party-list calculation opens a can of worms  \n",
       "1   EC endorses 349 candidates but warns not all c...  \n",
       "2                 11 election candidates disqualified  \n",
       "3   EC Admits 27 Parties to Parliament, Setting Ne...  \n",
       "4   Court Affirms EC’s Power to Allocate Party-Lis...  \n",
       "5   Future Forward May Sue EC For Dereliction of D...  \n",
       "6   Future Forward Calls for Re-Vote to Settle Con...  \n",
       "7   Democrats Dispute Future Forward Victory After...  \n",
       "8   By-Election Ordered in Chiang Mai as Pheu Thai...  \n",
       "9   Election Commission Accuses Thanathorn of Brea...  \n",
       "10  EC Has Until Thursday to Recommend Election Nu...  "
      ]
     },
     "execution_count": 24,
     "metadata": {},
     "output_type": "execute_result"
    }
   ],
   "source": [
    "totalDF"
   ]
  },
  {
   "cell_type": "code",
   "execution_count": 25,
   "metadata": {},
   "outputs": [],
   "source": [
    "import datetime\n",
    "now = datetime.datetime.now()\n",
    "totalDF.to_excel(\"airData/thailand/testing_\"+now.strftime(\"%m%d%Y_%H%M%S\")+\".xlsx\")"
   ]
  },
  {
   "cell_type": "code",
   "execution_count": null,
   "metadata": {},
   "outputs": [],
   "source": []
  }
 ],
 "metadata": {
  "kernelspec": {
   "display_name": "Python 3",
   "language": "python",
   "name": "python3"
  },
  "language_info": {
   "codemirror_mode": {
    "name": "ipython",
    "version": 3
   },
   "file_extension": ".py",
   "mimetype": "text/x-python",
   "name": "python",
   "nbconvert_exporter": "python",
   "pygments_lexer": "ipython3",
   "version": "3.6.5"
  }
 },
 "nbformat": 4,
 "nbformat_minor": 2
}
