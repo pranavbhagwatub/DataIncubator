{
 "cells": [
  {
   "cell_type": "markdown",
   "metadata": {},
   "source": [
    "# Sample for wikification of Summary"
   ]
  },
  {
   "cell_type": "code",
   "execution_count": 6,
   "metadata": {},
   "outputs": [
    {
     "name": "stdout",
     "output_type": "stream",
     "text": [
      "HSBC\n",
      "http://en.wikipedia.org/wiki/HSBC\n",
      "Bank\n",
      "http://en.wikipedia.org/wiki/Bank\n",
      "United Kingdom\n",
      "http://en.wikipedia.org/wiki/United_Kingdom\n",
      "Tax\n",
      "http://en.wikipedia.org/wiki/Tax\n",
      "Bank tax\n",
      "http://en.wikipedia.org/wiki/Bank_tax\n",
      "Balance sheet\n",
      "http://en.wikipedia.org/wiki/Balance_sheet\n"
     ]
    }
   ],
   "source": [
    "def set_default(obj):\n",
    "    if isinstance(obj, set):\n",
    "        return list(obj)\n",
    "    raise TypeError\n",
    "    \n",
    "\n",
    "import urllib.parse, urllib.request, json\n",
    "import json\n",
    "from json import dumps, loads, JSONEncoder, JSONDecoder\n",
    "\n",
    "wikified_data = {}\n",
    "summary = \"HSBC and other lenders based in Britain have also faced a stiff tax known as a bank levy The levy was put in place in 2010 to help finance efforts to rescue the financial system, but it has also generated revenue for other programs. Under the levy, banks based in Britain have been taxed on their global balance sheets, while overseas competitors are taxed only on their British operations. HSBC’s payment had more than doubled since 2012. The tax cost the bank about $1.1 billion in 2014, when HSBC reported a profit of $13.7 billion. Before HSBC announced job cuts last year as part of a reshaping of the bank, it employed about 46,000 people in Britain. Mr. Osborne also promised to reduce the bank levy beginning this year, and to change the way it is calculated in future years. A version of this article appears in print on , on Page B2 of the New York edition with the headline\"\n",
    "\n",
    "def CallWikifier(text, lang=\"en\", threshold=0.8):\n",
    "    # Prepare the URL.\n",
    "    data = urllib.parse.urlencode([\n",
    "        (\"text\", text), (\"lang\", lang),\n",
    "        (\"userKey\", \"djevjeontlpxocybujfnedzpptmvfi\"),\n",
    "        (\"pageRankSqThreshold\", \"%g\" % threshold), (\"applyPageRankSqThreshold\", \"true\"),\n",
    "        (\"nTopDfValuesToIgnore\", \"200\"), (\"nWordsToIgnoreFromList\", \"200\"),\n",
    "        (\"wikiDataClasses\", \"true\"), (\"wikiDataClassIds\", \"false\"),\n",
    "        (\"support\", \"true\"), (\"ranges\", \"false\"),\n",
    "        (\"includeCosines\", \"false\"), (\"maxMentionEntropy\", \"3\")\n",
    "        ])\n",
    "    url = \"http://www.wikifier.org/annotate-article\"\n",
    "    # Call the Wikifier and read the response.\n",
    "    req = urllib.request.Request(url, data=data.encode(\"utf8\"), method=\"POST\")\n",
    "    with urllib.request.urlopen(req, timeout = 60) as f:\n",
    "        response = f.read()\n",
    "        response = json.loads(response.decode(\"utf8\"))\n",
    "\n",
    "    for annotation in response[\"annotations\"]: \n",
    "        print(annotation[\"title\"])\n",
    "        print(annotation[\"url\"])\n",
    "        key = annotation[\"title\"]\n",
    "        value = annotation[\"url\"]\n",
    "        wikified_data[key] = value\n",
    "        #print(json.dumps(\"%s: %s\" % (annotation[\"title\"], annotation[\"url\"]),default=set_default))\n",
    "\n",
    "       \n",
    "CallWikifier(summary)\n",
    "\n"
   ]
  },
  {
   "cell_type": "code",
   "execution_count": 59,
   "metadata": {},
   "outputs": [
    {
     "data": {
      "text/plain": [
       "{'HSBC': 'http://en.wikipedia.org/wiki/HSBC',\n",
       " 'Bank': 'http://en.wikipedia.org/wiki/Bank',\n",
       " 'United Kingdom': 'http://en.wikipedia.org/wiki/United_Kingdom',\n",
       " 'Tax': 'http://en.wikipedia.org/wiki/Tax',\n",
       " 'Bank tax': 'http://en.wikipedia.org/wiki/Bank_tax',\n",
       " 'Balance sheet': 'http://en.wikipedia.org/wiki/Balance_sheet'}"
      ]
     },
     "execution_count": 59,
     "metadata": {},
     "output_type": "execute_result"
    }
   ],
   "source": [
    "#wikified_data"
   ]
  },
  {
   "cell_type": "markdown",
   "metadata": {},
   "source": [
    "# Converting the wikified summary to JSON so as to pass it to Flask framework"
   ]
  },
  {
   "cell_type": "code",
   "execution_count": 60,
   "metadata": {},
   "outputs": [],
   "source": [
    "\n",
    "import json\n",
    "wikified_data_json = json.dumps(wikified_data)"
   ]
  },
  {
   "cell_type": "code",
   "execution_count": 61,
   "metadata": {},
   "outputs": [
    {
     "data": {
      "text/plain": [
       "'{\"HSBC\": \"http://en.wikipedia.org/wiki/HSBC\", \"Bank\": \"http://en.wikipedia.org/wiki/Bank\", \"United Kingdom\": \"http://en.wikipedia.org/wiki/United_Kingdom\", \"Tax\": \"http://en.wikipedia.org/wiki/Tax\", \"Bank tax\": \"http://en.wikipedia.org/wiki/Bank_tax\", \"Balance sheet\": \"http://en.wikipedia.org/wiki/Balance_sheet\"}'"
      ]
     },
     "execution_count": 61,
     "metadata": {},
     "output_type": "execute_result"
    }
   ],
   "source": [
    "wikified_data_json"
   ]
  },
  {
   "cell_type": "code",
   "execution_count": null,
   "metadata": {},
   "outputs": [],
   "source": [
    "#References:\n",
    "# http://ailab.ijs.si/dunja/SiKDD2017/Papers/Brank_Wikifier.pdf\n",
    "# http://wikifier.org/info.html"
   ]
  }
 ],
 "metadata": {
  "kernelspec": {
   "display_name": "Python 3",
   "language": "python",
   "name": "python3"
  },
  "language_info": {
   "codemirror_mode": {
    "name": "ipython",
    "version": 3
   },
   "file_extension": ".py",
   "mimetype": "text/x-python",
   "name": "python",
   "nbconvert_exporter": "python",
   "pygments_lexer": "ipython3",
   "version": "3.7.1"
  }
 },
 "nbformat": 4,
 "nbformat_minor": 2
}
