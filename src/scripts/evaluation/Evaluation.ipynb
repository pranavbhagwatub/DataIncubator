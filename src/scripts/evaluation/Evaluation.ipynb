{
 "cells": [
  {
   "cell_type": "markdown",
   "metadata": {},
   "source": [
    "## Evaluation"
   ]
  },
  {
   "cell_type": "code",
   "execution_count": 38,
   "metadata": {},
   "outputs": [],
   "source": [
    "import matplotlib.pyplot as plt\n",
    "from sklearn.metrics import precision_recall_fscore_support\n",
    "from sklearn.metrics import precision_recall_curve\n",
    "import matplotlib.pyplot as plt\n",
    "from sklearn.utils.fixes import signature\n",
    "import pandas as pd\n",
    "import numpy as np\n",
    "from rouge import Rouge \n",
    "import seaborn as sns\n",
    "from scipy import stats\n",
    "from matplotlib.pyplot import figure"
   ]
  },
  {
   "cell_type": "markdown",
   "metadata": {},
   "source": [
    "### Precision, Recall and F measure for location"
   ]
  },
  {
   "cell_type": "code",
   "execution_count": 39,
   "metadata": {},
   "outputs": [
    {
     "name": "stderr",
     "output_type": "stream",
     "text": [
      "C:\\Users\\anike\\Anaconda3\\lib\\site-packages\\sklearn\\metrics\\classification.py:1135: UndefinedMetricWarning: Precision and F-score are ill-defined and being set to 0.0 in labels with no predicted samples.\n",
      "  'precision', 'predicted', average, warn_for)\n",
      "C:\\Users\\anike\\Anaconda3\\lib\\site-packages\\sklearn\\metrics\\classification.py:1137: UndefinedMetricWarning: Recall and F-score are ill-defined and being set to 0.0 in labels with no true samples.\n",
      "  'recall', 'true', average, warn_for)\n"
     ]
    }
   ],
   "source": [
    "import matplotlib.pyplot as plt\n",
    "from sklearn.metrics import precision_recall_fscore_support\n",
    "from sklearn.metrics import precision_recall_curve\n",
    "import matplotlib.pyplot as plt\n",
    "from sklearn.utils.fixes import signature\n",
    "import pandas as pd\n",
    "import numpy as np\n",
    "from rouge import Rouge \n",
    "# x = open(r\"C:\\Users\\anike\\Shodh_test.csv\")\n",
    "# y = open(r\"C:\\Users\\anike\\acled_test.csv\")\n",
    "# x = open(r\"C:\\Users\\anike\\airData\\india\\eval\\eval_NB2.csv\")\n",
    "# x = open(r\"C:\\Users\\anike\\airData\\india\\eval\\eval_SVM.csv\")\n",
    "x = open(r\"C:\\Users\\anike\\airData\\india\\eval\\eval_RF_act2.csv\", encoding=\"utf8\")\n",
    "y = open(r\"C:\\Users\\anike\\airData\\india\\eval\\reference.csv\", encoding=\"utf8\")\n",
    "df1 = pd.read_csv(x).fillna(\"\")\n",
    "df2 = pd.read_csv(y).fillna(\"\")\n",
    "\n",
    "y_true = np.array(df2['location'])\n",
    "y_pred = np.array(df1['location'])\n",
    "\n",
    "# precision_recall_fscore_support(y_true, y_pred, average='macro')\n",
    "\n",
    "\n",
    "# precision_recall_fscore_support(y_true, y_pred, average='micro')\n",
    "prfLocation = precision_recall_fscore_support(y_true, y_pred, average='weighted')\n",
    "# prfEvent = precision_recall_fscore_support(np.array(df2['notes']), np.array(df1['summary']), average='weighted')"
   ]
  },
  {
   "cell_type": "markdown",
   "metadata": {},
   "source": [
    "### Precision, Recall and F measure for parties involved"
   ]
  },
  {
   "cell_type": "code",
   "execution_count": 40,
   "metadata": {},
   "outputs": [
    {
     "name": "stderr",
     "output_type": "stream",
     "text": [
      "C:\\Users\\anike\\Anaconda3\\lib\\site-packages\\sklearn\\metrics\\classification.py:1135: UndefinedMetricWarning: Precision and F-score are ill-defined and being set to 0.0 in labels with no predicted samples.\n",
      "  'precision', 'predicted', average, warn_for)\n",
      "C:\\Users\\anike\\Anaconda3\\lib\\site-packages\\sklearn\\metrics\\classification.py:1137: UndefinedMetricWarning: Recall and F-score are ill-defined and being set to 0.0 in labels with no true samples.\n",
      "  'recall', 'true', average, warn_for)\n"
     ]
    },
    {
     "data": {
      "text/plain": [
       "(0.14035087719298245, 0.3333333333333333, 0.19753086419753085, None)"
      ]
     },
     "execution_count": 40,
     "metadata": {},
     "output_type": "execute_result"
    }
   ],
   "source": [
    "y_true = np.array(df2['actor1'])\n",
    "y_pred = np.array(df1['partiesInvolved'])\n",
    "\n",
    "# precision_recall_fscore_support(y_true, y_pred, average='macro')\n",
    "\n",
    "# precision_recall_fscore_support(y_true, y_pred, average='micro')\n",
    "prfParties = precision_recall_fscore_support(y_true, y_pred, average='weighted')\n",
    "prfParties"
   ]
  },
  {
   "cell_type": "markdown",
   "metadata": {},
   "source": [
    "# Precision, Recall and F measure for event type"
   ]
  },
  {
   "cell_type": "code",
   "execution_count": 41,
   "metadata": {},
   "outputs": [
    {
     "name": "stderr",
     "output_type": "stream",
     "text": [
      "C:\\Users\\anike\\Anaconda3\\lib\\site-packages\\sklearn\\metrics\\classification.py:1135: UndefinedMetricWarning: Precision and F-score are ill-defined and being set to 0.0 in labels with no predicted samples.\n",
      "  'precision', 'predicted', average, warn_for)\n"
     ]
    },
    {
     "data": {
      "text/plain": [
       "(0.7973484848484849, 0.7916666666666666, 0.7425213675213675, None)"
      ]
     },
     "execution_count": 41,
     "metadata": {},
     "output_type": "execute_result"
    }
   ],
   "source": [
    "y_true = np.array(df2['event_type'])\n",
    "y_pred = np.array(df1['event'])\n",
    "\n",
    "# precision_recall_fscore_support(y_true, y_pred, average='macro')\n",
    "\n",
    "# precision_recall_fscore_support(y_true, y_pred, average='micro')\n",
    "prfEvent= precision_recall_fscore_support(y_true, y_pred, average='weighted')\n",
    "prfEvent"
   ]
  },
  {
   "cell_type": "markdown",
   "metadata": {},
   "source": [
    "### Summary Rouge score"
   ]
  },
  {
   "cell_type": "code",
   "execution_count": 42,
   "metadata": {},
   "outputs": [
    {
     "name": "stdout",
     "output_type": "stream",
     "text": [
      "On 11 Apr, Polling in Andhra Pradesh began on a peaceful note with a large number of voters turning up early in the morning to exercise their franchise.\n",
      "On 11 Apr, in Tadipatri (Anantapur, AP), a TDP legislator along with his folllowers staged a protest in front of the local police station condemning the death of a TDP member in a clash with YSCRP workers.\n",
      "{'f': 0.2962962913031551, 'p': 0.3076923076923077, 'r': 0.2857142857142857}\n",
      "{'f': 0.25855090062698155, 'p': 0.2692307692307692, 'r': 0.25}\n",
      "On 14 Apr, Party president YS Jaganmohan Reddy told media on the evening of polling day (Thursday) that women were angry at the TDP government and thus voting with vengeance.\n",
      "On 11 Apr, in Chagalamarri tehsil (Kurnool, AP), incidents of stone-pelting by unknown groups were recorded during the AP general elections. No further information was provided.\n",
      "{'f': 0.181818176833058, 'p': 0.1724137931034483, 'r': 0.19230769230769232}\n",
      "{'f': 0.18074585964434564, 'p': 0.1724137931034483, 'r': 0.19230769230769232}\n",
      "On 09 Apr, Condemning medical negligence of the private hospital staff, more than 50 relatives of Kavitha carrying the ne...\n",
      "On 9 Apr, in Tiruvannamalai town (Tiruvannamalai, TN), relatives of a woman who recently died due to pregnancy complications staged a protest outside a private hospital alleging medical negligence. \n",
      "{'f': 0.3478260821928167, 'p': 0.4444444444444444, 'r': 0.2857142857142857}\n",
      "{'f': 0.19939533544481025, 'p': 0.2777777777777778, 'r': 0.17857142857142858}\n",
      "On 06 Apr, The meeting was convened by JD(S) minister GT Devegowda, who wanted party workers to campaign for Congress candidate CH Vijayshankar in Mysuru.\n",
      "On 5 Apr, in Mysuru district (Karnataka), JD(S) workers shouted pro-Modi slogans at a party meeting in protest against allegations that Congress leaders in Mandya were working to defeat a JD(S) leader in the upcoming general elections.\n",
      "{'f': 0.350877188057864, 'p': 0.4, 'r': 0.3125}\n",
      "{'f': 0.20445105697081992, 'p': 0.24, 'r': 0.1875}\n",
      "On 09 Apr, AABYCP chief advisor Narendra P Chauhan said that the government must allow the sale of jaggery by fixing a right price for it and take initiatives for establishing a sugar mill for the benefit of the local farmers of Assam.\n",
      "On April 5, farmers started a sitting hunger strike in Karbi Anglong district (Assam), in protest against the administrations' decision to close down jaggery godowns, following the death of over 150 people for drinking counterfeit alcohol, in February. The protest is being held in Karbi Anglong, Dima Hasao and Hojai districts. \n",
      "{'f': 0.19753085928974254, 'p': 0.22857142857142856, 'r': 0.17391304347826086}\n",
      "{'f': 0.11914186476076565, 'p': 0.14285714285714285, 'r': 0.10869565217391304}\n",
      "On 09 Apr, AABYCP chief advisor Narendra P Chauhan said that the government must allow the sale of jaggery by fixing a right price for it and take initiatives for establishing a sugar mill for the benefit of the local farmers of Assam.\n",
      "On April 5, farmers started a sitting hunger strike in Dima Hasao district (Assam), in protest against the administrations' decision to close down jaggery godowns, following the death of over 150 people for drinking counterfeit alcohol, in February. The protest is being held in Karbi Anglong, Dima Hasao and Hojai districts. \n",
      "{'f': 0.19999999507812513, 'p': 0.22857142857142856, 'r': 0.17777777777777778}\n",
      "{'f': 0.12126865671619304, 'p': 0.14285714285714285, 'r': 0.1111111111111111}\n",
      "On 09 Apr, AABYCP chief advisor Narendra P Chauhan said that the government must allow the sale of jaggery by fixing a right price for it and take initiatives for establishing a sugar mill for the benefit of the local farmers of Assam.\n",
      "On April 5, farmers started a sitting hunger strike in Dima Hasao district (Assam), in protest against the administrations' decision to close down jaggery godowns, following the death of over 150 people for drinking counterfeit alcohol, in February. The protest is being held in Karbi Anglong, Dima Hasao and Hojai districts.\n",
      "{'f': 0.20253164063451382, 'p': 0.22857142857142856, 'r': 0.18181818181818182}\n",
      "{'f': 0.12341967374388446, 'p': 0.14285714285714285, 'r': 0.11363636363636363}\n",
      "On 04 Apr, Based on Ganesan’s complaint, the Kandili police registered a case and were on the lookout for the accused.\n",
      "On 4 Apr, near Tirupattur (Vellore, TN), a TV journalist was attacked by AIADMK workers after the former was seen filming a cash and biryani distribution to voters for the upcoming general elections by party workers in Pallapalli. The party workers also damaged the camera and celphone of the journalist.\n",
      "{'f': 0.21052631146814413, 'p': 0.3333333333333333, 'r': 0.15384615384615385}\n",
      "{'f': 0.1699129714049815, 'p': 0.3333333333333333, 'r': 0.15384615384615385}\n",
      "On 04 Apr, Yadav is also the TDP nominee for Mydukur assembly constituency in Kadapa district.\n",
      "On 3 Apr, in Proddatur (Kadapa, AP), supporters of a chairman of Tirumala Tirupati Devasthanams (TTD) and TDP candidate for the upcoming general elections (Putta Sudhakar Yadav) staged a protest against the raid conducted by the Income Tax Department in the leader's residence.\n",
      "{'f': 0.22641509012459957, 'p': 0.375, 'r': 0.16216216216216217}\n",
      "{'f': 0.14840453706926976, 'p': 0.3125, 'r': 0.13513513513513514}\n",
      "On 05 Apr, The BJP alleged that its north Kolkata candidate, Rahul Sinha, was barricaded at Ward 18 when he was campaigning and that the candidate was forced to leave the area after “undue undemocratic protest” by local ruling party councillor Sunanda Sarkar.\n",
      "On April 3, a BJP candidate was barricaded and assaulted by TMC workers in Ward 18 in Kolkata city (Kolkata, West Bengal), when he was campaigning for the upcoming Parliamentary elections. \n",
      "{'f': 0.4057970965343416, 'p': 0.358974358974359, 'r': 0.4666666666666667}\n",
      "{'f': 0.28047127515311254, 'p': 0.2564102564102564, 'r': 0.3333333333333333}\n",
      "On 05 Apr, The BJP alleged that its north Kolkata candidate, Rahul Sinha, was barricaded at Ward 18 when he was campaigning and that the candidate was forced to leave the area after “undue undemocratic protest” by local ruling party councillor Sunanda Sarkar.\n",
      "On April 3, a TMC worker was attacked with a sickle by a BJP supporter at Beota, under the Leather Complex in Kolkata city (Kolkata, West Bengal), ahead of the Parliamentary elections. The victim's wife is a gram panchayat member.\n",
      "{'f': 0.21333332834133345, 'p': 0.20512820512820512, 'r': 0.2222222222222222}\n",
      "{'f': 0.13290870488265363, 'p': 0.1282051282051282, 'r': 0.1388888888888889}\n",
      "On 03 Apr, Villagers of Irusamanallur, Eruvakkam, Kinar, Mettu Colony, Thotta Naval and KK Pudur say they have been suffering because of the thick smoke that emanates from the incinerator.\n",
      "On 2 Apr, in Mudurantakam area (Kanchipuram, TN), residents of KK Pudur village, most of them women, staged a sit-in protest at a community hall demanding the relocation of an incinerator handling medical waste in their neighbourhood.\n",
      "{'f': 0.2295081917549047, 'p': 0.25, 'r': 0.21212121212121213}\n",
      "{'f': 0.22648516989378686, 'p': 0.25, 'r': 0.21212121212121213}\n",
      "On 16 Feb, Earlier in the day, the body of Rana was taken to his native village Mohmadpur Bhudiya in Khatima where he was given a guard of honour in the presence of ministers Ajay Tamta, Yashpal Arya and other senior officials.\n",
      "On 17 Feb, the BJP held a protest outside a girls hostel in the Sudhowala area of Dehradun city (Dehradun, Uttarakhand).\n",
      "{'f': 0.2222222176611798, 'p': 0.17142857142857143, 'r': 0.3157894736842105}\n",
      "{'f': 0.19133791772165154, 'p': 0.17142857142857143, 'r': 0.3157894736842105}\n",
      "On 16 Feb, In 1962, when there was a massive fraud at Vijaya Bank and there were talks of merger with a bigger bank, employees voluntarily gave up their salaries for four months, till the bank was better able to meet its obligations.\n",
      "Assumed on 16 Feb, in Mulki (Dakshina Kannada, Karnataka), Congress, BJP, and JD-S members staged a protest against the merger of Dena Bank and Vijaya Bank with Bank of Baroda.\n",
      "{'f': 0.30303029825528016, 'p': 0.25, 'r': 0.38461538461538464}\n",
      "{'f': 0.16740217711022753, 'p': 0.15, 'r': 0.23076923076923078}\n",
      "On 16 Feb, Talking to media at the rally in Silchar, Congress leaders said the party demands capital punishment for the perpetrators and snatching of diplomatic ties with Pakistan.\n",
      "On February 15, people staged a candlelight march in Silchar city (Cachar, Assam), in protest against the attack by Pakistan-backed militants in Kashmir's Pulwama district, on February 14. Congress members took part in the protest.\n",
      "{'f': 0.14285713786352058, 'p': 0.14814814814814814, 'r': 0.13793103448275862}\n",
      "{'f': 0.10687057542161188, 'p': 0.1111111111111111, 'r': 0.10344827586206896}\n",
      "On 16 Feb, Talking to media at the rally in Silchar, Congress leaders said the party demands capital punishment for the perpetrators and snatching of diplomatic ties with Pakistan.\n",
      "On February 15, Congress members organized a prayers meeting at Rajiv Bhavan in Guwahati city (Kamrup Metropolitan, Assam), in protest against the attack by Pakistan-backed militants in Kashmir's Pulwama district, on February 14.\n",
      "{'f': 0.17543859150507862, 'p': 0.18518518518518517, 'r': 0.16666666666666666}\n",
      "{'f': 0.13957971852669976, 'p': 0.14814814814814814, 'r': 0.13333333333333333}\n",
      "On 17 Feb, The Bicholim taluka programmes were organised by the Mayem BJP block in Mayem village, and Bicholim Bachao Abhiyan and Bicholim block Congress committee in Bicholim town, respectively.\n",
      "Assumed on 15 Feb, in Bicholim town (North Goa, Goa), residents of Bicholim, including Bicholim Bachao Abhiyan and Bicholim block Congress committee, staged a candlelight rally to pay respects for soldiers killed during the Pulwama attack in J&K. \n",
      "{'f': 0.3050847410054583, 'p': 0.391304347826087, 'r': 0.25}\n",
      "{'f': 0.24820223382005877, 'p': 0.34782608695652173, 'r': 0.2222222222222222}\n",
      "On 07 Feb, However, the Opposition claimed that the government was misleading the House by giving false data.\n",
      "On 6 February, the opposition parties in Uttar Pradesh Assembly in Lucknow (Lucknow, Uttar Pradesh) staged a walkout protest over the issue of back payments for sugarcane farmers.\n",
      "{'f': 0.09756097085068434, 'p': 0.125, 'r': 0.08}\n",
      "{'f': 0.08934638202926204, 'p': 0.125, 'r': 0.08}\n",
      "On 01 Apr, Police sub-inspector V H Thakor, in charge of the police station, confirmed the incident and said that two FIRs will be lodged.“Since the members of the two parties sat together, it was hard to ascertain who provoked the fight,” said an official of the Sabarmati Riverfront (West) police station.\n",
      "On 31 March, workers of the Congress and the BJP scuffled during the shooting of a TV show in Ahmedabad city (Gujarat)\n",
      "{'f': 0.16129031832986485, 'p': 0.11627906976744186, 'r': 0.2631578947368421}\n",
      "{'f': 0.07676632007913178, 'p': 0.06976744186046512, 'r': 0.15789473684210525}\n",
      "On 28 Mar, In fact, our state president had conversation with them over phone and will meet them after coming back to Patna.”This is not for the first time that supporters of a particular Congress leader created ruckus in the party office.\n",
      "On 27 March, Congress workers from Nalanda staged a dharna at the party's state headquarters in Patna city (Bihar) against the decision to leave the seat for Hindustani Awam Morcha (Secular) led by former CM Jitan Ram Manjhi.\n",
      "{'f': 0.2337662287873167, 'p': 0.21951219512195122, 'r': 0.25}\n",
      "{'f': 0.12878859980730858, 'p': 0.12195121951219512, 'r': 0.1388888888888889}\n",
      "On 29 Mar, CPM, however, said Datta and three others were injured in Wednesday’s attack by miscreants from the ruling BJP and attributed it to lack of adequate security.\n",
      "On March 27, three suspected BJP workers pelted stones at the convoy of a CPI-M leader and MP in Udaipur area (Gomati, Tripura), as the convoy was returning from a a campaign programme. There had been reports of violent attacks in the state ahead of the Parliamentary elections.\n",
      "{'f': 0.2388059652840277, 'p': 0.2857142857142857, 'r': 0.20512820512820512}\n",
      "{'f': 0.17017140185291565, 'p': 0.21428571428571427, 'r': 0.15384615384615385}\n",
      "On 19 Mar, A decade back, a judgement was passed by the Rajasthan high court in which the municipality was ordered to shift the dairies running in the city or residential areas to the outskirts.\n",
      "On 18 March, dairy owners, a BJP MP and councillors staged a protest and surrounded a Jaipur Municipal Corporation (JMC) vehicle at Gurjar colony in Jaipur city (Rajasthan) for following the orders of the Rajasthan high court of seizing the cattle of dairy owners around Jaipuria Hospital. They demanded the release of the cattle.\n",
      "{'f': 0.23188405314849833, 'p': 0.2857142857142857, 'r': 0.1951219512195122}\n",
      "{'f': 0.16275461358149337, 'p': 0.21428571428571427, 'r': 0.14634146341463414}\n",
      "On 07 Apr, Ranjit Reddy asserted that the people would vote for the TRS in view of the state government's good work in development.\"Let's not talk about sitting MP.\n",
      "On 12 Mar, in Chevella tehsil (Rangareddy, Telangana), the INC along with other senior leaders from Ranga Reddy district staged a hunger strike protest against the ruling TRS for not implementing irrigation projects in the district. Police took 2 MP's, a former MP, and other leaders in custody and later released.\n",
      "{'f': 0.20289854596093268, 'p': 0.25925925925925924, 'r': 0.16666666666666666}\n",
      "{'f': 0.15951626835583815, 'p': 0.2222222222222222, 'r': 0.14285714285714285}\n",
      "On 08 Mar, I was coming out of the office\n",
      "On 7 March, supporters of suspended Hemchandracharya North Gujarat University (HNGU) vice chancellor BA Patel and Patan Congress MLA Kirit Patel clashed in Rajkot city (Gujarat) following the suspension of the vice chancellor on corruption charges.\n",
      "{'f': 0.14634145972635346, 'p': 0.3, 'r': 0.0967741935483871}\n",
      "{'f': 0.10337436263853059, 'p': 0.3, 'r': 0.0967741935483871}\n",
      "Rouge-1 average f measure: 0.22094563119963173\n",
      "Rouge-l average f measure: 0.15637066309025335\n",
      "Rouge-1 average p measure: 0.250809843062224\n",
      "Rouge-l average p measure: 0.1945787486577122\n",
      "Rouge-1 average r measure: 0.21354460618310142\n",
      "Rouge-l average r measure: 0.1614924834557444\n"
     ]
    }
   ],
   "source": [
    "i = 0\n",
    "r1_f = 0\n",
    "r1_p = 0\n",
    "r1_r=0\n",
    "rl_f=0\n",
    "rl_p=0\n",
    "rl_r =0\n",
    "while i < df1.shape[0]:\n",
    "    rouge = Rouge()\n",
    "    print(df1['summary'][i])\n",
    "    print(df2['notes'][i])\n",
    "    scores = rouge.get_scores(df1['summary'][i], df2['notes'][i])\n",
    "    print(scores[0]['rouge-1'])\n",
    "    print(scores[0]['rouge-l'])\n",
    "    r1_f+=scores[0]['rouge-1']['f']\n",
    "    rl_f+=scores[0]['rouge-l']['f']\n",
    "    r1_p+=scores[0]['rouge-1']['p']\n",
    "    rl_p+=scores[0]['rouge-l']['p']\n",
    "    r1_r+=scores[0]['rouge-1']['r']\n",
    "    rl_r+=scores[0]['rouge-l']['r']\n",
    "    i+=1\n",
    "i+=1\n",
    "print(\"Rouge-1 average f measure: \"+str(r1_f/i))\n",
    "print(\"Rouge-l average f measure: \"+str(rl_f/i))\n",
    "print(\"Rouge-1 average p measure: \"+str(r1_p/i))\n",
    "print(\"Rouge-l average p measure: \"+str(rl_p/i))\n",
    "print(\"Rouge-1 average r measure: \"+str(r1_r/i))\n",
    "print(\"Rouge-l average r measure: \"+str(rl_r/i))\n",
    "\n"
   ]
  },
  {
   "cell_type": "code",
   "execution_count": 43,
   "metadata": {},
   "outputs": [],
   "source": [
    "from decimal import Decimal\n",
    "r1 =[round((r1_f/i),3),round((r1_p/i),3),round((r1_r/i),3)]\n",
    "rl =[round((rl_f/i),3),round((rl_p/i),3),round((rl_r/i),3)]\n",
    "\n",
    "# r1New =[round((r1_f/i),3),round((r1_p/i),3),round((r1_r/i),3)]\n",
    "# rlNew =[round((rl_f/i),3),round((rl_p/i),3),round((rl_r/i),3)]\n",
    "\n",
    "# r1"
   ]
  },
  {
   "cell_type": "code",
   "execution_count": 44,
   "metadata": {},
   "outputs": [
    {
     "data": {
      "image/png": "[encoded data removed]",
      "text/plain": [
       "<Figure size 1152x432 with 1 Axes>"
      ]
     },
     "metadata": {},
     "output_type": "display_data"
    }
   ],
   "source": [
    "# data to plot\n",
    "n_groups = 5\n",
    "means_frank = (prfEvent[0],prfParties[0], prfLocation[0],r1[0],rl[0])\n",
    "means_guido = (prfEvent[1],prfParties[1], prfLocation[1],r1[1],rl[1])\n",
    "means_fmes = (prfEvent[1],prfParties[2], prfLocation[2],r1[2],rl[2])\n",
    "# create plot\n",
    "fig, ax = plt.subplots()\n",
    "index = np.arange(n_groups)\n",
    "bar_width = 0.3\n",
    "opacity = 0.6\n",
    " \n",
    "rects1 = plt.bar(index, means_frank, bar_width,\n",
    "alpha=opacity,\n",
    "color='b',\n",
    "label='Precision')\n",
    " \n",
    "rects2 = plt.bar(index + bar_width, means_guido, bar_width,\n",
    "alpha=opacity,\n",
    "color='r',\n",
    "label='Recall')\n",
    "\n",
    "rects3 = plt.bar(index + bar_width + bar_width, means_fmes, bar_width,\n",
    "alpha=opacity,\n",
    "color='y',\n",
    "label='F-Measure')\n",
    "\n",
    "plt.xlabel('Fields')\n",
    "plt.ylabel('Scores')\n",
    "plt.title('Scores by Field')\n",
    "plt.xticks(index + bar_width, ('Event Type','Parties Invovled', 'Location','Summary R-1', 'Summary R-L'))\n",
    "plt.legend()\n",
    "plt.rcParams[\"figure.figsize\"] = [16,6]\n",
    "plt.rcParams.update({'font.size': 17})\n",
    "plt.tight_layout()\n",
    "# plt.figure(num=None, figsize=(8, 6), dpi=80, facecolor='w', edgecolor='k')\n",
    "\n",
    "plt.show()\n"
   ]
  },
  {
   "cell_type": "code",
   "execution_count": null,
   "metadata": {},
   "outputs": [],
   "source": []
  }
 ],
 "metadata": {
  "kernelspec": {
   "display_name": "Python 3",
   "language": "python",
   "name": "python3"
  },
  "language_info": {
   "codemirror_mode": {
    "name": "ipython",
    "version": 3
   },
   "file_extension": ".py",
   "mimetype": "text/x-python",
   "name": "python",
   "nbconvert_exporter": "python",
   "pygments_lexer": "ipython3",
   "version": "3.6.5"
  }
 },
 "nbformat": 4,
 "nbformat_minor": 2
}
